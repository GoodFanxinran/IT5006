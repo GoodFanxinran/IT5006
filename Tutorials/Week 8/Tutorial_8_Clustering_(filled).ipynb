{
  "cells": [
    {
      "cell_type": "markdown",
      "metadata": {
        "id": "kr7TwflWf1at"
      },
      "source": [
        "# Week 8 - Clustering (Unsupervised Learning)\n",
        "\n",
        "## Learning Objectives\n",
        "+ Hierarchical Clustering\n",
        "+ K-Means clustering\n",
        "    + Difference with hierarchical clustering\n",
        "    + Reducing the dimensions of high dimensional data\n",
        "        + PCA\n",
        "        + t-SNE\n",
        "    + Methods of finding number of clusters:\n",
        "        + Using silhoutte analysis\n",
        "        + Using elbow method\n",
        "\n",
        "The contents of this tutorial are based on the chapter 10 of \"An Introduction to Statistical Learning\" by James G. et. al., python [notebook](https://nbviewer.jupyter.org/github/JWarmenhoven/ISL-python/blob/master/Notebooks/Chapter%2010.ipynb#Lab-3:-NCI60-Data-Example) on same chapter, sklearn [tutorial](https://scikit-learn.org/stable/auto_examples/cluster/plot_kmeans_silhouette_analysis.html#sphx-glr-auto-examples-cluster-plot-kmeans-silhouette-analysis-py) on k-means, sklearn [tutorial](https://scikit-learn.org/stable/modules/clustering.html) on clustering, sklearn [tutorial](https://scikit-learn.org/stable/auto_examples/cluster/plot_agglomerative_dendrogram.html) on agglomerative clustering, and introduction to dimensionality reduction [tutorial](https://www.datacamp.com/community/tutorials/introduction-t-sne)."
      ]
    },
    {
      "cell_type": "markdown",
      "metadata": {
        "id": "wKZ93FFDf1ax"
      },
      "source": [
        "## Loading the NCI-60 dataset\n",
        "\n",
        "NCI60 is cancer cell line microarray data, which consists of 6,830 gene expression measurements on 64 cancer cell lines. So, our data is 64x6830, implying that the n<\\<p. In case of such high-dimensional data, methods such as regression do not remain applicable. Dimensionality reduction is also useful for such data, before applying different ML models. \n",
        "\n",
        "Gene data is usually always a high-dimensionality data, and is useful in precision medicine - i.e. to recommend personalized treatment to patients. A common approach for such personalized treatment is categorizing the patients into various sub-types. For such sub-typing, clustering is usually performed and can be used to identify patients who are similar - to analyze their treatments and decide the further course of treatment for the patient under consideration.  \n",
        "\n",
        "In our data, though we have cancer type label for each cell-line, in real-life data, we typically do not have this for all the patients, making the clustering quite important. Usually clustering methods are then analyzed on various datasets, and validation from the domain - such as the cancer types in our case are used to identifying a more superior technique to be used. \n",
        "\n",
        "Our data has gene expression measurement which is usually achieved by quantifying levels of the gene product, which is often a protein."
      ]
    },
    {
      "cell_type": "code",
      "execution_count": 10,
      "metadata": {
        "id": "0NxaydOEf1az"
      },
      "outputs": [],
      "source": [
        "import pandas as pd\n",
        "import numpy as np"
      ]
    },
    {
      "cell_type": "code",
      "execution_count": 11,
      "metadata": {
        "id": "y31gPczif1a0"
      },
      "outputs": [],
      "source": [
        "rng = np.random.RandomState(10)"
      ]
    },
    {
      "cell_type": "code",
      "execution_count": 14,
      "metadata": {
        "id": "peV16xW7f1a0"
      },
      "outputs": [],
      "source": [
        "# df = pd.read_csv('https://web.stanford.edu/~hastie/ElemStatLearn/datasets/nci.data.csv')\n",
        "df = pd.read_csv('https://web.stanford.edu/~hastie/ElemStatLearn/datasets/nci.data.csv', skiprows=1, header=None).T\n",
        "# from pandas 0.19.2 onwards, we can directly pass the url to read_csv"
      ]
    },
    {
      "cell_type": "code",
      "source": [
        "df.head()"
      ],
      "metadata": {
        "id": "zbicwPxo59Vi",
        "colab": {
          "base_uri": "https://localhost:8080/",
          "height": 299
        },
        "outputId": "1ff04671-41e1-4bdf-ed1f-c03c023aa243"
      },
      "execution_count": 17,
      "outputs": [
        {
          "output_type": "execute_result",
          "data": {
            "text/html": [
              "\n",
              "  <div id=\"df-f5f13e41-6818-4b50-a13c-3ef8df69188d\">\n",
              "    <div class=\"colab-df-container\">\n",
              "      <div>\n",
              "<style scoped>\n",
              "    .dataframe tbody tr th:only-of-type {\n",
              "        vertical-align: middle;\n",
              "    }\n",
              "\n",
              "    .dataframe tbody tr th {\n",
              "        vertical-align: top;\n",
              "    }\n",
              "\n",
              "    .dataframe thead th {\n",
              "        text-align: right;\n",
              "    }\n",
              "</style>\n",
              "<table border=\"1\" class=\"dataframe\">\n",
              "  <thead>\n",
              "    <tr style=\"text-align: right;\">\n",
              "      <th></th>\n",
              "      <th>g1</th>\n",
              "      <th>g2</th>\n",
              "      <th>g3</th>\n",
              "      <th>g4</th>\n",
              "      <th>g5</th>\n",
              "      <th>g6</th>\n",
              "      <th>g7</th>\n",
              "      <th>g8</th>\n",
              "      <th>g9</th>\n",
              "      <th>g10</th>\n",
              "      <th>...</th>\n",
              "      <th>g6821</th>\n",
              "      <th>g6822</th>\n",
              "      <th>g6823</th>\n",
              "      <th>g6824</th>\n",
              "      <th>g6825</th>\n",
              "      <th>g6826</th>\n",
              "      <th>g6827</th>\n",
              "      <th>g6828</th>\n",
              "      <th>g6829</th>\n",
              "      <th>g6830</th>\n",
              "    </tr>\n",
              "  </thead>\n",
              "  <tbody>\n",
              "    <tr>\n",
              "      <th>1</th>\n",
              "      <td>0.3</td>\n",
              "      <td>1.18</td>\n",
              "      <td>0.55</td>\n",
              "      <td>1.14</td>\n",
              "      <td>-0.265</td>\n",
              "      <td>-0.07</td>\n",
              "      <td>0.35</td>\n",
              "      <td>-0.315</td>\n",
              "      <td>-0.45</td>\n",
              "      <td>-0.65498</td>\n",
              "      <td>...</td>\n",
              "      <td>-0.99002</td>\n",
              "      <td>0.0</td>\n",
              "      <td>0.03</td>\n",
              "      <td>-0.175</td>\n",
              "      <td>0.629981</td>\n",
              "      <td>-0.03</td>\n",
              "      <td>0.0</td>\n",
              "      <td>0.28</td>\n",
              "      <td>-0.34</td>\n",
              "      <td>-1.93</td>\n",
              "    </tr>\n",
              "    <tr>\n",
              "      <th>2</th>\n",
              "      <td>0.679961</td>\n",
              "      <td>1.289961</td>\n",
              "      <td>0.169961</td>\n",
              "      <td>0.379961</td>\n",
              "      <td>0.464961</td>\n",
              "      <td>0.579961</td>\n",
              "      <td>0.699961</td>\n",
              "      <td>0.724961</td>\n",
              "      <td>-0.040039</td>\n",
              "      <td>-0.285019</td>\n",
              "      <td>...</td>\n",
              "      <td>-0.270058</td>\n",
              "      <td>-0.300039</td>\n",
              "      <td>-0.250039</td>\n",
              "      <td>-0.535039</td>\n",
              "      <td>0.109941</td>\n",
              "      <td>-0.860039</td>\n",
              "      <td>-1.250049</td>\n",
              "      <td>-0.770039</td>\n",
              "      <td>-0.390039</td>\n",
              "      <td>-2.000039</td>\n",
              "    </tr>\n",
              "    <tr>\n",
              "      <th>3</th>\n",
              "      <td>0.94</td>\n",
              "      <td>-0.04</td>\n",
              "      <td>-0.17</td>\n",
              "      <td>-0.04</td>\n",
              "      <td>-0.605</td>\n",
              "      <td>0.0</td>\n",
              "      <td>0.09</td>\n",
              "      <td>0.645</td>\n",
              "      <td>0.43</td>\n",
              "      <td>0.475019</td>\n",
              "      <td>...</td>\n",
              "      <td>0.319981</td>\n",
              "      <td>0.12</td>\n",
              "      <td>-0.74</td>\n",
              "      <td>-0.595</td>\n",
              "      <td>-0.27002</td>\n",
              "      <td>-0.15</td>\n",
              "      <td>0.0</td>\n",
              "      <td>-0.12</td>\n",
              "      <td>-0.41</td>\n",
              "      <td>0.0</td>\n",
              "    </tr>\n",
              "    <tr>\n",
              "      <th>4</th>\n",
              "      <td>0.28</td>\n",
              "      <td>-0.31</td>\n",
              "      <td>0.68</td>\n",
              "      <td>-0.81</td>\n",
              "      <td>0.625</td>\n",
              "      <td>-0.0</td>\n",
              "      <td>0.17</td>\n",
              "      <td>0.245</td>\n",
              "      <td>0.02</td>\n",
              "      <td>0.095019</td>\n",
              "      <td>...</td>\n",
              "      <td>-1.24002</td>\n",
              "      <td>-0.11</td>\n",
              "      <td>-0.16</td>\n",
              "      <td>0.095</td>\n",
              "      <td>-0.350019</td>\n",
              "      <td>-0.3</td>\n",
              "      <td>-1.15001</td>\n",
              "      <td>1.09</td>\n",
              "      <td>-0.26</td>\n",
              "      <td>-1.1</td>\n",
              "    </tr>\n",
              "    <tr>\n",
              "      <th>5</th>\n",
              "      <td>0.485</td>\n",
              "      <td>-0.465</td>\n",
              "      <td>0.395</td>\n",
              "      <td>0.905</td>\n",
              "      <td>0.2</td>\n",
              "      <td>-0.005</td>\n",
              "      <td>0.085</td>\n",
              "      <td>0.11</td>\n",
              "      <td>0.235</td>\n",
              "      <td>1.490019</td>\n",
              "      <td>...</td>\n",
              "      <td>0.55498</td>\n",
              "      <td>-0.775</td>\n",
              "      <td>-0.515</td>\n",
              "      <td>-0.32</td>\n",
              "      <td>0.63498</td>\n",
              "      <td>0.605</td>\n",
              "      <td>0.0</td>\n",
              "      <td>0.745</td>\n",
              "      <td>0.425</td>\n",
              "      <td>0.145</td>\n",
              "    </tr>\n",
              "  </tbody>\n",
              "</table>\n",
              "<p>5 rows × 6830 columns</p>\n",
              "</div>\n",
              "      <button class=\"colab-df-convert\" onclick=\"convertToInteractive('df-f5f13e41-6818-4b50-a13c-3ef8df69188d')\"\n",
              "              title=\"Convert this dataframe to an interactive table.\"\n",
              "              style=\"display:none;\">\n",
              "        \n",
              "  <svg xmlns=\"http://www.w3.org/2000/svg\" height=\"24px\"viewBox=\"0 0 24 24\"\n",
              "       width=\"24px\">\n",
              "    <path d=\"M0 0h24v24H0V0z\" fill=\"none\"/>\n",
              "    <path d=\"M18.56 5.44l.94 2.06.94-2.06 2.06-.94-2.06-.94-.94-2.06-.94 2.06-2.06.94zm-11 1L8.5 8.5l.94-2.06 2.06-.94-2.06-.94L8.5 2.5l-.94 2.06-2.06.94zm10 10l.94 2.06.94-2.06 2.06-.94-2.06-.94-.94-2.06-.94 2.06-2.06.94z\"/><path d=\"M17.41 7.96l-1.37-1.37c-.4-.4-.92-.59-1.43-.59-.52 0-1.04.2-1.43.59L10.3 9.45l-7.72 7.72c-.78.78-.78 2.05 0 2.83L4 21.41c.39.39.9.59 1.41.59.51 0 1.02-.2 1.41-.59l7.78-7.78 2.81-2.81c.8-.78.8-2.07 0-2.86zM5.41 20L4 18.59l7.72-7.72 1.47 1.35L5.41 20z\"/>\n",
              "  </svg>\n",
              "      </button>\n",
              "      \n",
              "  <style>\n",
              "    .colab-df-container {\n",
              "      display:flex;\n",
              "      flex-wrap:wrap;\n",
              "      gap: 12px;\n",
              "    }\n",
              "\n",
              "    .colab-df-convert {\n",
              "      background-color: #E8F0FE;\n",
              "      border: none;\n",
              "      border-radius: 50%;\n",
              "      cursor: pointer;\n",
              "      display: none;\n",
              "      fill: #1967D2;\n",
              "      height: 32px;\n",
              "      padding: 0 0 0 0;\n",
              "      width: 32px;\n",
              "    }\n",
              "\n",
              "    .colab-df-convert:hover {\n",
              "      background-color: #E2EBFA;\n",
              "      box-shadow: 0px 1px 2px rgba(60, 64, 67, 0.3), 0px 1px 3px 1px rgba(60, 64, 67, 0.15);\n",
              "      fill: #174EA6;\n",
              "    }\n",
              "\n",
              "    [theme=dark] .colab-df-convert {\n",
              "      background-color: #3B4455;\n",
              "      fill: #D2E3FC;\n",
              "    }\n",
              "\n",
              "    [theme=dark] .colab-df-convert:hover {\n",
              "      background-color: #434B5C;\n",
              "      box-shadow: 0px 1px 3px 1px rgba(0, 0, 0, 0.15);\n",
              "      filter: drop-shadow(0px 1px 2px rgba(0, 0, 0, 0.3));\n",
              "      fill: #FFFFFF;\n",
              "    }\n",
              "  </style>\n",
              "\n",
              "      <script>\n",
              "        const buttonEl =\n",
              "          document.querySelector('#df-f5f13e41-6818-4b50-a13c-3ef8df69188d button.colab-df-convert');\n",
              "        buttonEl.style.display =\n",
              "          google.colab.kernel.accessAllowed ? 'block' : 'none';\n",
              "\n",
              "        async function convertToInteractive(key) {\n",
              "          const element = document.querySelector('#df-f5f13e41-6818-4b50-a13c-3ef8df69188d');\n",
              "          const dataTable =\n",
              "            await google.colab.kernel.invokeFunction('convertToInteractive',\n",
              "                                                     [key], {});\n",
              "          if (!dataTable) return;\n",
              "\n",
              "          const docLinkHtml = 'Like what you see? Visit the ' +\n",
              "            '<a target=\"_blank\" href=https://colab.research.google.com/notebooks/data_table.ipynb>data table notebook</a>'\n",
              "            + ' to learn more about interactive tables.';\n",
              "          element.innerHTML = '';\n",
              "          dataTable['output_type'] = 'display_data';\n",
              "          await google.colab.output.renderOutput(dataTable, element);\n",
              "          const docLink = document.createElement('div');\n",
              "          docLink.innerHTML = docLinkHtml;\n",
              "          element.appendChild(docLink);\n",
              "        }\n",
              "      </script>\n",
              "    </div>\n",
              "  </div>\n",
              "  "
            ],
            "text/plain": [
              "0        g1        g2        g3        g4        g5        g6        g7  \\\n",
              "1       0.3      1.18      0.55      1.14    -0.265     -0.07      0.35   \n",
              "2  0.679961  1.289961  0.169961  0.379961  0.464961  0.579961  0.699961   \n",
              "3      0.94     -0.04     -0.17     -0.04    -0.605       0.0      0.09   \n",
              "4      0.28     -0.31      0.68     -0.81     0.625      -0.0      0.17   \n",
              "5     0.485    -0.465     0.395     0.905       0.2    -0.005     0.085   \n",
              "\n",
              "0        g8        g9       g10  ...     g6821     g6822     g6823     g6824  \\\n",
              "1    -0.315     -0.45  -0.65498  ...  -0.99002       0.0      0.03    -0.175   \n",
              "2  0.724961 -0.040039 -0.285019  ... -0.270058 -0.300039 -0.250039 -0.535039   \n",
              "3     0.645      0.43  0.475019  ...  0.319981      0.12     -0.74    -0.595   \n",
              "4     0.245      0.02  0.095019  ...  -1.24002     -0.11     -0.16     0.095   \n",
              "5      0.11     0.235  1.490019  ...   0.55498    -0.775    -0.515     -0.32   \n",
              "\n",
              "0     g6825     g6826     g6827     g6828     g6829     g6830  \n",
              "1  0.629981     -0.03       0.0      0.28     -0.34     -1.93  \n",
              "2  0.109941 -0.860039 -1.250049 -0.770039 -0.390039 -2.000039  \n",
              "3  -0.27002     -0.15       0.0     -0.12     -0.41       0.0  \n",
              "4 -0.350019      -0.3  -1.15001      1.09     -0.26      -1.1  \n",
              "5   0.63498     0.605       0.0     0.745     0.425     0.145  \n",
              "\n",
              "[5 rows x 6830 columns]"
            ]
          },
          "metadata": {},
          "execution_count": 17
        }
      ]
    },
    {
      "cell_type": "code",
      "execution_count": 16,
      "metadata": {
        "id": "sCcNnB5if1a1"
      },
      "outputs": [],
      "source": [
        "\n",
        "df.columns = df.iloc[0]                            # Set new column names\n",
        "df.drop(0,inplace=True)                            # Drop duplicated row"
      ]
    },
    {
      "cell_type": "code",
      "execution_count": 18,
      "metadata": {
        "id": "IWSkTuwmf1a3"
      },
      "outputs": [],
      "source": [
        "labs = pd.read_csv('https://web.stanford.edu/~hastie/ElemStatLearn/datasets/nci.label.txt', names=['type'], dtype=\"category\")"
      ]
    },
    {
      "cell_type": "code",
      "execution_count": 22,
      "metadata": {
        "id": "GA-8Yj2rf1a4"
      },
      "outputs": [],
      "source": [
        "labs.type = labs.type.str.strip()"
      ]
    },
    {
      "cell_type": "code",
      "execution_count": 23,
      "metadata": {
        "scrolled": true,
        "id": "VMyZLXsEf1a5",
        "colab": {
          "base_uri": "https://localhost:8080/",
          "height": 206
        },
        "outputId": "670d969d-79c5-469e-9e6e-c55249e62928"
      },
      "outputs": [
        {
          "output_type": "execute_result",
          "data": {
            "text/html": [
              "\n",
              "  <div id=\"df-72bfe8f4-1e4d-4745-bf2e-d6268f6509f5\">\n",
              "    <div class=\"colab-df-container\">\n",
              "      <div>\n",
              "<style scoped>\n",
              "    .dataframe tbody tr th:only-of-type {\n",
              "        vertical-align: middle;\n",
              "    }\n",
              "\n",
              "    .dataframe tbody tr th {\n",
              "        vertical-align: top;\n",
              "    }\n",
              "\n",
              "    .dataframe thead th {\n",
              "        text-align: right;\n",
              "    }\n",
              "</style>\n",
              "<table border=\"1\" class=\"dataframe\">\n",
              "  <thead>\n",
              "    <tr style=\"text-align: right;\">\n",
              "      <th></th>\n",
              "      <th>type</th>\n",
              "    </tr>\n",
              "  </thead>\n",
              "  <tbody>\n",
              "    <tr>\n",
              "      <th>0</th>\n",
              "      <td>CNS</td>\n",
              "    </tr>\n",
              "    <tr>\n",
              "      <th>1</th>\n",
              "      <td>CNS</td>\n",
              "    </tr>\n",
              "    <tr>\n",
              "      <th>2</th>\n",
              "      <td>CNS</td>\n",
              "    </tr>\n",
              "    <tr>\n",
              "      <th>3</th>\n",
              "      <td>RENAL</td>\n",
              "    </tr>\n",
              "    <tr>\n",
              "      <th>4</th>\n",
              "      <td>BREAST</td>\n",
              "    </tr>\n",
              "  </tbody>\n",
              "</table>\n",
              "</div>\n",
              "      <button class=\"colab-df-convert\" onclick=\"convertToInteractive('df-72bfe8f4-1e4d-4745-bf2e-d6268f6509f5')\"\n",
              "              title=\"Convert this dataframe to an interactive table.\"\n",
              "              style=\"display:none;\">\n",
              "        \n",
              "  <svg xmlns=\"http://www.w3.org/2000/svg\" height=\"24px\"viewBox=\"0 0 24 24\"\n",
              "       width=\"24px\">\n",
              "    <path d=\"M0 0h24v24H0V0z\" fill=\"none\"/>\n",
              "    <path d=\"M18.56 5.44l.94 2.06.94-2.06 2.06-.94-2.06-.94-.94-2.06-.94 2.06-2.06.94zm-11 1L8.5 8.5l.94-2.06 2.06-.94-2.06-.94L8.5 2.5l-.94 2.06-2.06.94zm10 10l.94 2.06.94-2.06 2.06-.94-2.06-.94-.94-2.06-.94 2.06-2.06.94z\"/><path d=\"M17.41 7.96l-1.37-1.37c-.4-.4-.92-.59-1.43-.59-.52 0-1.04.2-1.43.59L10.3 9.45l-7.72 7.72c-.78.78-.78 2.05 0 2.83L4 21.41c.39.39.9.59 1.41.59.51 0 1.02-.2 1.41-.59l7.78-7.78 2.81-2.81c.8-.78.8-2.07 0-2.86zM5.41 20L4 18.59l7.72-7.72 1.47 1.35L5.41 20z\"/>\n",
              "  </svg>\n",
              "      </button>\n",
              "      \n",
              "  <style>\n",
              "    .colab-df-container {\n",
              "      display:flex;\n",
              "      flex-wrap:wrap;\n",
              "      gap: 12px;\n",
              "    }\n",
              "\n",
              "    .colab-df-convert {\n",
              "      background-color: #E8F0FE;\n",
              "      border: none;\n",
              "      border-radius: 50%;\n",
              "      cursor: pointer;\n",
              "      display: none;\n",
              "      fill: #1967D2;\n",
              "      height: 32px;\n",
              "      padding: 0 0 0 0;\n",
              "      width: 32px;\n",
              "    }\n",
              "\n",
              "    .colab-df-convert:hover {\n",
              "      background-color: #E2EBFA;\n",
              "      box-shadow: 0px 1px 2px rgba(60, 64, 67, 0.3), 0px 1px 3px 1px rgba(60, 64, 67, 0.15);\n",
              "      fill: #174EA6;\n",
              "    }\n",
              "\n",
              "    [theme=dark] .colab-df-convert {\n",
              "      background-color: #3B4455;\n",
              "      fill: #D2E3FC;\n",
              "    }\n",
              "\n",
              "    [theme=dark] .colab-df-convert:hover {\n",
              "      background-color: #434B5C;\n",
              "      box-shadow: 0px 1px 3px 1px rgba(0, 0, 0, 0.15);\n",
              "      filter: drop-shadow(0px 1px 2px rgba(0, 0, 0, 0.3));\n",
              "      fill: #FFFFFF;\n",
              "    }\n",
              "  </style>\n",
              "\n",
              "      <script>\n",
              "        const buttonEl =\n",
              "          document.querySelector('#df-72bfe8f4-1e4d-4745-bf2e-d6268f6509f5 button.colab-df-convert');\n",
              "        buttonEl.style.display =\n",
              "          google.colab.kernel.accessAllowed ? 'block' : 'none';\n",
              "\n",
              "        async function convertToInteractive(key) {\n",
              "          const element = document.querySelector('#df-72bfe8f4-1e4d-4745-bf2e-d6268f6509f5');\n",
              "          const dataTable =\n",
              "            await google.colab.kernel.invokeFunction('convertToInteractive',\n",
              "                                                     [key], {});\n",
              "          if (!dataTable) return;\n",
              "\n",
              "          const docLinkHtml = 'Like what you see? Visit the ' +\n",
              "            '<a target=\"_blank\" href=https://colab.research.google.com/notebooks/data_table.ipynb>data table notebook</a>'\n",
              "            + ' to learn more about interactive tables.';\n",
              "          element.innerHTML = '';\n",
              "          dataTable['output_type'] = 'display_data';\n",
              "          await google.colab.output.renderOutput(dataTable, element);\n",
              "          const docLink = document.createElement('div');\n",
              "          docLink.innerHTML = docLinkHtml;\n",
              "          element.appendChild(docLink);\n",
              "        }\n",
              "      </script>\n",
              "    </div>\n",
              "  </div>\n",
              "  "
            ],
            "text/plain": [
              "     type\n",
              "0     CNS\n",
              "1     CNS\n",
              "2     CNS\n",
              "3   RENAL\n",
              "4  BREAST"
            ]
          },
          "metadata": {},
          "execution_count": 23
        }
      ],
      "source": [
        "labs.head()"
      ]
    },
    {
      "cell_type": "code",
      "execution_count": 24,
      "metadata": {
        "id": "h5MwpIO5f1a5",
        "colab": {
          "base_uri": "https://localhost:8080/"
        },
        "outputId": "788c3a38-1462-40c8-a453-b64b35985ffb"
      },
      "outputs": [
        {
          "output_type": "execute_result",
          "data": {
            "text/plain": [
              "type       \n",
              "NSCLC          9\n",
              "RENAL          9\n",
              "MELANOMA       8\n",
              "BREAST         7\n",
              "COLON          7\n",
              "LEUKEMIA       6\n",
              "OVARIAN        6\n",
              "CNS            5\n",
              "PROSTATE       2\n",
              "K562A-repro    1\n",
              "K562B-repro    1\n",
              "MCF7A-repro    1\n",
              "MCF7D-repro    1\n",
              "UNKNOWN        1\n",
              "dtype: int64"
            ]
          },
          "metadata": {},
          "execution_count": 24
        }
      ],
      "source": [
        "labs.value_counts()"
      ]
    },
    {
      "cell_type": "code",
      "execution_count": 25,
      "metadata": {
        "id": "ej4s4VDTf1a6",
        "colab": {
          "base_uri": "https://localhost:8080/"
        },
        "outputId": "3d84ad31-2360-473d-84ca-61e3480afbb5"
      },
      "outputs": [
        {
          "output_type": "execute_result",
          "data": {
            "text/plain": [
              "type    14\n",
              "dtype: int64"
            ]
          },
          "metadata": {},
          "execution_count": 25
        }
      ],
      "source": [
        "labs.nunique()"
      ]
    },
    {
      "cell_type": "markdown",
      "metadata": {
        "id": "l48ylK5Mf1a6"
      },
      "source": [
        "# Hierarchical Clustering\n",
        "\n",
        "Let us first try to find out whether or not the observations cluster into distinct types of cancer. \n",
        "\n",
        "Here we have an option to standardize the variables to have mean zero and standard deviation one. However, this step is optional and should be performed only if we want each gene to be on the same scale. We could reasonably argue that it is better not to scale genes. However, it is a choice to make as a data analyst, and also evaluate experimentally.\n",
        "\n",
        "## Agglomerative Clustering\n",
        "This is a bottom-up clustering, and is built starting from the leaves and combining clusters up to the trunk. Each dendogram will represent each of our 64 samples. As we move up the tree, some leaves begin to fuse into branches. These correspond to\n",
        "observations that are similar to each other. As we move higher up the tree, branches themselves fuse, either with leaves or other branches. The earlier (lower in the tree) fusions occur, the more similar the groups of observations are to each other. Thus, the height of the fusion depicts how different the observations are.\n",
        "\n",
        "![Agglomerative Clustering](https://dashee87.github.io/images/hierarch.gif)\n",
        "\n",
        "The [```AgglomerativeClustering```](https://scikit-learn.org/stable/modules/generated/sklearn.cluster.AgglomerativeClustering.html) class in sklearn implements four different types of linkages. The linkage criterion determines which distance to use between sets of observation. The algorithm will merge the pairs of cluster that minimize this criterion.\n",
        "+ ‘ward’ minimizes the variance of the clusters being merged.\n",
        "+ ‘average’ uses the average of the distances of each observation of the two sets.\n",
        "+ ‘complete’ or ‘maximum’ linkage uses the maximum distances between all observations of the two sets.\n",
        "+ ‘single’ uses the minimum of the distances between all observations of the two sets.\n",
        "\n",
        "The default is ward. Usually complete linkage is used for Gene data."
      ]
    },
    {
      "cell_type": "code",
      "execution_count": 26,
      "metadata": {
        "id": "6uAZybcuf1a7"
      },
      "outputs": [],
      "source": [
        "from scipy.cluster.hierarchy import dendrogram\n",
        "from sklearn.cluster import AgglomerativeClustering\n",
        "import matplotlib.pyplot as plt\n",
        "%matplotlib inline"
      ]
    },
    {
      "cell_type": "markdown",
      "metadata": {
        "id": "Ss1YcUvcf1a8"
      },
      "source": [
        "Let us write a function to plot dendogram. We use the [```cluster.hierarchy.dendogram```](https://docs.scipy.org/doc/scipy/reference/generated/scipy.cluster.hierarchy.dendrogram.html#scipy.cluster.hierarchy.dendrogram). The [```cluster.hierarchy```]() is available in scipy which has functions that cut hierarchical clusterings into flat clusterings or find the roots of the forest formed by a cut by providing the flat cluster ids of each observation. We will see usage of both these API - the sklearn and the scipy."
      ]
    },
    {
      "cell_type": "code",
      "execution_count": 27,
      "metadata": {
        "id": "bWg_pSHff1a9",
        "colab": {
          "base_uri": "https://localhost:8080/"
        },
        "outputId": "9319ac41-dea5-4f09-8687-3314774d2435"
      },
      "outputs": [
        {
          "output_type": "execute_result",
          "data": {
            "text/plain": [
              "array([57, 48, 45, 61, 35, 63, 55, 33, 32, 59, 43, 56, 44, 49, 50, 46, 36,\n",
              "       24, 41, 37, 60, 40, 34, 42, 38, 39, 19, 31, 47, 16, 51, 20, 18, 52,\n",
              "       29, 27, 58, 17, 53,  9, 28, 54, 15, 62, 23,  8, 11, 13, 30,  7, 22,\n",
              "       21,  3, 26, 25, 10, 14, 12,  4,  5,  6,  2,  1,  0])"
            ]
          },
          "metadata": {},
          "execution_count": 27
        }
      ],
      "source": [
        "model = AgglomerativeClustering(distance_threshold=0, n_clusters=None)\n",
        "\n",
        "model = model.fit(df)\n",
        "model.labels_"
      ]
    },
    {
      "cell_type": "code",
      "execution_count": 28,
      "metadata": {
        "id": "ALDEM1Frf1a8"
      },
      "outputs": [],
      "source": [
        "def plot_dendrogram(model, **kwargs):\n",
        "    # Create linkage matrix and then plot the dendrogram\n",
        "\n",
        "    # create the counts of samples under each node\n",
        "    counts = np.zeros(model.children_.shape[0])\n",
        "    n_samples = len(model.labels_)\n",
        "    for i, merge in enumerate(model.children_):\n",
        "        current_count = 0\n",
        "        for child_idx in merge:\n",
        "            if child_idx < n_samples:\n",
        "                current_count += 1  # leaf node\n",
        "            else:\n",
        "                current_count += counts[child_idx - n_samples]\n",
        "        counts[i] = current_count\n",
        "\n",
        "    linkage_matrix = np.column_stack(\n",
        "        [model.children_, model.distances_, counts]\n",
        "    ).astype(float)\n",
        "\n",
        "    # Plot the corresponding dendrogram\n",
        "    dendrogram(linkage_matrix, **kwargs)\n"
      ]
    },
    {
      "cell_type": "code",
      "execution_count": 30,
      "metadata": {
        "scrolled": true,
        "id": "XZMiujkBf1a9",
        "colab": {
          "base_uri": "https://localhost:8080/",
          "height": 621
        },
        "outputId": "0e7399e2-a300-4b0b-8342-b3cd35567a4b"
      },
      "outputs": [
        {
          "output_type": "display_data",
          "data": {
            "image/png": "[encoded data removed]",
            "text/plain": [
              "<Figure size 720x720 with 1 Axes>"
            ]
          },
          "metadata": {
            "needs_background": "light"
          }
        }
      ],
      "source": [
        "plt.figure(figsize=(10,10))\n",
        "plt.title('Hierarchical Clustering Dendrogram')\n",
        "# plot the top three levels of the dendrogram, where p is the number of levels to truncate at\n",
        "# how do we use plot_dendrogram?\n",
        "plot_dendrogram(model, truncate_mode = \"level\",p=4, labels =df.index, orientation = \"right\")\n",
        "plt.xlabel(\"Number of points in node (or index of point if no parenthesis).\")\n",
        "plt.show()"
      ]
    },
    {
      "cell_type": "markdown",
      "source": [
        "The ```model.children_``` attribute we use shows the children of each non-leaf node. Values less than ```n_samples``` correspond to leaves of the tree which are the original samples. A node ```i``` greater than or equal to ```n_samples``` is a non-leaf node and has children ```children_[i - n_samples]```. Alternatively at the i-th iteration, ```children[i][0]``` and ```children[i][1]``` are merged to form node ```n_samples + i```."
      ],
      "metadata": {
        "id": "3qsumGUxOEMQ"
      }
    },
    {
      "cell_type": "code",
      "source": [
        "model.children_[:5,:] "
      ],
      "metadata": {
        "id": "AmCLHNAxOBAq",
        "colab": {
          "base_uri": "https://localhost:8080/"
        },
        "outputId": "3158d056-8654-49bb-f961-9883fdc3f957"
      },
      "execution_count": 31,
      "outputs": [
        {
          "output_type": "execute_result",
          "data": {
            "text/plain": [
              "array([[49, 50],\n",
              "       [56, 57],\n",
              "       [48, 64],\n",
              "       [20, 21],\n",
              "       [34, 35]])"
            ]
          },
          "metadata": {},
          "execution_count": 31
        }
      ]
    },
    {
      "cell_type": "markdown",
      "metadata": {
        "id": "YQItPmwUf1a9"
      },
      "source": [
        "Now we can use the scipy API and also scale the gene data and see the clusters. "
      ]
    },
    {
      "cell_type": "code",
      "execution_count": 32,
      "metadata": {
        "id": "DWFXuRl_f1a-"
      },
      "outputs": [],
      "source": [
        "from scipy.cluster import hierarchy\n",
        "from sklearn.preprocessing import scale"
      ]
    },
    {
      "cell_type": "code",
      "execution_count": 33,
      "metadata": {
        "id": "0XkUg9T4f1a-"
      },
      "outputs": [],
      "source": [
        "X = pd.DataFrame(scale(df), index=labs.type, columns=df.columns)"
      ]
    },
    {
      "cell_type": "code",
      "source": [
        "X"
      ],
      "metadata": {
        "colab": {
          "base_uri": "https://localhost:8080/",
          "height": 519
        },
        "id": "InTdwzCoDDr0",
        "outputId": "fd822b7a-0697-47ee-f90c-6850e00c9868"
      },
      "execution_count": 34,
      "outputs": [
        {
          "output_type": "execute_result",
          "data": {
            "text/html": [
              "\n",
              "  <div id=\"df-91acf20a-ebbc-43ec-b2e5-85bd41e0cf9d\">\n",
              "    <div class=\"colab-df-container\">\n",
              "      <div>\n",
              "<style scoped>\n",
              "    .dataframe tbody tr th:only-of-type {\n",
              "        vertical-align: middle;\n",
              "    }\n",
              "\n",
              "    .dataframe tbody tr th {\n",
              "        vertical-align: top;\n",
              "    }\n",
              "\n",
              "    .dataframe thead th {\n",
              "        text-align: right;\n",
              "    }\n",
              "</style>\n",
              "<table border=\"1\" class=\"dataframe\">\n",
              "  <thead>\n",
              "    <tr style=\"text-align: right;\">\n",
              "      <th></th>\n",
              "      <th>g1</th>\n",
              "      <th>g2</th>\n",
              "      <th>g3</th>\n",
              "      <th>g4</th>\n",
              "      <th>g5</th>\n",
              "      <th>g6</th>\n",
              "      <th>g7</th>\n",
              "      <th>g8</th>\n",
              "      <th>g9</th>\n",
              "      <th>g10</th>\n",
              "      <th>...</th>\n",
              "      <th>g6821</th>\n",
              "      <th>g6822</th>\n",
              "      <th>g6823</th>\n",
              "      <th>g6824</th>\n",
              "      <th>g6825</th>\n",
              "      <th>g6826</th>\n",
              "      <th>g6827</th>\n",
              "      <th>g6828</th>\n",
              "      <th>g6829</th>\n",
              "      <th>g6830</th>\n",
              "    </tr>\n",
              "    <tr>\n",
              "      <th>type</th>\n",
              "      <th></th>\n",
              "      <th></th>\n",
              "      <th></th>\n",
              "      <th></th>\n",
              "      <th></th>\n",
              "      <th></th>\n",
              "      <th></th>\n",
              "      <th></th>\n",
              "      <th></th>\n",
              "      <th></th>\n",
              "      <th></th>\n",
              "      <th></th>\n",
              "      <th></th>\n",
              "      <th></th>\n",
              "      <th></th>\n",
              "      <th></th>\n",
              "      <th></th>\n",
              "      <th></th>\n",
              "      <th></th>\n",
              "      <th></th>\n",
              "      <th></th>\n",
              "    </tr>\n",
              "  </thead>\n",
              "  <tbody>\n",
              "    <tr>\n",
              "      <th>CNS</th>\n",
              "      <td>0.728671</td>\n",
              "      <td>1.607220</td>\n",
              "      <td>1.325688</td>\n",
              "      <td>1.355688</td>\n",
              "      <td>-0.604845</td>\n",
              "      <td>-0.220654</td>\n",
              "      <td>0.898137</td>\n",
              "      <td>-0.868741</td>\n",
              "      <td>-1.058612</td>\n",
              "      <td>-1.059174</td>\n",
              "      <td>...</td>\n",
              "      <td>-1.030663</td>\n",
              "      <td>-0.358518</td>\n",
              "      <td>-0.238245</td>\n",
              "      <td>-0.392487</td>\n",
              "      <td>0.831370</td>\n",
              "      <td>-0.200286</td>\n",
              "      <td>-0.075668</td>\n",
              "      <td>0.520893</td>\n",
              "      <td>-0.836365</td>\n",
              "      <td>-1.384675</td>\n",
              "    </tr>\n",
              "    <tr>\n",
              "      <th>CNS</th>\n",
              "      <td>1.596418</td>\n",
              "      <td>1.753544</td>\n",
              "      <td>0.441686</td>\n",
              "      <td>0.654119</td>\n",
              "      <td>0.911898</td>\n",
              "      <td>1.648748</td>\n",
              "      <td>1.849697</td>\n",
              "      <td>2.226625</td>\n",
              "      <td>-0.095860</td>\n",
              "      <td>-0.477977</td>\n",
              "      <td>...</td>\n",
              "      <td>-0.215657</td>\n",
              "      <td>-0.625720</td>\n",
              "      <td>-0.489938</td>\n",
              "      <td>-0.800791</td>\n",
              "      <td>0.013818</td>\n",
              "      <td>-1.105413</td>\n",
              "      <td>-1.117676</td>\n",
              "      <td>-0.823652</td>\n",
              "      <td>-0.925425</td>\n",
              "      <td>-1.431446</td>\n",
              "    </tr>\n",
              "    <tr>\n",
              "      <th>CNS</th>\n",
              "      <td>2.190290</td>\n",
              "      <td>-0.016217</td>\n",
              "      <td>-0.349092</td>\n",
              "      <td>0.266465</td>\n",
              "      <td>-1.311310</td>\n",
              "      <td>-0.019322</td>\n",
              "      <td>0.191185</td>\n",
              "      <td>1.988627</td>\n",
              "      <td>1.007979</td>\n",
              "      <td>0.716019</td>\n",
              "      <td>...</td>\n",
              "      <td>0.452274</td>\n",
              "      <td>-0.251651</td>\n",
              "      <td>-0.930304</td>\n",
              "      <td>-0.868790</td>\n",
              "      <td>-0.583517</td>\n",
              "      <td>-0.331142</td>\n",
              "      <td>-0.075668</td>\n",
              "      <td>0.008704</td>\n",
              "      <td>-0.960951</td>\n",
              "      <td>-0.095838</td>\n",
              "    </tr>\n",
              "    <tr>\n",
              "      <th>RENAL</th>\n",
              "      <td>0.682995</td>\n",
              "      <td>-0.375502</td>\n",
              "      <td>1.628079</td>\n",
              "      <td>-0.444299</td>\n",
              "      <td>1.244434</td>\n",
              "      <td>-0.019322</td>\n",
              "      <td>0.408709</td>\n",
              "      <td>0.798057</td>\n",
              "      <td>0.045135</td>\n",
              "      <td>0.119051</td>\n",
              "      <td>...</td>\n",
              "      <td>-1.313667</td>\n",
              "      <td>-0.456479</td>\n",
              "      <td>-0.409013</td>\n",
              "      <td>-0.086293</td>\n",
              "      <td>-0.709285</td>\n",
              "      <td>-0.494711</td>\n",
              "      <td>-1.034286</td>\n",
              "      <td>1.558075</td>\n",
              "      <td>-0.693981</td>\n",
              "      <td>-0.830408</td>\n",
              "    </tr>\n",
              "    <tr>\n",
              "      <th>BREAST</th>\n",
              "      <td>1.151170</td>\n",
              "      <td>-0.581759</td>\n",
              "      <td>0.965145</td>\n",
              "      <td>1.138767</td>\n",
              "      <td>0.361351</td>\n",
              "      <td>-0.033703</td>\n",
              "      <td>0.177590</td>\n",
              "      <td>0.396239</td>\n",
              "      <td>0.550041</td>\n",
              "      <td>2.310550</td>\n",
              "      <td>...</td>\n",
              "      <td>0.718297</td>\n",
              "      <td>-1.048700</td>\n",
              "      <td>-0.728079</td>\n",
              "      <td>-0.556925</td>\n",
              "      <td>0.839231</td>\n",
              "      <td>0.492157</td>\n",
              "      <td>-0.075668</td>\n",
              "      <td>1.116312</td>\n",
              "      <td>0.525182</td>\n",
              "      <td>0.000992</td>\n",
              "    </tr>\n",
              "    <tr>\n",
              "      <th>...</th>\n",
              "      <td>...</td>\n",
              "      <td>...</td>\n",
              "      <td>...</td>\n",
              "      <td>...</td>\n",
              "      <td>...</td>\n",
              "      <td>...</td>\n",
              "      <td>...</td>\n",
              "      <td>...</td>\n",
              "      <td>...</td>\n",
              "      <td>...</td>\n",
              "      <td>...</td>\n",
              "      <td>...</td>\n",
              "      <td>...</td>\n",
              "      <td>...</td>\n",
              "      <td>...</td>\n",
              "      <td>...</td>\n",
              "      <td>...</td>\n",
              "      <td>...</td>\n",
              "      <td>...</td>\n",
              "      <td>...</td>\n",
              "      <td>...</td>\n",
              "    </tr>\n",
              "    <tr>\n",
              "      <th>MELANOMA</th>\n",
              "      <td>-0.024977</td>\n",
              "      <td>-0.601719</td>\n",
              "      <td>0.209168</td>\n",
              "      <td>-0.342761</td>\n",
              "      <td>-0.459396</td>\n",
              "      <td>1.159911</td>\n",
              "      <td>-0.706100</td>\n",
              "      <td>0.381357</td>\n",
              "      <td>-0.964676</td>\n",
              "      <td>1.344405</td>\n",
              "      <td>...</td>\n",
              "      <td>-0.362775</td>\n",
              "      <td>-0.224934</td>\n",
              "      <td>-0.651683</td>\n",
              "      <td>-0.029591</td>\n",
              "      <td>-0.300540</td>\n",
              "      <td>-0.189382</td>\n",
              "      <td>-1.234343</td>\n",
              "      <td>-1.310181</td>\n",
              "      <td>0.284909</td>\n",
              "      <td>0.698834</td>\n",
              "    </tr>\n",
              "    <tr>\n",
              "      <th>MELANOMA</th>\n",
              "      <td>-0.573084</td>\n",
              "      <td>0.875343</td>\n",
              "      <td>-0.186266</td>\n",
              "      <td>1.318766</td>\n",
              "      <td>2.117127</td>\n",
              "      <td>0.210772</td>\n",
              "      <td>-0.298243</td>\n",
              "      <td>-1.940254</td>\n",
              "      <td>-0.729836</td>\n",
              "      <td>0.401825</td>\n",
              "      <td>...</td>\n",
              "      <td>-0.543897</td>\n",
              "      <td>-0.180407</td>\n",
              "      <td>-0.004563</td>\n",
              "      <td>-0.233720</td>\n",
              "      <td>0.281136</td>\n",
              "      <td>-0.342046</td>\n",
              "      <td>-0.092347</td>\n",
              "      <td>-0.657141</td>\n",
              "      <td>-0.889759</td>\n",
              "      <td>-0.382988</td>\n",
              "    </tr>\n",
              "    <tr>\n",
              "      <th>MELANOMA</th>\n",
              "      <td>0.523130</td>\n",
              "      <td>-0.788015</td>\n",
              "      <td>-0.302571</td>\n",
              "      <td>-0.924296</td>\n",
              "      <td>0.039286</td>\n",
              "      <td>-1.169792</td>\n",
              "      <td>-1.113957</td>\n",
              "      <td>-1.940254</td>\n",
              "      <td>-0.847256</td>\n",
              "      <td>1.454373</td>\n",
              "      <td>...</td>\n",
              "      <td>-0.091092</td>\n",
              "      <td>-0.465385</td>\n",
              "      <td>0.498752</td>\n",
              "      <td>-0.335785</td>\n",
              "      <td>1.067185</td>\n",
              "      <td>0.257708</td>\n",
              "      <td>-0.075668</td>\n",
              "      <td>0.367236</td>\n",
              "      <td>3.381761</td>\n",
              "      <td>2.535260</td>\n",
              "    </tr>\n",
              "    <tr>\n",
              "      <th>MELANOMA</th>\n",
              "      <td>-0.070652</td>\n",
              "      <td>0.223307</td>\n",
              "      <td>-0.163005</td>\n",
              "      <td>-0.859681</td>\n",
              "      <td>0.039286</td>\n",
              "      <td>-0.019322</td>\n",
              "      <td>1.088471</td>\n",
              "      <td>-0.838977</td>\n",
              "      <td>0.726171</td>\n",
              "      <td>0.071922</td>\n",
              "      <td>...</td>\n",
              "      <td>1.097522</td>\n",
              "      <td>-0.732552</td>\n",
              "      <td>-0.678646</td>\n",
              "      <td>-1.163643</td>\n",
              "      <td>-0.410587</td>\n",
              "      <td>-0.549234</td>\n",
              "      <td>-0.375762</td>\n",
              "      <td>-0.465070</td>\n",
              "      <td>-0.213435</td>\n",
              "      <td>-1.244439</td>\n",
              "    </tr>\n",
              "    <tr>\n",
              "      <th>MELANOMA</th>\n",
              "      <td>0.842860</td>\n",
              "      <td>-0.322275</td>\n",
              "      <td>0.092864</td>\n",
              "      <td>-0.831988</td>\n",
              "      <td>-1.539873</td>\n",
              "      <td>-0.997222</td>\n",
              "      <td>-1.467433</td>\n",
              "      <td>1.482634</td>\n",
              "      <td>0.538299</td>\n",
              "      <td>1.407244</td>\n",
              "      <td>...</td>\n",
              "      <td>1.935211</td>\n",
              "      <td>2.313153</td>\n",
              "      <td>2.305293</td>\n",
              "      <td>2.238515</td>\n",
              "      <td>1.208674</td>\n",
              "      <td>0.355850</td>\n",
              "      <td>0.732890</td>\n",
              "      <td>0.533698</td>\n",
              "      <td>-0.498203</td>\n",
              "      <td>0.712190</td>\n",
              "    </tr>\n",
              "  </tbody>\n",
              "</table>\n",
              "<p>64 rows × 6830 columns</p>\n",
              "</div>\n",
              "      <button class=\"colab-df-convert\" onclick=\"convertToInteractive('df-91acf20a-ebbc-43ec-b2e5-85bd41e0cf9d')\"\n",
              "              title=\"Convert this dataframe to an interactive table.\"\n",
              "              style=\"display:none;\">\n",
              "        \n",
              "  <svg xmlns=\"http://www.w3.org/2000/svg\" height=\"24px\"viewBox=\"0 0 24 24\"\n",
              "       width=\"24px\">\n",
              "    <path d=\"M0 0h24v24H0V0z\" fill=\"none\"/>\n",
              "    <path d=\"M18.56 5.44l.94 2.06.94-2.06 2.06-.94-2.06-.94-.94-2.06-.94 2.06-2.06.94zm-11 1L8.5 8.5l.94-2.06 2.06-.94-2.06-.94L8.5 2.5l-.94 2.06-2.06.94zm10 10l.94 2.06.94-2.06 2.06-.94-2.06-.94-.94-2.06-.94 2.06-2.06.94z\"/><path d=\"M17.41 7.96l-1.37-1.37c-.4-.4-.92-.59-1.43-.59-.52 0-1.04.2-1.43.59L10.3 9.45l-7.72 7.72c-.78.78-.78 2.05 0 2.83L4 21.41c.39.39.9.59 1.41.59.51 0 1.02-.2 1.41-.59l7.78-7.78 2.81-2.81c.8-.78.8-2.07 0-2.86zM5.41 20L4 18.59l7.72-7.72 1.47 1.35L5.41 20z\"/>\n",
              "  </svg>\n",
              "      </button>\n",
              "      \n",
              "  <style>\n",
              "    .colab-df-container {\n",
              "      display:flex;\n",
              "      flex-wrap:wrap;\n",
              "      gap: 12px;\n",
              "    }\n",
              "\n",
              "    .colab-df-convert {\n",
              "      background-color: #E8F0FE;\n",
              "      border: none;\n",
              "      border-radius: 50%;\n",
              "      cursor: pointer;\n",
              "      display: none;\n",
              "      fill: #1967D2;\n",
              "      height: 32px;\n",
              "      padding: 0 0 0 0;\n",
              "      width: 32px;\n",
              "    }\n",
              "\n",
              "    .colab-df-convert:hover {\n",
              "      background-color: #E2EBFA;\n",
              "      box-shadow: 0px 1px 2px rgba(60, 64, 67, 0.3), 0px 1px 3px 1px rgba(60, 64, 67, 0.15);\n",
              "      fill: #174EA6;\n",
              "    }\n",
              "\n",
              "    [theme=dark] .colab-df-convert {\n",
              "      background-color: #3B4455;\n",
              "      fill: #D2E3FC;\n",
              "    }\n",
              "\n",
              "    [theme=dark] .colab-df-convert:hover {\n",
              "      background-color: #434B5C;\n",
              "      box-shadow: 0px 1px 3px 1px rgba(0, 0, 0, 0.15);\n",
              "      filter: drop-shadow(0px 1px 2px rgba(0, 0, 0, 0.3));\n",
              "      fill: #FFFFFF;\n",
              "    }\n",
              "  </style>\n",
              "\n",
              "      <script>\n",
              "        const buttonEl =\n",
              "          document.querySelector('#df-91acf20a-ebbc-43ec-b2e5-85bd41e0cf9d button.colab-df-convert');\n",
              "        buttonEl.style.display =\n",
              "          google.colab.kernel.accessAllowed ? 'block' : 'none';\n",
              "\n",
              "        async function convertToInteractive(key) {\n",
              "          const element = document.querySelector('#df-91acf20a-ebbc-43ec-b2e5-85bd41e0cf9d');\n",
              "          const dataTable =\n",
              "            await google.colab.kernel.invokeFunction('convertToInteractive',\n",
              "                                                     [key], {});\n",
              "          if (!dataTable) return;\n",
              "\n",
              "          const docLinkHtml = 'Like what you see? Visit the ' +\n",
              "            '<a target=\"_blank\" href=https://colab.research.google.com/notebooks/data_table.ipynb>data table notebook</a>'\n",
              "            + ' to learn more about interactive tables.';\n",
              "          element.innerHTML = '';\n",
              "          dataTable['output_type'] = 'display_data';\n",
              "          await google.colab.output.renderOutput(dataTable, element);\n",
              "          const docLink = document.createElement('div');\n",
              "          docLink.innerHTML = docLinkHtml;\n",
              "          element.appendChild(docLink);\n",
              "        }\n",
              "      </script>\n",
              "    </div>\n",
              "  </div>\n",
              "  "
            ],
            "text/plain": [
              "0               g1        g2        g3        g4        g5        g6  \\\n",
              "type                                                                   \n",
              "CNS       0.728671  1.607220  1.325688  1.355688 -0.604845 -0.220654   \n",
              "CNS       1.596418  1.753544  0.441686  0.654119  0.911898  1.648748   \n",
              "CNS       2.190290 -0.016217 -0.349092  0.266465 -1.311310 -0.019322   \n",
              "RENAL     0.682995 -0.375502  1.628079 -0.444299  1.244434 -0.019322   \n",
              "BREAST    1.151170 -0.581759  0.965145  1.138767  0.361351 -0.033703   \n",
              "...            ...       ...       ...       ...       ...       ...   \n",
              "MELANOMA -0.024977 -0.601719  0.209168 -0.342761 -0.459396  1.159911   \n",
              "MELANOMA -0.573084  0.875343 -0.186266  1.318766  2.117127  0.210772   \n",
              "MELANOMA  0.523130 -0.788015 -0.302571 -0.924296  0.039286 -1.169792   \n",
              "MELANOMA -0.070652  0.223307 -0.163005 -0.859681  0.039286 -0.019322   \n",
              "MELANOMA  0.842860 -0.322275  0.092864 -0.831988 -1.539873 -0.997222   \n",
              "\n",
              "0               g7        g8        g9       g10  ...     g6821     g6822  \\\n",
              "type                                              ...                       \n",
              "CNS       0.898137 -0.868741 -1.058612 -1.059174  ... -1.030663 -0.358518   \n",
              "CNS       1.849697  2.226625 -0.095860 -0.477977  ... -0.215657 -0.625720   \n",
              "CNS       0.191185  1.988627  1.007979  0.716019  ...  0.452274 -0.251651   \n",
              "RENAL     0.408709  0.798057  0.045135  0.119051  ... -1.313667 -0.456479   \n",
              "BREAST    0.177590  0.396239  0.550041  2.310550  ...  0.718297 -1.048700   \n",
              "...            ...       ...       ...       ...  ...       ...       ...   \n",
              "MELANOMA -0.706100  0.381357 -0.964676  1.344405  ... -0.362775 -0.224934   \n",
              "MELANOMA -0.298243 -1.940254 -0.729836  0.401825  ... -0.543897 -0.180407   \n",
              "MELANOMA -1.113957 -1.940254 -0.847256  1.454373  ... -0.091092 -0.465385   \n",
              "MELANOMA  1.088471 -0.838977  0.726171  0.071922  ...  1.097522 -0.732552   \n",
              "MELANOMA -1.467433  1.482634  0.538299  1.407244  ...  1.935211  2.313153   \n",
              "\n",
              "0            g6823     g6824     g6825     g6826     g6827     g6828  \\\n",
              "type                                                                   \n",
              "CNS      -0.238245 -0.392487  0.831370 -0.200286 -0.075668  0.520893   \n",
              "CNS      -0.489938 -0.800791  0.013818 -1.105413 -1.117676 -0.823652   \n",
              "CNS      -0.930304 -0.868790 -0.583517 -0.331142 -0.075668  0.008704   \n",
              "RENAL    -0.409013 -0.086293 -0.709285 -0.494711 -1.034286  1.558075   \n",
              "BREAST   -0.728079 -0.556925  0.839231  0.492157 -0.075668  1.116312   \n",
              "...            ...       ...       ...       ...       ...       ...   \n",
              "MELANOMA -0.651683 -0.029591 -0.300540 -0.189382 -1.234343 -1.310181   \n",
              "MELANOMA -0.004563 -0.233720  0.281136 -0.342046 -0.092347 -0.657141   \n",
              "MELANOMA  0.498752 -0.335785  1.067185  0.257708 -0.075668  0.367236   \n",
              "MELANOMA -0.678646 -1.163643 -0.410587 -0.549234 -0.375762 -0.465070   \n",
              "MELANOMA  2.305293  2.238515  1.208674  0.355850  0.732890  0.533698   \n",
              "\n",
              "0            g6829     g6830  \n",
              "type                          \n",
              "CNS      -0.836365 -1.384675  \n",
              "CNS      -0.925425 -1.431446  \n",
              "CNS      -0.960951 -0.095838  \n",
              "RENAL    -0.693981 -0.830408  \n",
              "BREAST    0.525182  0.000992  \n",
              "...            ...       ...  \n",
              "MELANOMA  0.284909  0.698834  \n",
              "MELANOMA -0.889759 -0.382988  \n",
              "MELANOMA  3.381761  2.535260  \n",
              "MELANOMA -0.213435 -1.244439  \n",
              "MELANOMA -0.498203  0.712190  \n",
              "\n",
              "[64 rows x 6830 columns]"
            ]
          },
          "metadata": {},
          "execution_count": 34
        }
      ]
    },
    {
      "cell_type": "markdown",
      "source": [
        "We can scale data using ```scale(df)``` which centers the mean and component wise scale to unit variance, along any axis. We scale such that the mean of every column is 0 and the standard deviation of every column is 1."
      ],
      "metadata": {
        "id": "KFxuUrr3ad1v"
      }
    },
    {
      "cell_type": "code",
      "source": [
        "# how do we show that the data has been scaled?\n",
        "np.mean(scale(df), axis =0), np.std(scale(df), axis = 0)\n"
      ],
      "metadata": {
        "id": "cWfpdI_7aEuk",
        "colab": {
          "base_uri": "https://localhost:8080/"
        },
        "outputId": "c1a312ed-0db7-4808-f6d5-4d683fa52b12"
      },
      "execution_count": 35,
      "outputs": [
        {
          "output_type": "execute_result",
          "data": {
            "text/plain": [
              "(array([ 2.77555756e-17, -1.38777878e-17,  0.00000000e+00, ...,\n",
              "         2.77555756e-17, -6.93889390e-18,  6.93889390e-18]),\n",
              " array([1., 1., 1., ..., 1., 1., 1.]))"
            ]
          },
          "metadata": {},
          "execution_count": 35
        }
      ]
    },
    {
      "cell_type": "code",
      "execution_count": 36,
      "metadata": {
        "scrolled": true,
        "id": "LwHBvbrzf1a-",
        "colab": {
          "base_uri": "https://localhost:8080/",
          "height": 1000
        },
        "outputId": "603faa88-82a5-463b-81c9-8b8c3ad5fcd3"
      },
      "outputs": [
        {
          "output_type": "display_data",
          "data": {
            "image/png": "[encoded data removed]",
            "text/plain": [
              "<Figure size 1440x1440 with 3 Axes>"
            ]
          },
          "metadata": {
            "needs_background": "light"
          }
        }
      ],
      "source": [
        "fig, (ax1,ax2,ax3) = plt.subplots(1,3, figsize=(20,20))\n",
        "\n",
        "for linkage, cluster, ax in zip([hierarchy.complete(X), hierarchy.average(X), hierarchy.single(X)],\n",
        "                                ['c1','c2','c3'],\n",
        "                                [ax1,ax2,ax3]):\n",
        "    cluster = dendrogram(linkage, labels=X.index, orientation='right', color_threshold=0, leaf_font_size=10, ax=ax)\n",
        "\n",
        "ax1.set_title('Complete Linkage')\n",
        "ax2.set_title('Average Linkage')\n",
        "ax3.set_title('Single Linkage');"
      ]
    },
    {
      "cell_type": "markdown",
      "metadata": {
        "id": "xmcR14Qrf1a_"
      },
      "source": [
        "We see that the choice of linkage affects the results obtained. Typically, single linkage will tend to yield trailing clusters: very large clusters onto which individual observations attach one-by-one. On the other hand, complete and average linkage tend to yield more balanced, attractive clusters. For this reason, complete and average linkage are generally preferred to single linkage. \n",
        "\n",
        "In the complete linkage, we can set the threshold at 140, to get four clusters. Increasing the threshold decreases the number of clusters. For example, increasing the threshold to 150 results in only 2 clusters. This is useful in selecting the number of clusters we want. "
      ]
    },
    {
      "cell_type": "code",
      "execution_count": 39,
      "metadata": {
        "scrolled": false,
        "id": "KI5ekxYYf1a_",
        "colab": {
          "base_uri": "https://localhost:8080/",
          "height": 1000
        },
        "outputId": "c1998608-703a-4653-de17-c448fcaa4176"
      },
      "outputs": [
        {
          "output_type": "execute_result",
          "data": {
            "text/plain": [
              "<matplotlib.collections.LineCollection at 0x7f6a923649d0>"
            ]
          },
          "metadata": {},
          "execution_count": 39
        },
        {
          "output_type": "display_data",
          "data": {
            "image/png": "[encoded data removed]",
            "text/plain": [
              "<Figure size 720x1440 with 1 Axes>"
            ]
          },
          "metadata": {
            "needs_background": "light"
          }
        }
      ],
      "source": [
        "plt.figure(figsize=(10,20))\n",
        "cut4 = hierarchy.dendrogram(hierarchy.complete(X),\n",
        "                            labels=X.index, orientation='right', color_threshold=140, leaf_font_size=10)\n",
        "# this plot is compatible with matplotlib. can we insert a line at the threshold of 140?\n",
        "plt.vlines(150, 0, plt.gca().yaxis.get_data_interval()[1], color = 'r', linestyle = 'dashed')"
      ]
    },
    {
      "cell_type": "markdown",
      "metadata": {
        "id": "Iu2-374ff1a_"
      },
      "source": [
        "Based on this cut, we can see the four clusters in four colors. We see all the leukemia cell lines fall in one cluster,\n",
        "while the breast cancer cell lines are spread out over three different clusters"
      ]
    },
    {
      "cell_type": "code",
      "execution_count": 40,
      "metadata": {
        "id": "ZZJjMnm1f1a_",
        "colab": {
          "base_uri": "https://localhost:8080/",
          "height": 268
        },
        "outputId": "2c7183ce-3029-4996-f35e-432f2b846f56"
      },
      "outputs": [
        {
          "output_type": "display_data",
          "data": {
            "image/png": "[encoded data removed]",
            "text/plain": [
              "<Figure size 432x288 with 1 Axes>"
            ]
          },
          "metadata": {
            "needs_background": "light"
          }
        }
      ],
      "source": [
        "cut4c = hierarchy.dendrogram(hierarchy.complete(X), truncate_mode='lastp', p=4,\n",
        "                             show_leaf_counts=True)"
      ]
    },
    {
      "cell_type": "markdown",
      "metadata": {
        "id": "EvUxjKMhf1bA"
      },
      "source": [
        "# K-Means for same number of clusters\n",
        "We can perform K-Means with same number of clusters and check the clusters that are formed. \n",
        "\n",
        "In K Means clustering, since we start with random choice of clusters, the results produced by running the algorithm multiple times might differ. While results are reproducible in Hierarchical clustering.\n",
        "\n",
        "![KMeans Clustering](https://miro.medium.com/max/600/1*h2WdqGZD6WsNcUdwZDqsFA.gif)"
      ]
    },
    {
      "cell_type": "code",
      "execution_count": 41,
      "metadata": {
        "id": "ziZvkKqlf1bA"
      },
      "outputs": [],
      "source": [
        "from sklearn.cluster import KMeans"
      ]
    },
    {
      "cell_type": "code",
      "execution_count": 42,
      "metadata": {
        "id": "ZR1WxEA2f1bA",
        "colab": {
          "base_uri": "https://localhost:8080/"
        },
        "outputId": "a4d37acd-2db5-43cc-97dc-e2c60b525ac2"
      },
      "outputs": [
        {
          "output_type": "execute_result",
          "data": {
            "text/plain": [
              "KMeans(n_clusters=4, n_init=50,\n",
              "       random_state=RandomState(MT19937) at 0x7F6AABB886B0)"
            ]
          },
          "metadata": {},
          "execution_count": 42
        }
      ],
      "source": [
        "np.random.seed(2)\n",
        "# we set up KMeans clustering with 4 clusters, let the algorithm run with 50 different centroid seeds. \n",
        "km4 = KMeans(n_clusters =4, n_init = 50, random_state = rng)\n",
        "km4.fit(X)"
      ]
    },
    {
      "cell_type": "code",
      "execution_count": 43,
      "metadata": {
        "id": "cLuYwHS8f1bA",
        "colab": {
          "base_uri": "https://localhost:8080/"
        },
        "outputId": "de28e2d2-f3f5-4516-f7a1-bbda5e330277"
      },
      "outputs": [
        {
          "output_type": "execute_result",
          "data": {
            "text/plain": [
              "array([1, 1, 1, 1, 1, 1, 1, 1, 1, 1, 1, 1, 1, 1, 1, 1, 1, 1, 1, 1, 1, 1,\n",
              "       1, 2, 2, 1, 2, 1, 2, 1, 1, 2, 2, 2, 3, 3, 3, 3, 3, 3, 3, 2, 2, 2,\n",
              "       2, 2, 2, 2, 2, 2, 2, 2, 2, 2, 3, 0, 0, 0, 0, 0, 0, 0, 0, 0],\n",
              "      dtype=int32)"
            ]
          },
          "metadata": {},
          "execution_count": 43
        }
      ],
      "source": [
        "km4.labels_"
      ]
    },
    {
      "cell_type": "code",
      "execution_count": 44,
      "metadata": {
        "scrolled": true,
        "id": "NB0zTdIGf1bB",
        "colab": {
          "base_uri": "https://localhost:8080/"
        },
        "outputId": "3ae53342-b062-4bfb-b94e-6488c9d616c4"
      },
      "outputs": [
        {
          "output_type": "execute_result",
          "data": {
            "text/plain": [
              "0     9\n",
              "1    27\n",
              "2    20\n",
              "3     8\n",
              "dtype: int64"
            ]
          },
          "metadata": {},
          "execution_count": 44
        }
      ],
      "source": [
        "# Observations per KMeans cluster\n",
        "pd.Series(km4.labels_).value_counts().sort_index()"
      ]
    },
    {
      "cell_type": "markdown",
      "metadata": {
        "id": "xyPQYqhnf1bB"
      },
      "source": [
        "We see that though clustering has been done in same number of clusters - the observations per cluster is different and the clusters themselves must also be different. You can do visualizations along with the cancer types to actually see the difference between the clusters using both algorithms."
      ]
    },
    {
      "cell_type": "markdown",
      "metadata": {
        "id": "dxEiXgrLf1bB"
      },
      "source": [
        "# Finding k \n",
        "Unlike the hierarchical clustering, the k-means clustering has the problem of specifying the number of clusters (k). How do we find this? We have two popular methods for this approach:\n",
        "+ Silhoutte Method\n",
        "+ Elbow Method\n",
        "\n",
        "## Silhoutte method\n",
        "Silhouette analysis can be used to study the separation distance between the resulting clusters. The silhouette plot displays a measure of how close each point in one cluster is to points in the neighboring clusters and thus provides a way to assess parameters like number of clusters visually. This measure has a range of \\[-1, 1\\].\n",
        "\n",
        "Silhouette coefficients (as these values are referred to as) near +1 indicate that the sample is far away from the neighboring clusters. A value of 0 indicates that the sample is on or very close to the decision boundary between two neighboring clusters and negative values indicate that those samples might have been assigned to the wrong cluster.\n",
        "\n",
        "### Performing dimensionality reduction - PCA\n",
        "Sometimes performing clustering on the first few principal component score vectors can give better results than performing clustering on the full data. In this situation, we might view the principal component step as one of denoising the data. You can of course perform the clustering without the PCA, however, on this specific data, the PCA helps in finding more meaningful clusters using K-means. So, let us first perform PCA on the data."
      ]
    },
    {
      "cell_type": "code",
      "execution_count": 45,
      "metadata": {
        "id": "7Wxbc_41f1bB"
      },
      "outputs": [],
      "source": [
        "from sklearn.decomposition import PCA\n",
        "\n",
        "pca = PCA(random_state=rng) # default number of features to keep is the same as number of samples"
      ]
    },
    {
      "cell_type": "code",
      "execution_count": 46,
      "metadata": {
        "id": "EIcz3--Bf1bC"
      },
      "outputs": [],
      "source": [
        "import matplotlib.pyplot as plt\n",
        "import seaborn as sns"
      ]
    },
    {
      "cell_type": "code",
      "execution_count": 47,
      "metadata": {
        "scrolled": true,
        "id": "wR6wiLgxf1bC",
        "colab": {
          "base_uri": "https://localhost:8080/",
          "height": 296
        },
        "outputId": "31662949-d742-4fdb-8722-205cccc83be1"
      },
      "outputs": [
        {
          "output_type": "execute_result",
          "data": {
            "text/plain": [
              "Text(0, 0.5, 'cumulative explained variance')"
            ]
          },
          "metadata": {},
          "execution_count": 47
        },
        {
          "output_type": "display_data",
          "data": {
            "image/png": "[encoded data removed]",
            "text/plain": [
              "<Figure size 432x288 with 1 Axes>"
            ]
          },
          "metadata": {
            "needs_background": "light"
          }
        }
      ],
      "source": [
        "pca.fit(df)\n",
        "\n",
        "plt.plot(np.cumsum(pca.explained_variance_ratio_))\n",
        "plt.xlabel('number of components')\n",
        "plt.ylabel('cumulative explained variance')\n",
        "\n",
        "# how can we see how much of the variance is explained by the principal components?\n"
      ]
    },
    {
      "cell_type": "code",
      "execution_count": 48,
      "metadata": {
        "id": "6lUa6quIf1bC"
      },
      "outputs": [],
      "source": [
        "df2_plot = pd.DataFrame(pca.fit_transform(df))"
      ]
    },
    {
      "cell_type": "code",
      "execution_count": 49,
      "metadata": {
        "scrolled": true,
        "id": "cIAf6Rqjf1bC",
        "colab": {
          "base_uri": "https://localhost:8080/",
          "height": 386
        },
        "outputId": "1ad62c1f-4bc4-4e72-eab5-fec3979cb8ca"
      },
      "outputs": [
        {
          "output_type": "execute_result",
          "data": {
            "text/html": [
              "\n",
              "  <div id=\"df-1b895e5d-74be-4814-9460-4bb64b316910\">\n",
              "    <div class=\"colab-df-container\">\n",
              "      <div>\n",
              "<style scoped>\n",
              "    .dataframe tbody tr th:only-of-type {\n",
              "        vertical-align: middle;\n",
              "    }\n",
              "\n",
              "    .dataframe tbody tr th {\n",
              "        vertical-align: top;\n",
              "    }\n",
              "\n",
              "    .dataframe thead th {\n",
              "        text-align: right;\n",
              "    }\n",
              "</style>\n",
              "<table border=\"1\" class=\"dataframe\">\n",
              "  <thead>\n",
              "    <tr style=\"text-align: right;\">\n",
              "      <th></th>\n",
              "      <th>0</th>\n",
              "      <th>1</th>\n",
              "      <th>2</th>\n",
              "      <th>3</th>\n",
              "      <th>4</th>\n",
              "      <th>5</th>\n",
              "      <th>6</th>\n",
              "      <th>7</th>\n",
              "      <th>8</th>\n",
              "      <th>9</th>\n",
              "      <th>...</th>\n",
              "      <th>54</th>\n",
              "      <th>55</th>\n",
              "      <th>56</th>\n",
              "      <th>57</th>\n",
              "      <th>58</th>\n",
              "      <th>59</th>\n",
              "      <th>60</th>\n",
              "      <th>61</th>\n",
              "      <th>62</th>\n",
              "      <th>63</th>\n",
              "    </tr>\n",
              "  </thead>\n",
              "  <tbody>\n",
              "    <tr>\n",
              "      <th>0</th>\n",
              "      <td>-19.795782</td>\n",
              "      <td>-0.115269</td>\n",
              "      <td>5.968917</td>\n",
              "      <td>4.753293</td>\n",
              "      <td>4.882164</td>\n",
              "      <td>18.925913</td>\n",
              "      <td>-13.214184</td>\n",
              "      <td>18.043066</td>\n",
              "      <td>-18.626707</td>\n",
              "      <td>-7.348662</td>\n",
              "      <td>...</td>\n",
              "      <td>-5.424981</td>\n",
              "      <td>6.708294</td>\n",
              "      <td>-11.137913</td>\n",
              "      <td>-7.952023</td>\n",
              "      <td>-7.956519</td>\n",
              "      <td>-2.697220</td>\n",
              "      <td>1.080630</td>\n",
              "      <td>-0.296699</td>\n",
              "      <td>-1.434358</td>\n",
              "      <td>1.108731e-14</td>\n",
              "    </tr>\n",
              "    <tr>\n",
              "      <th>1</th>\n",
              "      <td>-21.546101</td>\n",
              "      <td>1.457350</td>\n",
              "      <td>9.019584</td>\n",
              "      <td>6.767942</td>\n",
              "      <td>2.247604</td>\n",
              "      <td>17.072731</td>\n",
              "      <td>-13.017614</td>\n",
              "      <td>21.332242</td>\n",
              "      <td>-22.117931</td>\n",
              "      <td>-15.279623</td>\n",
              "      <td>...</td>\n",
              "      <td>5.088357</td>\n",
              "      <td>-6.842140</td>\n",
              "      <td>8.405447</td>\n",
              "      <td>6.254126</td>\n",
              "      <td>7.457328</td>\n",
              "      <td>2.394134</td>\n",
              "      <td>-1.595442</td>\n",
              "      <td>0.130771</td>\n",
              "      <td>1.763693</td>\n",
              "      <td>1.108731e-14</td>\n",
              "    </tr>\n",
              "    <tr>\n",
              "      <th>2</th>\n",
              "      <td>-25.056621</td>\n",
              "      <td>-1.526093</td>\n",
              "      <td>6.959653</td>\n",
              "      <td>2.785913</td>\n",
              "      <td>10.819648</td>\n",
              "      <td>16.453893</td>\n",
              "      <td>-5.277778</td>\n",
              "      <td>1.429368</td>\n",
              "      <td>-5.709169</td>\n",
              "      <td>0.374562</td>\n",
              "      <td>...</td>\n",
              "      <td>-0.230542</td>\n",
              "      <td>-0.719572</td>\n",
              "      <td>3.666967</td>\n",
              "      <td>-0.559651</td>\n",
              "      <td>0.297488</td>\n",
              "      <td>0.026367</td>\n",
              "      <td>0.611230</td>\n",
              "      <td>-0.819728</td>\n",
              "      <td>0.275194</td>\n",
              "      <td>1.108731e-14</td>\n",
              "    </tr>\n",
              "    <tr>\n",
              "      <th>3</th>\n",
              "      <td>-37.409536</td>\n",
              "      <td>11.389478</td>\n",
              "      <td>5.407097</td>\n",
              "      <td>15.442094</td>\n",
              "      <td>16.011475</td>\n",
              "      <td>33.096506</td>\n",
              "      <td>-4.557381</td>\n",
              "      <td>0.870114</td>\n",
              "      <td>4.986030</td>\n",
              "      <td>-3.653117</td>\n",
              "      <td>...</td>\n",
              "      <td>1.471976</td>\n",
              "      <td>1.214849</td>\n",
              "      <td>-0.217072</td>\n",
              "      <td>-2.526325</td>\n",
              "      <td>-1.178492</td>\n",
              "      <td>-0.422744</td>\n",
              "      <td>1.526933</td>\n",
              "      <td>-0.743917</td>\n",
              "      <td>-0.579324</td>\n",
              "      <td>1.108731e-14</td>\n",
              "    </tr>\n",
              "    <tr>\n",
              "      <th>4</th>\n",
              "      <td>-50.218642</td>\n",
              "      <td>1.346174</td>\n",
              "      <td>17.599944</td>\n",
              "      <td>15.099862</td>\n",
              "      <td>13.852847</td>\n",
              "      <td>16.943401</td>\n",
              "      <td>-11.533859</td>\n",
              "      <td>-22.145993</td>\n",
              "      <td>18.940241</td>\n",
              "      <td>7.636668</td>\n",
              "      <td>...</td>\n",
              "      <td>-0.229279</td>\n",
              "      <td>0.372817</td>\n",
              "      <td>-1.582442</td>\n",
              "      <td>0.139597</td>\n",
              "      <td>-0.519454</td>\n",
              "      <td>0.642782</td>\n",
              "      <td>-1.248874</td>\n",
              "      <td>0.716150</td>\n",
              "      <td>-0.742957</td>\n",
              "      <td>1.108731e-14</td>\n",
              "    </tr>\n",
              "  </tbody>\n",
              "</table>\n",
              "<p>5 rows × 64 columns</p>\n",
              "</div>\n",
              "      <button class=\"colab-df-convert\" onclick=\"convertToInteractive('df-1b895e5d-74be-4814-9460-4bb64b316910')\"\n",
              "              title=\"Convert this dataframe to an interactive table.\"\n",
              "              style=\"display:none;\">\n",
              "        \n",
              "  <svg xmlns=\"http://www.w3.org/2000/svg\" height=\"24px\"viewBox=\"0 0 24 24\"\n",
              "       width=\"24px\">\n",
              "    <path d=\"M0 0h24v24H0V0z\" fill=\"none\"/>\n",
              "    <path d=\"M18.56 5.44l.94 2.06.94-2.06 2.06-.94-2.06-.94-.94-2.06-.94 2.06-2.06.94zm-11 1L8.5 8.5l.94-2.06 2.06-.94-2.06-.94L8.5 2.5l-.94 2.06-2.06.94zm10 10l.94 2.06.94-2.06 2.06-.94-2.06-.94-.94-2.06-.94 2.06-2.06.94z\"/><path d=\"M17.41 7.96l-1.37-1.37c-.4-.4-.92-.59-1.43-.59-.52 0-1.04.2-1.43.59L10.3 9.45l-7.72 7.72c-.78.78-.78 2.05 0 2.83L4 21.41c.39.39.9.59 1.41.59.51 0 1.02-.2 1.41-.59l7.78-7.78 2.81-2.81c.8-.78.8-2.07 0-2.86zM5.41 20L4 18.59l7.72-7.72 1.47 1.35L5.41 20z\"/>\n",
              "  </svg>\n",
              "      </button>\n",
              "      \n",
              "  <style>\n",
              "    .colab-df-container {\n",
              "      display:flex;\n",
              "      flex-wrap:wrap;\n",
              "      gap: 12px;\n",
              "    }\n",
              "\n",
              "    .colab-df-convert {\n",
              "      background-color: #E8F0FE;\n",
              "      border: none;\n",
              "      border-radius: 50%;\n",
              "      cursor: pointer;\n",
              "      display: none;\n",
              "      fill: #1967D2;\n",
              "      height: 32px;\n",
              "      padding: 0 0 0 0;\n",
              "      width: 32px;\n",
              "    }\n",
              "\n",
              "    .colab-df-convert:hover {\n",
              "      background-color: #E2EBFA;\n",
              "      box-shadow: 0px 1px 2px rgba(60, 64, 67, 0.3), 0px 1px 3px 1px rgba(60, 64, 67, 0.15);\n",
              "      fill: #174EA6;\n",
              "    }\n",
              "\n",
              "    [theme=dark] .colab-df-convert {\n",
              "      background-color: #3B4455;\n",
              "      fill: #D2E3FC;\n",
              "    }\n",
              "\n",
              "    [theme=dark] .colab-df-convert:hover {\n",
              "      background-color: #434B5C;\n",
              "      box-shadow: 0px 1px 3px 1px rgba(0, 0, 0, 0.15);\n",
              "      filter: drop-shadow(0px 1px 2px rgba(0, 0, 0, 0.3));\n",
              "      fill: #FFFFFF;\n",
              "    }\n",
              "  </style>\n",
              "\n",
              "      <script>\n",
              "        const buttonEl =\n",
              "          document.querySelector('#df-1b895e5d-74be-4814-9460-4bb64b316910 button.colab-df-convert');\n",
              "        buttonEl.style.display =\n",
              "          google.colab.kernel.accessAllowed ? 'block' : 'none';\n",
              "\n",
              "        async function convertToInteractive(key) {\n",
              "          const element = document.querySelector('#df-1b895e5d-74be-4814-9460-4bb64b316910');\n",
              "          const dataTable =\n",
              "            await google.colab.kernel.invokeFunction('convertToInteractive',\n",
              "                                                     [key], {});\n",
              "          if (!dataTable) return;\n",
              "\n",
              "          const docLinkHtml = 'Like what you see? Visit the ' +\n",
              "            '<a target=\"_blank\" href=https://colab.research.google.com/notebooks/data_table.ipynb>data table notebook</a>'\n",
              "            + ' to learn more about interactive tables.';\n",
              "          element.innerHTML = '';\n",
              "          dataTable['output_type'] = 'display_data';\n",
              "          await google.colab.output.renderOutput(dataTable, element);\n",
              "          const docLink = document.createElement('div');\n",
              "          docLink.innerHTML = docLinkHtml;\n",
              "          element.appendChild(docLink);\n",
              "        }\n",
              "      </script>\n",
              "    </div>\n",
              "  </div>\n",
              "  "
            ],
            "text/plain": [
              "          0          1          2          3          4          5   \\\n",
              "0 -19.795782  -0.115269   5.968917   4.753293   4.882164  18.925913   \n",
              "1 -21.546101   1.457350   9.019584   6.767942   2.247604  17.072731   \n",
              "2 -25.056621  -1.526093   6.959653   2.785913  10.819648  16.453893   \n",
              "3 -37.409536  11.389478   5.407097  15.442094  16.011475  33.096506   \n",
              "4 -50.218642   1.346174  17.599944  15.099862  13.852847  16.943401   \n",
              "\n",
              "          6          7          8          9   ...        54        55  \\\n",
              "0 -13.214184  18.043066 -18.626707  -7.348662  ... -5.424981  6.708294   \n",
              "1 -13.017614  21.332242 -22.117931 -15.279623  ...  5.088357 -6.842140   \n",
              "2  -5.277778   1.429368  -5.709169   0.374562  ... -0.230542 -0.719572   \n",
              "3  -4.557381   0.870114   4.986030  -3.653117  ...  1.471976  1.214849   \n",
              "4 -11.533859 -22.145993  18.940241   7.636668  ... -0.229279  0.372817   \n",
              "\n",
              "          56        57        58        59        60        61        62  \\\n",
              "0 -11.137913 -7.952023 -7.956519 -2.697220  1.080630 -0.296699 -1.434358   \n",
              "1   8.405447  6.254126  7.457328  2.394134 -1.595442  0.130771  1.763693   \n",
              "2   3.666967 -0.559651  0.297488  0.026367  0.611230 -0.819728  0.275194   \n",
              "3  -0.217072 -2.526325 -1.178492 -0.422744  1.526933 -0.743917 -0.579324   \n",
              "4  -1.582442  0.139597 -0.519454  0.642782 -1.248874  0.716150 -0.742957   \n",
              "\n",
              "             63  \n",
              "0  1.108731e-14  \n",
              "1  1.108731e-14  \n",
              "2  1.108731e-14  \n",
              "3  1.108731e-14  \n",
              "4  1.108731e-14  \n",
              "\n",
              "[5 rows x 64 columns]"
            ]
          },
          "metadata": {},
          "execution_count": 49
        }
      ],
      "source": [
        "df2_plot.head()"
      ]
    },
    {
      "cell_type": "code",
      "execution_count": 50,
      "metadata": {
        "scrolled": true,
        "id": "Ad05lFpRf1bD",
        "colab": {
          "base_uri": "https://localhost:8080/",
          "height": 143
        },
        "outputId": "57c60883-c873-482e-d77f-4c300ad9bd38"
      },
      "outputs": [
        {
          "output_type": "execute_result",
          "data": {
            "text/html": [
              "\n",
              "  <div id=\"df-87218c4b-100f-4b61-bd37-fb49ae5aa5e6\">\n",
              "    <div class=\"colab-df-container\">\n",
              "      <div>\n",
              "<style scoped>\n",
              "    .dataframe tbody tr th:only-of-type {\n",
              "        vertical-align: middle;\n",
              "    }\n",
              "\n",
              "    .dataframe tbody tr th {\n",
              "        vertical-align: top;\n",
              "    }\n",
              "\n",
              "    .dataframe thead th {\n",
              "        text-align: right;\n",
              "    }\n",
              "</style>\n",
              "<table border=\"1\" class=\"dataframe\">\n",
              "  <thead>\n",
              "    <tr style=\"text-align: right;\">\n",
              "      <th></th>\n",
              "      <th>PC1</th>\n",
              "      <th>PC2</th>\n",
              "      <th>PC3</th>\n",
              "      <th>PC4</th>\n",
              "      <th>PC5</th>\n",
              "    </tr>\n",
              "  </thead>\n",
              "  <tbody>\n",
              "    <tr>\n",
              "      <th>Standard Deviation</th>\n",
              "      <td>24.966409</td>\n",
              "      <td>18.639027</td>\n",
              "      <td>16.599553</td>\n",
              "      <td>13.424692</td>\n",
              "      <td>12.688644</td>\n",
              "    </tr>\n",
              "    <tr>\n",
              "      <th>Proportion of Variance</th>\n",
              "      <td>0.148929</td>\n",
              "      <td>0.083007</td>\n",
              "      <td>0.065836</td>\n",
              "      <td>0.043060</td>\n",
              "      <td>0.038468</td>\n",
              "    </tr>\n",
              "    <tr>\n",
              "      <th>Cumulative Proportion</th>\n",
              "      <td>0.148929</td>\n",
              "      <td>0.231936</td>\n",
              "      <td>0.297772</td>\n",
              "      <td>0.340832</td>\n",
              "      <td>0.379300</td>\n",
              "    </tr>\n",
              "  </tbody>\n",
              "</table>\n",
              "</div>\n",
              "      <button class=\"colab-df-convert\" onclick=\"convertToInteractive('df-87218c4b-100f-4b61-bd37-fb49ae5aa5e6')\"\n",
              "              title=\"Convert this dataframe to an interactive table.\"\n",
              "              style=\"display:none;\">\n",
              "        \n",
              "  <svg xmlns=\"http://www.w3.org/2000/svg\" height=\"24px\"viewBox=\"0 0 24 24\"\n",
              "       width=\"24px\">\n",
              "    <path d=\"M0 0h24v24H0V0z\" fill=\"none\"/>\n",
              "    <path d=\"M18.56 5.44l.94 2.06.94-2.06 2.06-.94-2.06-.94-.94-2.06-.94 2.06-2.06.94zm-11 1L8.5 8.5l.94-2.06 2.06-.94-2.06-.94L8.5 2.5l-.94 2.06-2.06.94zm10 10l.94 2.06.94-2.06 2.06-.94-2.06-.94-.94-2.06-.94 2.06-2.06.94z\"/><path d=\"M17.41 7.96l-1.37-1.37c-.4-.4-.92-.59-1.43-.59-.52 0-1.04.2-1.43.59L10.3 9.45l-7.72 7.72c-.78.78-.78 2.05 0 2.83L4 21.41c.39.39.9.59 1.41.59.51 0 1.02-.2 1.41-.59l7.78-7.78 2.81-2.81c.8-.78.8-2.07 0-2.86zM5.41 20L4 18.59l7.72-7.72 1.47 1.35L5.41 20z\"/>\n",
              "  </svg>\n",
              "      </button>\n",
              "      \n",
              "  <style>\n",
              "    .colab-df-container {\n",
              "      display:flex;\n",
              "      flex-wrap:wrap;\n",
              "      gap: 12px;\n",
              "    }\n",
              "\n",
              "    .colab-df-convert {\n",
              "      background-color: #E8F0FE;\n",
              "      border: none;\n",
              "      border-radius: 50%;\n",
              "      cursor: pointer;\n",
              "      display: none;\n",
              "      fill: #1967D2;\n",
              "      height: 32px;\n",
              "      padding: 0 0 0 0;\n",
              "      width: 32px;\n",
              "    }\n",
              "\n",
              "    .colab-df-convert:hover {\n",
              "      background-color: #E2EBFA;\n",
              "      box-shadow: 0px 1px 2px rgba(60, 64, 67, 0.3), 0px 1px 3px 1px rgba(60, 64, 67, 0.15);\n",
              "      fill: #174EA6;\n",
              "    }\n",
              "\n",
              "    [theme=dark] .colab-df-convert {\n",
              "      background-color: #3B4455;\n",
              "      fill: #D2E3FC;\n",
              "    }\n",
              "\n",
              "    [theme=dark] .colab-df-convert:hover {\n",
              "      background-color: #434B5C;\n",
              "      box-shadow: 0px 1px 3px 1px rgba(0, 0, 0, 0.15);\n",
              "      filter: drop-shadow(0px 1px 2px rgba(0, 0, 0, 0.3));\n",
              "      fill: #FFFFFF;\n",
              "    }\n",
              "  </style>\n",
              "\n",
              "      <script>\n",
              "        const buttonEl =\n",
              "          document.querySelector('#df-87218c4b-100f-4b61-bd37-fb49ae5aa5e6 button.colab-df-convert');\n",
              "        buttonEl.style.display =\n",
              "          google.colab.kernel.accessAllowed ? 'block' : 'none';\n",
              "\n",
              "        async function convertToInteractive(key) {\n",
              "          const element = document.querySelector('#df-87218c4b-100f-4b61-bd37-fb49ae5aa5e6');\n",
              "          const dataTable =\n",
              "            await google.colab.kernel.invokeFunction('convertToInteractive',\n",
              "                                                     [key], {});\n",
              "          if (!dataTable) return;\n",
              "\n",
              "          const docLinkHtml = 'Like what you see? Visit the ' +\n",
              "            '<a target=\"_blank\" href=https://colab.research.google.com/notebooks/data_table.ipynb>data table notebook</a>'\n",
              "            + ' to learn more about interactive tables.';\n",
              "          element.innerHTML = '';\n",
              "          dataTable['output_type'] = 'display_data';\n",
              "          await google.colab.output.renderOutput(dataTable, element);\n",
              "          const docLink = document.createElement('div');\n",
              "          docLink.innerHTML = docLinkHtml;\n",
              "          element.appendChild(docLink);\n",
              "        }\n",
              "      </script>\n",
              "    </div>\n",
              "  </div>\n",
              "  "
            ],
            "text/plain": [
              "                              PC1        PC2        PC3        PC4        PC5\n",
              "Standard Deviation      24.966409  18.639027  16.599553  13.424692  12.688644\n",
              "Proportion of Variance   0.148929   0.083007   0.065836   0.043060   0.038468\n",
              "Cumulative Proportion    0.148929   0.231936   0.297772   0.340832   0.379300"
            ]
          },
          "metadata": {},
          "execution_count": 50
        }
      ],
      "source": [
        "pd.DataFrame([list(df2_plot.iloc[:,:5].std(axis=0, ddof=0)),\n",
        "              pca.explained_variance_ratio_[:5],\n",
        "              np.cumsum(pca.explained_variance_ratio_[:5])],\n",
        "             index=['Standard Deviation', 'Proportion of Variance', 'Cumulative Proportion'],\n",
        "             columns=['PC1', 'PC2', 'PC3', 'PC4', 'PC5'])"
      ]
    },
    {
      "cell_type": "code",
      "execution_count": 51,
      "metadata": {
        "scrolled": true,
        "id": "u2ocaSGnf1bD",
        "colab": {
          "base_uri": "https://localhost:8080/",
          "height": 265
        },
        "outputId": "52109607-0ed4-404b-c0dd-a6077efedb44"
      },
      "outputs": [
        {
          "output_type": "display_data",
          "data": {
            "image/png": "[encoded data removed]",
            "text/plain": [
              "<Figure size 432x288 with 1 Axes>"
            ]
          },
          "metadata": {
            "needs_background": "light"
          }
        }
      ],
      "source": [
        "df2_plot.iloc[:,:10].var(axis=0, ddof=0).plot(kind='bar', rot=0) # ddof is delta degree of freedom, rot is rotation for the ticks \n",
        "plt.ylabel('Variances');"
      ]
    },
    {
      "cell_type": "code",
      "execution_count": 52,
      "metadata": {
        "id": "0HJuwlrJf1bD",
        "colab": {
          "base_uri": "https://localhost:8080/",
          "height": 296
        },
        "outputId": "e3f6405b-2b64-489d-ab2c-19e9c97f76e6"
      },
      "outputs": [
        {
          "output_type": "execute_result",
          "data": {
            "text/plain": [
              "<matplotlib.axes._subplots.AxesSubplot at 0x7f6a8f90ef50>"
            ]
          },
          "metadata": {},
          "execution_count": 52
        },
        {
          "output_type": "display_data",
          "data": {
            "image/png": "[encoded data removed]",
            "text/plain": [
              "<Figure size 432x288 with 1 Axes>"
            ]
          },
          "metadata": {
            "needs_background": "light"
          }
        }
      ],
      "source": [
        "plt.xlabel('pc1')\n",
        "plt.ylabel('pc2')\n",
        "sns.scatterplot(x=df2_plot.iloc[:,0],y=df2_plot.iloc[:,1]) # we plot the first two principal components"
      ]
    },
    {
      "cell_type": "markdown",
      "metadata": {
        "id": "qfyMCh5bf1bD"
      },
      "source": [
        "Now once we have the principal components, the 64 dimensional data can be used to perform silhoutte analysis. "
      ]
    },
    {
      "cell_type": "code",
      "execution_count": 54,
      "metadata": {
        "id": "fEzUOAJ5f1bD"
      },
      "outputs": [],
      "source": [
        "from sklearn.metrics import silhouette_samples, silhouette_score\n",
        "import matplotlib.cm as cm"
      ]
    },
    {
      "cell_type": "code",
      "execution_count": 53,
      "metadata": {
        "id": "sRBPMbRyf1bD"
      },
      "outputs": [],
      "source": [
        "def silhoutte_plot(n_clusters): # from https://scikit-learn.org/stable/auto_examples/cluster/plot_kmeans_silhouette_analysis.html\n",
        "    fig, ax = plt.subplots()\n",
        "\n",
        "    # The silhouette coefficient can range from -1, 1, but ranges from -0.1 to 1 for our data\n",
        "    ax.set_xlim([-0.1, 1])\n",
        "    \n",
        "    # The (n_clusters+1)*10 is for inserting blank space between silhouette\n",
        "    # plots of individual clusters, to demarcate them clearly.\n",
        "    ax.set_ylim([0, len(df2_plot) + (n_clusters + 1) * 10])\n",
        "\n",
        "    clusterer = KMeans(n_clusters=n_clusters, n_init=50, random_state=rng)\n",
        "    cluster_labels = clusterer.fit_predict(df2_plot)\n",
        "\n",
        "    # The silhouette_score gives the average value for all the samples.\n",
        "    # This gives a perspective into the density and separation of the formed\n",
        "    # clusters\n",
        "    silhouette_avg = silhouette_score(df2_plot, cluster_labels)\n",
        "    print(\"For n_clusters =\", n_clusters,\n",
        "          \"The average silhouette_score is :\", silhouette_avg)\n",
        "\n",
        "    # Compute the silhouette scores for each sample\n",
        "    sample_silhouette_values = silhouette_samples(df2_plot, cluster_labels)\n",
        "\n",
        "    y_lower = 10\n",
        "    for i in range(n_clusters):\n",
        "        # Aggregate the silhouette scores for samples belonging to\n",
        "        # cluster i, and sort them\n",
        "        ith_cluster_silhouette_values = \\\n",
        "            sample_silhouette_values[cluster_labels == i]\n",
        "\n",
        "        ith_cluster_silhouette_values.sort()\n",
        "\n",
        "        size_cluster_i = ith_cluster_silhouette_values.shape[0]\n",
        "        y_upper = y_lower + size_cluster_i\n",
        "\n",
        "        color = cm.nipy_spectral(float(i) / n_clusters)\n",
        "        ax.fill_betweenx(np.arange(y_lower, y_upper),\n",
        "                          0, ith_cluster_silhouette_values,\n",
        "                          facecolor=color, edgecolor=color, alpha=0.7)\n",
        "\n",
        "        # Label the silhouette plots with their cluster numbers at the middle\n",
        "        ax.text(-0.05, y_lower + 0.5 * size_cluster_i, str(i))\n",
        "\n",
        "        # Compute the new y_lower for next plot\n",
        "        y_lower = y_upper + 10  # 10 for the 0 samples\n",
        "        \n",
        "    ax.set_title(\"The silhouette plot for the various clusters.\")\n",
        "    ax.set_xlabel(\"The silhouette coefficient values\")\n",
        "    ax.set_ylabel(\"Cluster label\")\n",
        "\n",
        "    # The vertical line for average silhouette score of all the values\n",
        "    ax.axvline(x=silhouette_avg, color=\"red\", linestyle=\"--\")\n",
        "\n",
        "    # Labeling the clusters\n",
        "    centers = clusterer.cluster_centers_\n",
        "\n",
        "    plt.title((\"Silhouette analysis for KMeans clustering on sample data \"\n",
        "                  \"with n_clusters = %d\" % n_clusters),\n",
        "                 fontsize=14, fontweight='bold')"
      ]
    },
    {
      "cell_type": "markdown",
      "source": [
        "A good number of clusters is such that (1) no cluster is below the average score and (2) the clusters as proportionate as possible in size."
      ],
      "metadata": {
        "id": "D3ZaKI4UUn0I"
      }
    },
    {
      "cell_type": "code",
      "execution_count": 55,
      "metadata": {
        "scrolled": false,
        "id": "dBllKi1qf1bE",
        "colab": {
          "base_uri": "https://localhost:8080/",
          "height": 1000
        },
        "outputId": "0e1131f6-0ca6-4450-90c0-30dfd6ec9fee"
      },
      "outputs": [
        {
          "output_type": "stream",
          "name": "stdout",
          "text": [
            "For n_clusters = 2 The average silhouette_score is : 0.11420174418022046\n",
            "For n_clusters = 3 The average silhouette_score is : 0.10961038782120516\n",
            "For n_clusters = 4 The average silhouette_score is : 0.11736952028748092\n",
            "For n_clusters = 5 The average silhouette_score is : 0.10012533686341099\n",
            "For n_clusters = 6 The average silhouette_score is : 0.1302507214570947\n"
          ]
        },
        {
          "output_type": "display_data",
          "data": {
            "image/png": "[encoded data removed]",
            "text/plain": [
              "<Figure size 432x288 with 1 Axes>"
            ]
          },
          "metadata": {
            "needs_background": "light"
          }
        },
        {
          "output_type": "display_data",
          "data": {
            "image/png": "[encoded data removed]",
            "text/plain": [
              "<Figure size 432x288 with 1 Axes>"
            ]
          },
          "metadata": {
            "needs_background": "light"
          }
        },
        {
          "output_type": "display_data",
          "data": {
            "image/png": "[encoded data removed]",
            "text/plain": [
              "<Figure size 432x288 with 1 Axes>"
            ]
          },
          "metadata": {
            "needs_background": "light"
          }
        },
        {
          "output_type": "display_data",
          "data": {
            "image/png": "[encoded data removed]",
            "text/plain": [
              "<Figure size 432x288 with 1 Axes>"
            ]
          },
          "metadata": {
            "needs_background": "light"
          }
        },
        {
          "output_type": "display_data",
          "data": {
            "image/png": "[encoded data removed]",
            "text/plain": [
              "<Figure size 432x288 with 1 Axes>"
            ]
          },
          "metadata": {
            "needs_background": "light"
          }
        }
      ],
      "source": [
        "range_n_clusters = [2, 3, 4, 5, 6]\n",
        "\n",
        "for n_clusters in range_n_clusters:\n",
        "    silhoutte_plot(n_clusters)"
      ]
    },
    {
      "cell_type": "markdown",
      "metadata": {
        "id": "nGM2uFjef1bE"
      },
      "source": [
        "From the silhoutte analysis, the k=3 and k=4 seem to have good clusters, as for both the cases, the clusters are proportionate in size, and also no cluster is below the average score. Let us visualize the results for k=4 then. "
      ]
    },
    {
      "cell_type": "code",
      "execution_count": 56,
      "metadata": {
        "scrolled": true,
        "id": "HVTe5C4Wf1bE",
        "colab": {
          "base_uri": "https://localhost:8080/"
        },
        "outputId": "c484aa11-2ce6-4105-e52b-31db89a23982"
      },
      "outputs": [
        {
          "output_type": "stream",
          "name": "stdout",
          "text": [
            "KMeans PCA Silhouette Score: 0.11636044458884319\n"
          ]
        }
      ],
      "source": [
        "kmeans_pca = KMeans(n_clusters=4, n_init=100, max_iter=400, init='k-means++', random_state=rng).fit(df2_plot)\n",
        "print('KMeans PCA Silhouette Score: {}'.format(silhouette_score(df2_plot, kmeans_pca.labels_, metric='euclidean')))\n",
        "labels_pca = kmeans_pca.labels_\n",
        "clusters_pca = pd.concat([df2_plot, pd.DataFrame({'pca_clusters':labels_pca})], axis=1)"
      ]
    },
    {
      "cell_type": "code",
      "execution_count": 57,
      "metadata": {
        "id": "Vsgx4_jvf1bE",
        "colab": {
          "base_uri": "https://localhost:8080/"
        },
        "outputId": "44b0fc98-9038-4cc8-b69c-28e2f0231344"
      },
      "outputs": [
        {
          "output_type": "execute_result",
          "data": {
            "text/plain": [
              "2    31\n",
              "0    16\n",
              "1     9\n",
              "3     8\n",
              "Name: pca_clusters, dtype: int64"
            ]
          },
          "metadata": {},
          "execution_count": 57
        }
      ],
      "source": [
        "clusters_pca.pca_clusters.value_counts()"
      ]
    },
    {
      "cell_type": "code",
      "execution_count": 58,
      "metadata": {
        "id": "Q00JbYyYf1bE",
        "colab": {
          "base_uri": "https://localhost:8080/",
          "height": 296
        },
        "outputId": "7a818b16-03d6-4175-d195-fa5ceff31722"
      },
      "outputs": [
        {
          "output_type": "execute_result",
          "data": {
            "text/plain": [
              "<matplotlib.axes._subplots.AxesSubplot at 0x7f6a8f66e810>"
            ]
          },
          "metadata": {},
          "execution_count": 58
        },
        {
          "output_type": "display_data",
          "data": {
            "image/png": "[encoded data removed]",
            "text/plain": [
              "<Figure size 432x288 with 1 Axes>"
            ]
          },
          "metadata": {
            "needs_background": "light"
          }
        }
      ],
      "source": [
        "sns.scatterplot(data=clusters_pca, x=clusters_pca.iloc[:,0], y=clusters_pca.iloc[:,1], hue='pca_clusters', palette=\"deep\")"
      ]
    },
    {
      "cell_type": "markdown",
      "metadata": {
        "id": "O0IDw7cvf1bF"
      },
      "source": [
        "## Elbow Method\n",
        "This is another method used for selecting the number of clusters. We fit the model with range of K values. If the line chart resembles an arm, then the “elbow” (the point of inflection on the curve) is a good indication that the underlying model fits best at that point. \n",
        "\n",
        "### Performing dimensionality reduction - tSNE\n",
        "t-Distributed Stochastic Neighbor Embedding (t-SNE) is a non-linear technique for dimensionality reduction that is particularly well suited for the visualization of high-dimensional datasets. It is extensively applied in image processing, NLP, genomic data and speech processing. In simple terms, t-SNE minimizes the divergence between two distributions: a distribution that measures pairwise similarities of the input objects and a distribution that measures pairwise similarities of the corresponding low-dimensional points in the embedding. This is a particularly useful technique for visualizing high-dimensional data."
      ]
    },
    {
      "cell_type": "code",
      "execution_count": 59,
      "metadata": {
        "id": "URwGH3ZLf1bF"
      },
      "outputs": [],
      "source": [
        "from sklearn.manifold import TSNE"
      ]
    },
    {
      "cell_type": "code",
      "execution_count": 60,
      "metadata": {
        "id": "FmRF6eScf1bF",
        "colab": {
          "base_uri": "https://localhost:8080/"
        },
        "outputId": "1d9fa737-183d-4ea8-924d-e47843af0f7a"
      },
      "outputs": [
        {
          "output_type": "stream",
          "name": "stderr",
          "text": [
            "/usr/local/lib/python3.7/dist-packages/sklearn/manifold/_t_sne.py:783: FutureWarning: The default initialization in TSNE will change from 'random' to 'pca' in 1.2.\n",
            "  FutureWarning,\n",
            "/usr/local/lib/python3.7/dist-packages/sklearn/manifold/_t_sne.py:793: FutureWarning: The default learning rate in TSNE will change from 200.0 to 'auto' in 1.2.\n",
            "  FutureWarning,\n"
          ]
        }
      ],
      "source": [
        "# how do we apply tsne and put the results in a dataframe?\n",
        "tsne = TSNE(n_components = 2, random_state = rng)\n",
        "df3 = pd.DataFrame(tsne.fit_transform(df), columns = ['tsne1', 'tsne2'])"
      ]
    },
    {
      "cell_type": "code",
      "execution_count": 61,
      "metadata": {
        "id": "6RTx3x7uf1bF",
        "colab": {
          "base_uri": "https://localhost:8080/"
        },
        "outputId": "079f2723-8756-4895-ee56-d3a1541c7d25"
      },
      "outputs": [
        {
          "output_type": "execute_result",
          "data": {
            "text/plain": [
              "(64, 2)"
            ]
          },
          "metadata": {},
          "execution_count": 61
        }
      ],
      "source": [
        "df3.shape"
      ]
    },
    {
      "cell_type": "markdown",
      "metadata": {
        "id": "dVtEFgiDf1bG"
      },
      "source": [
        "Let us visualize this two dimensional data. "
      ]
    },
    {
      "cell_type": "code",
      "execution_count": 62,
      "metadata": {
        "id": "iNwEI2H2f1bG",
        "colab": {
          "base_uri": "https://localhost:8080/",
          "height": 300
        },
        "outputId": "16a11d65-4d8d-4441-e408-609facf24992"
      },
      "outputs": [
        {
          "output_type": "execute_result",
          "data": {
            "text/plain": [
              "<matplotlib.axes._subplots.AxesSubplot at 0x7f6a8f340c10>"
            ]
          },
          "metadata": {},
          "execution_count": 62
        },
        {
          "output_type": "display_data",
          "data": {
            "image/png": "[encoded data removed]",
            "text/plain": [
              "<Figure size 432x288 with 1 Axes>"
            ]
          },
          "metadata": {
            "needs_background": "light"
          }
        }
      ],
      "source": [
        "plt.xlabel('tsne1')\n",
        "plt.ylabel('tsne2')\n",
        "sns.scatterplot(x=df3.iloc[:,0], y=df3.iloc[:,1])"
      ]
    },
    {
      "cell_type": "markdown",
      "metadata": {
        "id": "7ypB0HCIf1bG"
      },
      "source": [
        "To find the optimal number of clusters - we plot the sum of squared distances of samples to their closest cluster center, available as ```inertia_``` attribute of the K-Means class. "
      ]
    },
    {
      "cell_type": "code",
      "execution_count": 63,
      "metadata": {
        "scrolled": true,
        "id": "2w4mhgNuf1bG",
        "colab": {
          "base_uri": "https://localhost:8080/",
          "height": 206
        },
        "outputId": "59927d91-cfd2-49d8-ae9c-db3266ca113f"
      },
      "outputs": [
        {
          "output_type": "execute_result",
          "data": {
            "text/html": [
              "\n",
              "  <div id=\"df-0abda587-7e36-4111-9770-a0d903c347f1\">\n",
              "    <div class=\"colab-df-container\">\n",
              "      <div>\n",
              "<style scoped>\n",
              "    .dataframe tbody tr th:only-of-type {\n",
              "        vertical-align: middle;\n",
              "    }\n",
              "\n",
              "    .dataframe tbody tr th {\n",
              "        vertical-align: top;\n",
              "    }\n",
              "\n",
              "    .dataframe thead th {\n",
              "        text-align: right;\n",
              "    }\n",
              "</style>\n",
              "<table border=\"1\" class=\"dataframe\">\n",
              "  <thead>\n",
              "    <tr style=\"text-align: right;\">\n",
              "      <th></th>\n",
              "      <th>Cluster</th>\n",
              "      <th>SSE</th>\n",
              "    </tr>\n",
              "  </thead>\n",
              "  <tbody>\n",
              "    <tr>\n",
              "      <th>0</th>\n",
              "      <td>1</td>\n",
              "      <td>67924.859375</td>\n",
              "    </tr>\n",
              "    <tr>\n",
              "      <th>1</th>\n",
              "      <td>2</td>\n",
              "      <td>36113.910156</td>\n",
              "    </tr>\n",
              "    <tr>\n",
              "      <th>2</th>\n",
              "      <td>3</td>\n",
              "      <td>22606.261719</td>\n",
              "    </tr>\n",
              "    <tr>\n",
              "      <th>3</th>\n",
              "      <td>4</td>\n",
              "      <td>16784.322266</td>\n",
              "    </tr>\n",
              "    <tr>\n",
              "      <th>4</th>\n",
              "      <td>5</td>\n",
              "      <td>13246.402344</td>\n",
              "    </tr>\n",
              "  </tbody>\n",
              "</table>\n",
              "</div>\n",
              "      <button class=\"colab-df-convert\" onclick=\"convertToInteractive('df-0abda587-7e36-4111-9770-a0d903c347f1')\"\n",
              "              title=\"Convert this dataframe to an interactive table.\"\n",
              "              style=\"display:none;\">\n",
              "        \n",
              "  <svg xmlns=\"http://www.w3.org/2000/svg\" height=\"24px\"viewBox=\"0 0 24 24\"\n",
              "       width=\"24px\">\n",
              "    <path d=\"M0 0h24v24H0V0z\" fill=\"none\"/>\n",
              "    <path d=\"M18.56 5.44l.94 2.06.94-2.06 2.06-.94-2.06-.94-.94-2.06-.94 2.06-2.06.94zm-11 1L8.5 8.5l.94-2.06 2.06-.94-2.06-.94L8.5 2.5l-.94 2.06-2.06.94zm10 10l.94 2.06.94-2.06 2.06-.94-2.06-.94-.94-2.06-.94 2.06-2.06.94z\"/><path d=\"M17.41 7.96l-1.37-1.37c-.4-.4-.92-.59-1.43-.59-.52 0-1.04.2-1.43.59L10.3 9.45l-7.72 7.72c-.78.78-.78 2.05 0 2.83L4 21.41c.39.39.9.59 1.41.59.51 0 1.02-.2 1.41-.59l7.78-7.78 2.81-2.81c.8-.78.8-2.07 0-2.86zM5.41 20L4 18.59l7.72-7.72 1.47 1.35L5.41 20z\"/>\n",
              "  </svg>\n",
              "      </button>\n",
              "      \n",
              "  <style>\n",
              "    .colab-df-container {\n",
              "      display:flex;\n",
              "      flex-wrap:wrap;\n",
              "      gap: 12px;\n",
              "    }\n",
              "\n",
              "    .colab-df-convert {\n",
              "      background-color: #E8F0FE;\n",
              "      border: none;\n",
              "      border-radius: 50%;\n",
              "      cursor: pointer;\n",
              "      display: none;\n",
              "      fill: #1967D2;\n",
              "      height: 32px;\n",
              "      padding: 0 0 0 0;\n",
              "      width: 32px;\n",
              "    }\n",
              "\n",
              "    .colab-df-convert:hover {\n",
              "      background-color: #E2EBFA;\n",
              "      box-shadow: 0px 1px 2px rgba(60, 64, 67, 0.3), 0px 1px 3px 1px rgba(60, 64, 67, 0.15);\n",
              "      fill: #174EA6;\n",
              "    }\n",
              "\n",
              "    [theme=dark] .colab-df-convert {\n",
              "      background-color: #3B4455;\n",
              "      fill: #D2E3FC;\n",
              "    }\n",
              "\n",
              "    [theme=dark] .colab-df-convert:hover {\n",
              "      background-color: #434B5C;\n",
              "      box-shadow: 0px 1px 3px 1px rgba(0, 0, 0, 0.15);\n",
              "      filter: drop-shadow(0px 1px 2px rgba(0, 0, 0, 0.3));\n",
              "      fill: #FFFFFF;\n",
              "    }\n",
              "  </style>\n",
              "\n",
              "      <script>\n",
              "        const buttonEl =\n",
              "          document.querySelector('#df-0abda587-7e36-4111-9770-a0d903c347f1 button.colab-df-convert');\n",
              "        buttonEl.style.display =\n",
              "          google.colab.kernel.accessAllowed ? 'block' : 'none';\n",
              "\n",
              "        async function convertToInteractive(key) {\n",
              "          const element = document.querySelector('#df-0abda587-7e36-4111-9770-a0d903c347f1');\n",
              "          const dataTable =\n",
              "            await google.colab.kernel.invokeFunction('convertToInteractive',\n",
              "                                                     [key], {});\n",
              "          if (!dataTable) return;\n",
              "\n",
              "          const docLinkHtml = 'Like what you see? Visit the ' +\n",
              "            '<a target=\"_blank\" href=https://colab.research.google.com/notebooks/data_table.ipynb>data table notebook</a>'\n",
              "            + ' to learn more about interactive tables.';\n",
              "          element.innerHTML = '';\n",
              "          dataTable['output_type'] = 'display_data';\n",
              "          await google.colab.output.renderOutput(dataTable, element);\n",
              "          const docLink = document.createElement('div');\n",
              "          docLink.innerHTML = docLinkHtml;\n",
              "          element.appendChild(docLink);\n",
              "        }\n",
              "      </script>\n",
              "    </div>\n",
              "  </div>\n",
              "  "
            ],
            "text/plain": [
              "   Cluster           SSE\n",
              "0        1  67924.859375\n",
              "1        2  36113.910156\n",
              "2        3  22606.261719\n",
              "3        4  16784.322266\n",
              "4        5  13246.402344"
            ]
          },
          "metadata": {},
          "execution_count": 63
        }
      ],
      "source": [
        "sse = []\n",
        "k_list = range(1, 20)\n",
        "for k in k_list:\n",
        "    km = KMeans(n_clusters=k, random_state=rng)\n",
        "    km.fit(df3)\n",
        "    sse.append(km.inertia_)\n",
        "    \n",
        "tsne_results_scale = pd.DataFrame({'Cluster': range(1,20), 'SSE': sse})\n",
        "tsne_results_scale.head()"
      ]
    },
    {
      "cell_type": "code",
      "execution_count": 64,
      "metadata": {
        "id": "GJ6j3JJsf1bH",
        "colab": {
          "base_uri": "https://localhost:8080/",
          "height": 530
        },
        "outputId": "672462e6-c60c-4195-ec58-472482bb9288"
      },
      "outputs": [
        {
          "output_type": "execute_result",
          "data": {
            "text/plain": [
              "Text(0.5, 1.0, 'Optimal Number of Clusters using Elbow Method (tSNE Data)')"
            ]
          },
          "metadata": {},
          "execution_count": 64
        },
        {
          "output_type": "display_data",
          "data": {
            "image/png": "[encoded data removed]",
            "text/plain": [
              "<Figure size 720x576 with 1 Axes>"
            ]
          },
          "metadata": {
            "needs_background": "light"
          }
        }
      ],
      "source": [
        "plt.figure(figsize=(10,8))\n",
        "sns.lineplot(data=tsne_results_scale, x='Cluster', y='SSE', marker='o')\n",
        "plt.xticks(range(1,20))\n",
        "plt.title('Optimal Number of Clusters using Elbow Method (tSNE Data)')"
      ]
    },
    {
      "cell_type": "markdown",
      "metadata": {
        "id": "p_QDPEMVf1bH"
      },
      "source": [
        "We see that the elbow seems to be at k=4. Let us select 4 clusters and visualize. "
      ]
    },
    {
      "cell_type": "code",
      "execution_count": 65,
      "metadata": {
        "scrolled": false,
        "id": "4YRyyolYf1bH",
        "colab": {
          "base_uri": "https://localhost:8080/"
        },
        "outputId": "42083100-9b8c-41a4-8dbc-e5805c10313d"
      },
      "outputs": [
        {
          "output_type": "stream",
          "name": "stdout",
          "text": [
            "KMeans tSNE Scaled Silhouette Score: 0.38802021741867065\n"
          ]
        }
      ],
      "source": [
        "kmeans_tsne_scale = KMeans(n_clusters=4, n_init=100, max_iter=400, init='k-means++', random_state=rng).fit(df3)\n",
        "print('KMeans tSNE Scaled Silhouette Score: {}'.format(silhouette_score(df3, kmeans_tsne_scale.labels_, metric='euclidean')))\n",
        "labels_tsne_scale = kmeans_tsne_scale.labels_\n",
        "clusters_tsne_scale = pd.concat([df3, pd.DataFrame({'tsne_clusters':labels_tsne_scale})], axis=1)"
      ]
    },
    {
      "cell_type": "code",
      "execution_count": 66,
      "metadata": {
        "scrolled": true,
        "id": "fgGaPUQOf1bH",
        "colab": {
          "base_uri": "https://localhost:8080/",
          "height": 206
        },
        "outputId": "4613d939-3d1a-4c18-dba5-0069f00ae7c5"
      },
      "outputs": [
        {
          "output_type": "execute_result",
          "data": {
            "text/html": [
              "\n",
              "  <div id=\"df-56fa2d0e-9bd2-4dc4-8c37-903ec7c54f2f\">\n",
              "    <div class=\"colab-df-container\">\n",
              "      <div>\n",
              "<style scoped>\n",
              "    .dataframe tbody tr th:only-of-type {\n",
              "        vertical-align: middle;\n",
              "    }\n",
              "\n",
              "    .dataframe tbody tr th {\n",
              "        vertical-align: top;\n",
              "    }\n",
              "\n",
              "    .dataframe thead th {\n",
              "        text-align: right;\n",
              "    }\n",
              "</style>\n",
              "<table border=\"1\" class=\"dataframe\">\n",
              "  <thead>\n",
              "    <tr style=\"text-align: right;\">\n",
              "      <th></th>\n",
              "      <th>tsne1</th>\n",
              "      <th>tsne2</th>\n",
              "      <th>tsne_clusters</th>\n",
              "    </tr>\n",
              "  </thead>\n",
              "  <tbody>\n",
              "    <tr>\n",
              "      <th>0</th>\n",
              "      <td>14.222492</td>\n",
              "      <td>30.380573</td>\n",
              "      <td>3</td>\n",
              "    </tr>\n",
              "    <tr>\n",
              "      <th>1</th>\n",
              "      <td>14.908033</td>\n",
              "      <td>36.247589</td>\n",
              "      <td>3</td>\n",
              "    </tr>\n",
              "    <tr>\n",
              "      <th>2</th>\n",
              "      <td>21.722471</td>\n",
              "      <td>24.520607</td>\n",
              "      <td>3</td>\n",
              "    </tr>\n",
              "    <tr>\n",
              "      <th>3</th>\n",
              "      <td>27.042793</td>\n",
              "      <td>32.672726</td>\n",
              "      <td>3</td>\n",
              "    </tr>\n",
              "    <tr>\n",
              "      <th>4</th>\n",
              "      <td>43.213364</td>\n",
              "      <td>22.575613</td>\n",
              "      <td>3</td>\n",
              "    </tr>\n",
              "  </tbody>\n",
              "</table>\n",
              "</div>\n",
              "      <button class=\"colab-df-convert\" onclick=\"convertToInteractive('df-56fa2d0e-9bd2-4dc4-8c37-903ec7c54f2f')\"\n",
              "              title=\"Convert this dataframe to an interactive table.\"\n",
              "              style=\"display:none;\">\n",
              "        \n",
              "  <svg xmlns=\"http://www.w3.org/2000/svg\" height=\"24px\"viewBox=\"0 0 24 24\"\n",
              "       width=\"24px\">\n",
              "    <path d=\"M0 0h24v24H0V0z\" fill=\"none\"/>\n",
              "    <path d=\"M18.56 5.44l.94 2.06.94-2.06 2.06-.94-2.06-.94-.94-2.06-.94 2.06-2.06.94zm-11 1L8.5 8.5l.94-2.06 2.06-.94-2.06-.94L8.5 2.5l-.94 2.06-2.06.94zm10 10l.94 2.06.94-2.06 2.06-.94-2.06-.94-.94-2.06-.94 2.06-2.06.94z\"/><path d=\"M17.41 7.96l-1.37-1.37c-.4-.4-.92-.59-1.43-.59-.52 0-1.04.2-1.43.59L10.3 9.45l-7.72 7.72c-.78.78-.78 2.05 0 2.83L4 21.41c.39.39.9.59 1.41.59.51 0 1.02-.2 1.41-.59l7.78-7.78 2.81-2.81c.8-.78.8-2.07 0-2.86zM5.41 20L4 18.59l7.72-7.72 1.47 1.35L5.41 20z\"/>\n",
              "  </svg>\n",
              "      </button>\n",
              "      \n",
              "  <style>\n",
              "    .colab-df-container {\n",
              "      display:flex;\n",
              "      flex-wrap:wrap;\n",
              "      gap: 12px;\n",
              "    }\n",
              "\n",
              "    .colab-df-convert {\n",
              "      background-color: #E8F0FE;\n",
              "      border: none;\n",
              "      border-radius: 50%;\n",
              "      cursor: pointer;\n",
              "      display: none;\n",
              "      fill: #1967D2;\n",
              "      height: 32px;\n",
              "      padding: 0 0 0 0;\n",
              "      width: 32px;\n",
              "    }\n",
              "\n",
              "    .colab-df-convert:hover {\n",
              "      background-color: #E2EBFA;\n",
              "      box-shadow: 0px 1px 2px rgba(60, 64, 67, 0.3), 0px 1px 3px 1px rgba(60, 64, 67, 0.15);\n",
              "      fill: #174EA6;\n",
              "    }\n",
              "\n",
              "    [theme=dark] .colab-df-convert {\n",
              "      background-color: #3B4455;\n",
              "      fill: #D2E3FC;\n",
              "    }\n",
              "\n",
              "    [theme=dark] .colab-df-convert:hover {\n",
              "      background-color: #434B5C;\n",
              "      box-shadow: 0px 1px 3px 1px rgba(0, 0, 0, 0.15);\n",
              "      filter: drop-shadow(0px 1px 2px rgba(0, 0, 0, 0.3));\n",
              "      fill: #FFFFFF;\n",
              "    }\n",
              "  </style>\n",
              "\n",
              "      <script>\n",
              "        const buttonEl =\n",
              "          document.querySelector('#df-56fa2d0e-9bd2-4dc4-8c37-903ec7c54f2f button.colab-df-convert');\n",
              "        buttonEl.style.display =\n",
              "          google.colab.kernel.accessAllowed ? 'block' : 'none';\n",
              "\n",
              "        async function convertToInteractive(key) {\n",
              "          const element = document.querySelector('#df-56fa2d0e-9bd2-4dc4-8c37-903ec7c54f2f');\n",
              "          const dataTable =\n",
              "            await google.colab.kernel.invokeFunction('convertToInteractive',\n",
              "                                                     [key], {});\n",
              "          if (!dataTable) return;\n",
              "\n",
              "          const docLinkHtml = 'Like what you see? Visit the ' +\n",
              "            '<a target=\"_blank\" href=https://colab.research.google.com/notebooks/data_table.ipynb>data table notebook</a>'\n",
              "            + ' to learn more about interactive tables.';\n",
              "          element.innerHTML = '';\n",
              "          dataTable['output_type'] = 'display_data';\n",
              "          await google.colab.output.renderOutput(dataTable, element);\n",
              "          const docLink = document.createElement('div');\n",
              "          docLink.innerHTML = docLinkHtml;\n",
              "          element.appendChild(docLink);\n",
              "        }\n",
              "      </script>\n",
              "    </div>\n",
              "  </div>\n",
              "  "
            ],
            "text/plain": [
              "       tsne1      tsne2  tsne_clusters\n",
              "0  14.222492  30.380573              3\n",
              "1  14.908033  36.247589              3\n",
              "2  21.722471  24.520607              3\n",
              "3  27.042793  32.672726              3\n",
              "4  43.213364  22.575613              3"
            ]
          },
          "metadata": {},
          "execution_count": 66
        }
      ],
      "source": [
        "clusters_tsne_scale.head()"
      ]
    },
    {
      "cell_type": "code",
      "execution_count": 67,
      "metadata": {
        "id": "nPTfObszf1bH",
        "colab": {
          "base_uri": "https://localhost:8080/"
        },
        "outputId": "cf098817-241e-46b0-9f5e-44fb18c00c01"
      },
      "outputs": [
        {
          "output_type": "execute_result",
          "data": {
            "text/plain": [
              "0    17\n",
              "1    12\n",
              "2    13\n",
              "3    22\n",
              "Name: tsne_clusters, dtype: int64"
            ]
          },
          "metadata": {},
          "execution_count": 67
        }
      ],
      "source": [
        "clusters_tsne_scale.tsne_clusters.value_counts().sort_index()"
      ]
    },
    {
      "cell_type": "code",
      "execution_count": 68,
      "metadata": {
        "id": "V2bcZobhf1bI",
        "colab": {
          "base_uri": "https://localhost:8080/",
          "height": 300
        },
        "outputId": "de6d5fcc-cc0e-48af-f918-aaf417818938"
      },
      "outputs": [
        {
          "output_type": "execute_result",
          "data": {
            "text/plain": [
              "<matplotlib.legend.Legend at 0x7f6a8f0ba810>"
            ]
          },
          "metadata": {},
          "execution_count": 68
        },
        {
          "output_type": "display_data",
          "data": {
            "image/png": "[encoded data removed]",
            "text/plain": [
              "<Figure size 432x288 with 1 Axes>"
            ]
          },
          "metadata": {
            "needs_background": "light"
          }
        }
      ],
      "source": [
        "plt.xlabel('tsne1')\n",
        "plt.ylabel('tsne2')\n",
        "sns.scatterplot(data=clusters_tsne_scale, x='tsne1', y='tsne2', hue='tsne_clusters', palette='deep')\n",
        "plt.legend(bbox_to_anchor=(1.05, 1), loc=2, borderaxespad=0.)"
      ]
    },
    {
      "cell_type": "markdown",
      "metadata": {
        "id": "BXCZ3TW4f1bI"
      },
      "source": [
        "A warning: t-SNE often fails to preserve the global geometry of the data. This means that the relative position of clusters on the t-SNE plot is almost arbitrary and depends on random initialisation more than on anything else. While this may not be a problem in some situations, scRNA-seq data sets often exhibit biologically meaningful hierarchical structure, e.g. encompass several very different cell classes, each further divided into various types. Typical t-SNE plots do not capture such global structure, yielding a suboptimal and potentially misleading visualisation. So, t-SNE may not always yield best dimensionality reduction for genetic data, however, it has shown very good results for high-dimensional data in general."
      ]
    },
    {
      "cell_type": "markdown",
      "metadata": {
        "id": "Blrvy6L6f1bI"
      },
      "source": [
        "### How would we analyze which clustering is most representative for this type of data?\n",
        "Usually the domain knowledge of the cancer types and which algorithm has given us good clusters which are most representative is evaluated. Another approach used for gene data is to evaluate the different patient characteristics, such as Age, co-morbidities, etc. to find if the clusters are actually identifying such patterns. Also, using multiple datasets is usually required in such unsupervised tasks. "
      ]
    }
  ],
  "metadata": {
    "kernelspec": {
      "display_name": "Python 3",
      "language": "python",
      "name": "python3"
    },
    "language_info": {
      "codemirror_mode": {
        "name": "ipython",
        "version": 3
      },
      "file_extension": ".py",
      "mimetype": "text/x-python",
      "name": "python",
      "nbconvert_exporter": "python",
      "pygments_lexer": "ipython3",
      "version": "3.9.1"
    },
    "colab": {
      "name": "Tutorial 8 Clustering (filled).ipynb",
      "provenance": [],
      "collapsed_sections": [
        "Blrvy6L6f1bI"
      ]
    }
  },
  "nbformat": 4,
  "nbformat_minor": 0
}