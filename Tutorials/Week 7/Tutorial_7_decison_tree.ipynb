{
  "cells": [
    {
      "cell_type": "markdown",
      "metadata": {
        "id": "9Gk2GZubSOrb"
      },
      "source": [
        "# Week 7 - Decision Tree\n",
        "\n",
        "## Learning Objectives\n",
        "+ Understanding decision tree\n",
        "+ Decision Tree classification \n",
        "    + Iris dataset\n",
        "    + Visualizing the decision surface\n",
        "    + Visualizing decision tree\n",
        "+ Decision Tree Regression\n",
        "    + Auto MPG dataset\n",
        "+ Moving onto Random Forests\n",
        "\n",
        "\n",
        "The contents of this tutorial are based on the Chapter 6 of \"Hands-On Machine Learning with Scikit-Learn and TensorFlow : Concepts, Tools, and Techniques to Build Intelligent Systems\" by Géron, Aurélien \\[[NUS library link](https://nus.summon.serialssolutions.com/2.0.0/link/0/eLvHCXMwdV1LSwMxEB5svXjyVfFRJX9gtZtsNg0UL9Kl4FFB6KVkzVikdhdqi3_fyTRbW9Fbkh2GkJ3kG4aZbwCUvO0lv94ErzR6b8gdTo16zbw0ztnUlbnX0vfzN-7-Jp_Gavioxj_5suRpkdLVmlHwc7oJXChCXaPp5W0pxcb9sjFSaTQ5DZFTigMtNtNkyVzUZcneyN8wWxObNsRP8WN_dx5IYVu0hS3UKY5gH0MpwjHsYXUCh00DBhHv4ym4wdwtZvejUK47uONxsl6qKzHnNEkUsS_EVISQqyDEm70vd4VZQpASEdLZ60XxUX9FiQ50i-HzwyihvU1iqGfSHIxUZ9Cu6grPQTjlrCsD8HvMcomlRdTe9XTgYUl1eQGdP1Vc_rN-BQcyQBuHIbrQXi5WeM1HdMM_4htft4eB)\\], [sklearn tutorial](https://scikit-learn.org/0.15/auto_examples/tree/plot_iris.html), [sklearn article on decision trees](https://scikit-learn.org/stable/modules/tree.html)."
      ]
    },
    {
      "cell_type": "code",
      "source": [
        "from google.colab import drive\n",
        "drive.mount('/content/drive')"
      ],
      "metadata": {
        "id": "cSwTJhmTTSYq"
      },
      "execution_count": null,
      "outputs": []
    },
    {
      "cell_type": "markdown",
      "metadata": {
        "id": "Men3tK-BSOrf"
      },
      "source": [
        "# Decision Trees in sklearn\n",
        "\n",
        "Decision Trees can be used for classification as well as regression, using ```DecisionTreeClassifier``` and ```DecisionTreeRegressor```. They require little data preparation as compared to other methods, in particular they do not require feature scaling and centering. However, do note that the sklearn APIs do not support missing values, and hence all data should have **missing values imputed before** it is passed to these APIs."
      ]
    },
    {
      "cell_type": "markdown",
      "metadata": {
        "id": "Zggvq-OuSOrg"
      },
      "source": [
        "# Decision Tree Classification\n",
        "\n",
        "## Dataset - Iris Dataset\n",
        "\n",
        "For this part of the tutorial, we will start with a classic dataset we have previously used - iris dataset."
      ]
    },
    {
      "cell_type": "code",
      "execution_count": null,
      "metadata": {
        "id": "Tuc9sIj9SOrg"
      },
      "outputs": [],
      "source": [
        "from sklearn.datasets import load_iris\n",
        "\n",
        "iris = load_iris()\n",
        "X = iris.data[:, 2:] # petal length and width\n",
        "y = iris.target"
      ]
    },
    {
      "cell_type": "code",
      "execution_count": null,
      "metadata": {
        "id": "xppYlFIJSOrh"
      },
      "outputs": [],
      "source": [
        "import numpy as np\n",
        "\n",
        "rng = np.random.RandomState(42)"
      ]
    },
    {
      "cell_type": "markdown",
      "metadata": {
        "id": "T4wgUIB8SOri"
      },
      "source": [
        "As we know from previous tutorials, training a classifier is as simple as using the correct API and running ```fit()``` and ```predict()``` functions on it. So let us use the ```DecisionTreeClassifier``` and fit it on the data of petal length and width. The reason for choosing just two of the columns of the dataset is to visualize the decision surface easily at first."
      ]
    },
    {
      "cell_type": "markdown",
      "source": [
        "## Splitting the training and testing sets"
      ],
      "metadata": {
        "id": "N56uihV1UmVe"
      }
    },
    {
      "cell_type": "code",
      "execution_count": null,
      "metadata": {
        "id": "e2NYmRYYSOri"
      },
      "outputs": [],
      "source": [
        "from sklearn.model_selection import train_test_split\n",
        "\n",
        "X_train, X_test, y_train, y_test = train_test_split(X, y, test_size=0.20, random_state=rng)"
      ]
    },
    {
      "cell_type": "code",
      "execution_count": null,
      "metadata": {
        "scrolled": true,
        "id": "xDvKh54MSOrj"
      },
      "outputs": [],
      "source": [
        "print(X_train.shape)\n",
        "print(X_test.shape)"
      ]
    },
    {
      "cell_type": "markdown",
      "metadata": {
        "id": "_NdzApAMSOrl"
      },
      "source": [
        "## Setting up the decision tree classifier, and fitting it to the data\n",
        "\n",
        "We need to constrain the decision tree. If left unconstrained, the tree structure will adapt itself to the training data, fitting it very closely, and most likely overfitting it. To avoid overfitting the training data, you need to restrict the Decision Tree’s freedom during training i.e. regularize it. The regularization hyperparameters depend on the algorithm used, but generally you can at least restrict the maximum depth of the Decision Tree. \n",
        "\n",
        "A decision tree is often called a nonparametric model, not because it does not have any parameters (it often has a lot) but because the number of parameters is not determined prior to training, so the model structure is free to stick closely to the data. In contrast, a parametric model such as a linear model has a predetermined number of parameters, so its degree of freedom is limited, reducing the risk of overfitting (but increasing the risk of underfitting). "
      ]
    },
    {
      "cell_type": "code",
      "execution_count": null,
      "metadata": {
        "scrolled": false,
        "id": "mX1sAfHgSOrl"
      },
      "outputs": [],
      "source": [
        "from sklearn.tree import DecisionTreeClassifier\n",
        "\n",
        "tree_clf = DecisionTreeClassifier(max_depth=2, random_state=rng)\n",
        "tree_clf.fit(X_train, y_train)"
      ]
    },
    {
      "cell_type": "markdown",
      "metadata": {
        "id": "bpp-wzh_SOrn"
      },
      "source": [
        "## Estimating the probability that an instance belongs to a each class\n",
        "\n",
        "A Decision Tree can also estimate the probability that an instance belongs to a particular class k: first it traverses the tree to find the leaf node for this instance, and then it returns the ratio of training instances of class k in this node. \n",
        "\n",
        "For example, suppose you have found a flower whose petals are 5 cm long and 1.5 cm wide. The corresponding leaf node is the depth-2 left node, so the Decision Tree should output the probabilities as the fraction of samples of the same class in a leaf, in our case the size of training samples is 130.\n",
        "\n",
        "The prediction of all points that fall within this leaf node is the same."
      ]
    },
    {
      "cell_type": "code",
      "source": [
        ""
      ],
      "metadata": {
        "id": "jMmsltVL3iG5"
      },
      "execution_count": null,
      "outputs": []
    },
    {
      "cell_type": "code",
      "execution_count": null,
      "metadata": {
        "scrolled": false,
        "id": "g1YCUTXlSOro"
      },
      "outputs": [],
      "source": [
        "tree_clf.predict([[5, 1.5]])"
      ]
    },
    {
      "cell_type": "code",
      "execution_count": null,
      "metadata": {
        "id": "jUTwFeq-SOro"
      },
      "outputs": [],
      "source": [
        "iris.target_names"
      ]
    },
    {
      "cell_type": "markdown",
      "source": [
        "## Plotting the results"
      ],
      "metadata": {
        "id": "AGEm5tsXWxgu"
      }
    },
    {
      "cell_type": "code",
      "execution_count": null,
      "metadata": {
        "id": "KME0jMVOSOrm"
      },
      "outputs": [],
      "source": [
        "import matplotlib.pyplot as plt\n",
        "import seaborn as sns\n",
        "\n",
        "# Parameters\n",
        "n_classes = 3\n",
        "plot_colors = \"bry\"\n",
        "plot_step = 0.02"
      ]
    },
    {
      "cell_type": "markdown",
      "source": [
        "We first visualise the predictions of our decision tree, and then superimpose the raw data on top of it."
      ],
      "metadata": {
        "id": "BS7GE1zvXTnG"
      }
    },
    {
      "cell_type": "code",
      "execution_count": null,
      "metadata": {
        "scrolled": false,
        "id": "kRsLEi5cSOrm"
      },
      "outputs": [],
      "source": [
        "# create a meshgrid of points, the decision tree has to make a prediction at each point\n",
        "x_min, x_max = X_test[:, 0].min() - 1, X_test[:, 0].max() + 1\n",
        "y_min, y_max = X_test[:, 1].min() - 1, X_test[:, 1].max() + 1\n",
        "xx, yy = np.meshgrid(np.arange(x_min, x_max, plot_step),\n",
        "                    np.arange(y_min, y_max, plot_step))\n",
        "\n",
        "# flatten the meshgrid, and use the decision tree to make prediction along these points, then reshape it into the shape of the meshgrid\n",
        "Z = tree_clf.predict(np.c_[xx.ravel(), yy.ravel()]) \n",
        "Z = Z.reshape(xx.shape)\n",
        "# then plot a filled contour of the predictions made by the decision tree\n",
        "cs = plt.contourf(xx, yy, Z, cmap=plt.cm.Pastel1)\n",
        "\n",
        "plt.xlabel(\"Petal length\")\n",
        "plt.ylabel(\"Petal width\")\n",
        "plt.axis(\"tight\")\n",
        "\n",
        "sns.scatterplot(x=X_test[:, 0], y=X_test[:, 1], hue=y_test, palette=\"deep\")\n",
        "\n",
        "plt.axis(\"tight\")"
      ]
    },
    {
      "cell_type": "markdown",
      "metadata": {
        "id": "KqwrtU2mSOrn"
      },
      "source": [
        "As you can see Decision Trees are fairly intuitive and their decisions are easy to interpret. Such models are often called white box models. "
      ]
    },
    {
      "cell_type": "markdown",
      "metadata": {
        "id": "Tr9CoNM7SOro"
      },
      "source": [
        "# Metrics \n",
        "\n",
        "The ```DecisionTreeClassifier``` also has a ```score``` function which returns the mean accuracy on given test data and labels. For other metrics, the ```predict``` function would still be used.\n",
        "\n",
        "In multi-label classification such as this, ```score``` gives is the subset accuracy which is a harsh metric since you require for each sample that each label set be correctly predicted."
      ]
    },
    {
      "cell_type": "code",
      "execution_count": null,
      "metadata": {
        "scrolled": true,
        "id": "7vPorLGnSOro"
      },
      "outputs": [],
      "source": [
        "tree_clf.score(X_test, y_test)"
      ]
    },
    {
      "cell_type": "markdown",
      "source": [
        "We can find the importance of each feature computed as the (normalized) total reduction of the criterion brought by that feature. It is also known as the Gini importance."
      ],
      "metadata": {
        "id": "0YHFZ7Bep4iR"
      }
    },
    {
      "cell_type": "code",
      "execution_count": null,
      "metadata": {
        "scrolled": true,
        "id": "LgCoqr0BSOrp"
      },
      "outputs": [],
      "source": [
        "tree_clf.feature_importances_"
      ]
    },
    {
      "cell_type": "markdown",
      "metadata": {
        "id": "1V5MRup_SOrp"
      },
      "source": [
        "Keep in mind that if a feature has a low feature importance value, it doesn’t necessarily mean that the feature isn’t important for prediction, it just means that the particular feature wasn’t chosen at a particularly early level of the tree. In some cases, the feature could be identical or highly correlated with another informative feature. Feature importance values also don’t tell you which class they are very predictive for or relationships between features which may influence prediction. "
      ]
    },
    {
      "cell_type": "markdown",
      "metadata": {
        "id": "0wilS-3QSOrp"
      },
      "source": [
        "Comments:\n",
        "\n",
        "Scikit-Learn uses the CART algorithm, which produces only binary trees: nonleaf nodes always have two children (i.e., questions only have yes/no answers). However, other algorithms such as ID3 can produce Decision Trees with nodes that have more than two children."
      ]
    },
    {
      "cell_type": "markdown",
      "source": [
        "## Understanding and visualising the decision tree"
      ],
      "metadata": {
        "id": "uw2uvst3ZK27"
      }
    },
    {
      "cell_type": "code",
      "execution_count": null,
      "metadata": {
        "scrolled": false,
        "id": "RB-aTIoPSOrq"
      },
      "outputs": [],
      "source": [
        ""
      ]
    },
    {
      "cell_type": "markdown",
      "metadata": {
        "id": "SEAw0JiaSOrq"
      },
      "source": [
        "### Reading this tree structure: \n",
        "Suppose you find an iris flower and you want to classify it. \n",
        "You start at the root node (depth 0, at the top): this node asks whether the flower’s petal width is smaller than 0.8 cm. \n",
        "If it is, then you move down to the root’s left child node (depth 1, left). In this case, it is a leaf node (i.e., it does not have any children nodes), so it does not ask any questions: you can simply look at the predicted class for that node and the Decision Tree predicts that your flower is an Iris-Setosa (class=setosa).\n",
        "If it is not, then you move down to root's right child node and again face the question.\n",
        "\n",
        "The gini score of node 1 is 0. The gini score quantifies the purity of the node/leaf. A gini score greater than 0 implies that samples contained within that node belong to different classes. A gini score of 0 means that the node is pure - within that node only a single class of samples exist. In our tree, we have gini score greater than 0 at the root node, implying samples in root node are from different classes.\n",
        "\n",
        "The value list tells us how many samples at the given node fall into each category. The categories are setosa, versicolor and virginica here. This is essentially similar information to what the gini score is giving us. "
      ]
    },
    {
      "cell_type": "markdown",
      "source": [
        "We can find the path taken by a flower whose petals are 5 cm long and 1.5 cm wide. "
      ],
      "metadata": {
        "id": "nnk8saMPub03"
      }
    },
    {
      "cell_type": "code",
      "execution_count": null,
      "metadata": {
        "scrolled": false,
        "id": "cF9kTWKLSOrq"
      },
      "outputs": [],
      "source": [
        "print(tree_clf.decision_path([[5, 1.5]]))"
      ]
    },
    {
      "cell_type": "markdown",
      "source": [
        "## An overfitted decision tree"
      ],
      "metadata": {
        "id": "DfXuCoTSvO_P"
      }
    },
    {
      "cell_type": "code",
      "execution_count": null,
      "metadata": {
        "id": "tbMEgZEsSOrq"
      },
      "outputs": [],
      "source": [
        "tree_clf = DecisionTreeClassifier(max_depth=5, random_state=rng)\n",
        "tree_clf.fit(X_train, y_train)"
      ]
    },
    {
      "cell_type": "code",
      "execution_count": null,
      "metadata": {
        "scrolled": true,
        "id": "aozr7MJ-SOrr"
      },
      "outputs": [],
      "source": [
        "fig, ax = plt.subplots(figsize=(15,15))\n",
        "tree.plot_tree(tree_clf, feature_names=['petal length', 'petal width'], class_names=iris.target_names, \n",
        "               filled=True, node_ids=True, ax=ax)"
      ]
    },
    {
      "cell_type": "code",
      "execution_count": null,
      "metadata": {
        "scrolled": true,
        "id": "YnZZquL7SOrr"
      },
      "outputs": [],
      "source": [
        "x_min, x_max = X_train[:, 0].min() - 1, X_train[:, 0].max() + 1\n",
        "y_min, y_max = X_train[:, 1].min() - 1, X_train[:, 1].max() + 1\n",
        "xx, yy = np.meshgrid(np.arange(x_min, x_max, plot_step),\n",
        "                    np.arange(y_min, y_max, plot_step))\n",
        "\n",
        "Z = tree_clf.predict(np.c_[xx.ravel(), yy.ravel()])\n",
        "Z = Z.reshape(xx.shape)\n",
        "cs = plt.contourf(xx, yy, Z, cmap=plt.cm.Paired)\n",
        "\n",
        "plt.xlabel(\"Petal length\")\n",
        "plt.ylabel(\"Petal width\")\n",
        "plt.axis(\"tight\")\n",
        "\n",
        "sns.scatterplot(x=X_train[:, 0], y=X_train[:, 1], hue=y_train, palette=\"deep\")\n",
        "\n",
        "plt.axis(\"tight\")"
      ]
    },
    {
      "cell_type": "markdown",
      "metadata": {
        "id": "e85OgiOPSOrr"
      },
      "source": [
        "Predictions of decision trees are neither smooth nor continuous, but piecewise constant approximations as seen in the above figure. Therefore, they are not good at extrapolation. \n",
        "\n",
        "You may have also noticed that decision trees love orthogonal decision boundaries (all splits are perpendicular to an axis), which makes them sensitive to training set rotation. One way to handle the problem of generalizability caused due to this is to use PCA, which often results in better orientation of training data."
      ]
    },
    {
      "cell_type": "markdown",
      "source": [
        "Lastly, it is important to note that if some classes dominate, biased decision trees can get created. It is therefore recommended to **balance** the dataset prior to fitting with the decision tree. Please refer to the documentation of [imbalanced-learn](https://imbalanced-learn.org/stable/user_guide.html#user-guide) for methods on balancing the dataset."
      ],
      "metadata": {
        "id": "ZMJks3MOwesp"
      }
    },
    {
      "cell_type": "markdown",
      "metadata": {
        "id": "CrLW7gCXSOrr"
      },
      "source": [
        "# Decision Tree Regression"
      ]
    },
    {
      "cell_type": "markdown",
      "source": [
        "We use the [auto-mpg dataset](https://archive.ics.uci.edu/ml/machine-learning-databases/auto-mpg/) from the UCI Machine Learning Repository. We read the data to a csv, then create our dataset (X) with labels (y), preprocess the data and do a train-test-split. We want to predict the MPG values using regression. "
      ],
      "metadata": {
        "id": "IUkpqDvoz7fQ"
      }
    },
    {
      "cell_type": "code",
      "source": [
        "root = \"/content/drive/MyDrive/Colab Notebooks/IT5006/Week 7/\""
      ],
      "metadata": {
        "id": "T6snqHgWxPaB"
      },
      "execution_count": null,
      "outputs": []
    },
    {
      "cell_type": "code",
      "execution_count": null,
      "metadata": {
        "id": "EKaE-DnWSOrs"
      },
      "outputs": [],
      "source": [
        "import pandas as pd\n",
        "\n",
        "df = pd.read_csv(root+'auto-mpg.data', sep = '\\s+', # separates on any one or more white space character\n",
        "                 header=None, \n",
        "                 names=['mpg', 'cylinders', 'displacement','horsepower', 'weight', 'acceleration', 'model year', 'origin', 'car name'])"
      ]
    },
    {
      "cell_type": "code",
      "execution_count": null,
      "metadata": {
        "scrolled": false,
        "id": "r1tXjIeeSOrs"
      },
      "outputs": [],
      "source": [
        "df.head()"
      ]
    },
    {
      "cell_type": "code",
      "source": [
        "df.describe()"
      ],
      "metadata": {
        "id": "8Tc9VRm0QA60"
      },
      "execution_count": null,
      "outputs": []
    },
    {
      "cell_type": "markdown",
      "source": [
        "Some datapoints are ? and we have to replace them with NaN\n",
        "![image.png](data:image/png;base64,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)"
      ],
      "metadata": {
        "id": "9oKKIFiKPy0t"
      }
    },
    {
      "cell_type": "code",
      "source": [
        "df.replace('?',np.nan, inplace=True)"
      ],
      "metadata": {
        "id": "-Pq8aXIQPBEF"
      },
      "execution_count": null,
      "outputs": []
    },
    {
      "cell_type": "code",
      "source": [
        "df['horsepower'] = df['horsepower'].astype('float')"
      ],
      "metadata": {
        "id": "_G00jC8VPJAU"
      },
      "execution_count": null,
      "outputs": []
    },
    {
      "cell_type": "code",
      "execution_count": null,
      "metadata": {
        "id": "DjPpB0A5SOrs"
      },
      "outputs": [],
      "source": [
        "df.dropna(axis=0, inplace=True)"
      ]
    },
    {
      "cell_type": "code",
      "source": [
        "df.describe()"
      ],
      "metadata": {
        "id": "b-bgAxioQGPu"
      },
      "execution_count": null,
      "outputs": []
    },
    {
      "cell_type": "markdown",
      "metadata": {
        "id": "ioWqCQZdSOrs"
      },
      "source": [
        "The horsepower has 6 missing values. We can just drop these rows as of now."
      ]
    },
    {
      "cell_type": "code",
      "execution_count": null,
      "metadata": {
        "id": "50_seoSuSOrs"
      },
      "outputs": [],
      "source": [
        "y = df.mpg\n",
        "X = df.drop('mpg', axis=1)\n",
        "X.drop('car name', axis=1, inplace=True)"
      ]
    },
    {
      "cell_type": "code",
      "execution_count": null,
      "metadata": {
        "id": "WgmI_4ecSOrs"
      },
      "outputs": [],
      "source": [
        "from sklearn.model_selection import train_test_split\n",
        "\n",
        "X_train, X_test, y_train, y_test = train_test_split(X, y, test_size=0.20, random_state=rng)"
      ]
    },
    {
      "cell_type": "code",
      "execution_count": null,
      "metadata": {
        "scrolled": true,
        "id": "kd3gDk8KSOrt"
      },
      "outputs": [],
      "source": [
        "X_train.head()"
      ]
    },
    {
      "cell_type": "code",
      "execution_count": null,
      "metadata": {
        "scrolled": true,
        "id": "Vq6R8C9FSOrt"
      },
      "outputs": [],
      "source": [
        "X_train.describe()"
      ]
    },
    {
      "cell_type": "code",
      "execution_count": null,
      "metadata": {
        "id": "f9qC-kq1SOrt"
      },
      "outputs": [],
      "source": [
        ""
      ]
    },
    {
      "cell_type": "code",
      "execution_count": null,
      "metadata": {
        "scrolled": false,
        "id": "2yO3RnOOSOrt"
      },
      "outputs": [],
      "source": [
        "fig, ax = plt.subplots(figsize=(10,10))\n",
        "tree.plot_tree(regr1, feature_names=X_train.columns,\n",
        "               filled=True, node_ids=True, ax=ax)"
      ]
    },
    {
      "cell_type": "markdown",
      "metadata": {
        "id": "hIAb6aZDSOrt"
      },
      "source": [
        "The main difference is that instead of predicting a class in each node, this tree predicts a value. For a new instance, you traverse the tree and reach the leaf node that predicts a value. This prediction is simply the average target value of the training instances(samples) associated with that leaf node. This prediction results in Mean Squared Error (MSE) equal to value stated over these samples. The CART algorithm works mostly the same way as earlier, except that instead of trying to split the training set in a way that minimizes impurity, it now tries to split the training set in a way that minimizes the MSE.\n",
        "\n",
        "In the regression tree visualization, the darker images indicate higher predicted target values."
      ]
    },
    {
      "cell_type": "markdown",
      "metadata": {
        "id": "W3wArijoSOru"
      },
      "source": [
        "The algorithm splits each region in a way that makes most training instances as close as possible to that predicted value."
      ]
    },
    {
      "cell_type": "code",
      "execution_count": null,
      "metadata": {
        "id": "3WwvdeMQSOru"
      },
      "outputs": [],
      "source": [
        "print(X_test.iloc[10])"
      ]
    },
    {
      "cell_type": "code",
      "execution_count": null,
      "metadata": {
        "scrolled": false,
        "id": "Dwl7HjcrSOru"
      },
      "outputs": [],
      "source": [
        "regr1.predict(X_test.iloc[10].values.reshape(1,-1))"
      ]
    },
    {
      "cell_type": "markdown",
      "metadata": {
        "id": "83JaCqDQSOru"
      },
      "source": [
        "Let us compare the performance of normal linear regression vs the decision tree regression."
      ]
    },
    {
      "cell_type": "code",
      "execution_count": null,
      "metadata": {
        "id": "R4If-qsmSOru"
      },
      "outputs": [],
      "source": [
        "from sklearn.linear_model import LinearRegression\n",
        "\n",
        "Linear_Model = LinearRegression()"
      ]
    },
    {
      "cell_type": "code",
      "execution_count": null,
      "metadata": {
        "id": "M8e50l8RSOru"
      },
      "outputs": [],
      "source": [
        "Linear_Model.fit(X_train, y_train)"
      ]
    },
    {
      "cell_type": "code",
      "execution_count": null,
      "metadata": {
        "id": "_2iNvd_gSOrv"
      },
      "outputs": [],
      "source": [
        "y_pred_lin = Linear_Model.predict(X_test)"
      ]
    },
    {
      "cell_type": "code",
      "execution_count": null,
      "metadata": {
        "id": "xqTTMznhSOrv"
      },
      "outputs": [],
      "source": [
        "y_1 = regr1.predict(X_test)\n",
        "y_2 = regr2.predict(X_test)"
      ]
    },
    {
      "cell_type": "code",
      "execution_count": null,
      "metadata": {
        "id": "mVV-6UfKSOrv"
      },
      "outputs": [],
      "source": [
        "from sklearn.metrics import mean_squared_error, r2_score"
      ]
    },
    {
      "cell_type": "code",
      "execution_count": null,
      "metadata": {
        "id": "g_h9Y6aWSOrv"
      },
      "outputs": [],
      "source": [
        "print(mean_squared_error(y_test, y_pred_lin))\n",
        "print(Linear_Model.score(X_test, y_test))"
      ]
    },
    {
      "cell_type": "code",
      "execution_count": null,
      "metadata": {
        "id": "K5tbHeITSOrv"
      },
      "outputs": [],
      "source": [
        "print(mean_squared_error(y_test, y_1))\n",
        "print(r2_score(y_test, y_1))"
      ]
    },
    {
      "cell_type": "code",
      "execution_count": null,
      "metadata": {
        "scrolled": false,
        "id": "juBhTTD4SOrv"
      },
      "outputs": [],
      "source": [
        "print(mean_squared_error(y_test, y_2))\n",
        "print(r2_score(y_test, y_2))"
      ]
    },
    {
      "cell_type": "markdown",
      "metadata": {
        "id": "M55JNBlHSOrv"
      },
      "source": [
        "Using a deeper decision tree, we can explain more variability in the auto-mpg dataset then with a linear regressor. \n",
        "\n",
        "When should we use decision trees? If we have knowledge that a dataset does not assume linearity, decision trees do not make any assumptions regarding the data. However, if linearity exists, we might be better off doing linear regression."
      ]
    },
    {
      "cell_type": "markdown",
      "metadata": {
        "id": "cxqf0v43SOrw"
      },
      "source": [
        "# Introduction to Random Forests\n",
        "\n",
        "The random forest is a classification algorithm consisting of many decisions trees.\n",
        "\n",
        "The intuition here is that if you aggregate the predictions of a group of uncorrelated predictors (such as classifiers or regressors), you will often get better predictions than with the best individual predictor. \n",
        "\n",
        "You can train a group of Decision Tree classifiers, each on a different random subset of the training set. To make predictions, you just obtain the predictions of all individual trees, then predict the class that gets the most votes. Such an **ensemble** of Decision Trees is called a Random Forest, and despite its simplicity, this is one of the most powerful Machine Learning algorithms available today. \n",
        "\n",
        "You can use the ```BaggingClassifier``` API along with the ```DecisionTreeClassifier``` to create the Random Forests. But to make our job easy, sklearn provides us with the ```RandomForestClassifier```."
      ]
    },
    {
      "cell_type": "code",
      "execution_count": null,
      "metadata": {
        "id": "7wO8Q8E7SOrw"
      },
      "outputs": [],
      "source": [
        "X = iris.data\n",
        "y = iris.target"
      ]
    },
    {
      "cell_type": "code",
      "execution_count": null,
      "metadata": {
        "id": "Ez7_dsTHSOrw"
      },
      "outputs": [],
      "source": [
        "X_train, X_test, y_train, y_test = train_test_split(X, y, test_size=0.20, random_state=3)"
      ]
    },
    {
      "cell_type": "code",
      "execution_count": null,
      "metadata": {
        "id": "FhO1IT8BSOrw"
      },
      "outputs": [],
      "source": [
        ""
      ]
    },
    {
      "cell_type": "code",
      "execution_count": null,
      "metadata": {
        "id": "Ov7OQ4TmSOrw"
      },
      "outputs": [],
      "source": [
        "tree_clf = DecisionTreeClassifier(max_depth=3, random_state=rng)\n",
        "tree_clf.fit(X_train, y_train)\n",
        "y_pred_dt = tree_clf.predict(X_test)"
      ]
    },
    {
      "cell_type": "code",
      "execution_count": null,
      "metadata": {
        "scrolled": true,
        "id": "IP0nCASaSOrw"
      },
      "outputs": [],
      "source": [
        "from sklearn.metrics import classification_report\n",
        "# the summary of the precision, recall, F1 score for each class\n",
        "print(\"Decision Tree\")\n",
        "print(classification_report(y_test, y_pred_dt))\n",
        "print(\"Random Forest\")\n",
        "print(classification_report(y_test, y_pred_rf))"
      ]
    }
  ],
  "metadata": {
    "kernelspec": {
      "display_name": "Python 3",
      "language": "python",
      "name": "python3"
    },
    "language_info": {
      "codemirror_mode": {
        "name": "ipython",
        "version": 3
      },
      "file_extension": ".py",
      "mimetype": "text/x-python",
      "name": "python",
      "nbconvert_exporter": "python",
      "pygments_lexer": "ipython3",
      "version": "3.7.7"
    },
    "colab": {
      "name": "Tutorial 7 decison_tree.ipynb",
      "provenance": [],
      "collapsed_sections": []
    }
  },
  "nbformat": 4,
  "nbformat_minor": 0
}