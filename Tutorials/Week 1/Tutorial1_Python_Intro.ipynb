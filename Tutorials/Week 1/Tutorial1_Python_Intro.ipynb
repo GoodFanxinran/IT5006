{
  "cells": [
    {
      "cell_type": "markdown",
      "metadata": {
        "id": "Ql00iCVHrhLb"
      },
      "source": [
        "# Introduction to Python\n",
        "\n",
        "## Learning Outcomes\n",
        "\n",
        "\n",
        "1.   Get acquainted with Google Colab & Jupyter \n",
        "2.   Basic Python data structures\n",
        "3.   Writing conditionals\n",
        "3.   Writing functions\n",
        "4.   Iteration \n",
        "5.   Classes in Python\n",
        "\n",
        "\n",
        "\n"
      ]
    },
    {
      "cell_type": "markdown",
      "metadata": {
        "id": "bMCXck2yuH75"
      },
      "source": [
        "Contents of this tutorial are based on [Python 3 tutorial ](https://docs.python.org/3/tutorial/index.html). You are highly encouraged to refer to the link for a more comprehensive introduction to Python."
      ]
    },
    {
      "cell_type": "markdown",
      "source": [
        "# Getting Acquainted with Google Colab & Jupyter\n",
        "\n",
        "Upload your ipynb to Google Colab via ```File``` > ```Upload Notebook``` or dragging and dropping an ipynb to your Google drive, then right click to ```Open with``` > ``` Google Colaboratory```"
      ],
      "metadata": {
        "id": "lBmnagcNnMuA"
      }
    },
    {
      "cell_type": "markdown",
      "metadata": {
        "id": "gO7wKZdztizz"
      },
      "source": [
        "# Basic Python Data Structures and Functionality\n",
        "\n",
        "## Calculations, printing and importing\n",
        "\n",
        "### Writing Hello World"
      ]
    },
    {
      "cell_type": "code",
      "execution_count": null,
      "metadata": {
        "id": "dymGMJdQuQzm"
      },
      "outputs": [],
      "source": [
        "print(\"Hello World\")"
      ]
    },
    {
      "cell_type": "markdown",
      "metadata": {
        "id": "4Nejmi9E_jKw"
      },
      "source": [
        "You can also directly store the string, using single or double quotes and use the print statements."
      ]
    },
    {
      "cell_type": "code",
      "execution_count": null,
      "metadata": {
        "id": "QD2yWWoy_vt4"
      },
      "outputs": [],
      "source": [
        "s1 = \"Hello World\"\n",
        "s2 = 'Hello World'\n",
        "\n",
        "print(s1)\n",
        "print(s2)"
      ]
    },
    {
      "cell_type": "markdown",
      "metadata": {
        "id": "m9CxwPAFuTDs"
      },
      "source": [
        "### Calculations\n",
        "\n",
        "Python supports most calculations out of the box. You can do the calculations directly, or define them using variables too."
      ]
    },
    {
      "cell_type": "code",
      "execution_count": null,
      "metadata": {
        "id": "Qh8hpZjBuhds"
      },
      "outputs": [],
      "source": [
        "(3*3)+2/4"
      ]
    },
    {
      "cell_type": "code",
      "execution_count": null,
      "metadata": {
        "id": "koBmLVBauvlG"
      },
      "outputs": [],
      "source": [
        "a = (3*3)\n",
        "b = 2/4\n",
        "print(a+b)"
      ]
    },
    {
      "cell_type": "markdown",
      "metadata": {
        "id": "EN85sW86AQ_K"
      },
      "source": [
        "The ```/``` operator always returns float division result. If you want to get the floor value of the operation, ```//``` has to be used. "
      ]
    },
    {
      "cell_type": "code",
      "execution_count": null,
      "metadata": {
        "id": "gw530gekAa0j"
      },
      "outputs": [],
      "source": [
        "print(3/4)\n",
        "print(3//4)"
      ]
    },
    {
      "cell_type": "markdown",
      "metadata": {
        "id": "Y33isN1G_Twp"
      },
      "source": [
        "The operator ```**``` is used to calculate powers."
      ]
    },
    {
      "cell_type": "code",
      "execution_count": null,
      "metadata": {
        "id": "P1dmxpRc_PEw"
      },
      "outputs": [],
      "source": [
        "c = a+b \n",
        "print(c**3) \n",
        "print(c*c*c)"
      ]
    },
    {
      "cell_type": "markdown",
      "metadata": {
        "id": "dhXcp1a36DYi"
      },
      "source": [
        "## Importing Libraries and Functions\n",
        "\n",
        "You can import the libraries from python in its entirety using the **import** command."
      ]
    },
    {
      "cell_type": "code",
      "execution_count": null,
      "metadata": {
        "id": "978w2fdZ6ktb"
      },
      "outputs": [],
      "source": [
        "import math"
      ]
    },
    {
      "cell_type": "markdown",
      "metadata": {
        "id": "jkDNLzrd6nIo"
      },
      "source": [
        "This will import all the functions available in the \"math\" package. These functions can be then used in following way:\n",
        "\n",
        "e.g. to calculate the cosine of a value contained in the variable *a*."
      ]
    },
    {
      "cell_type": "code",
      "execution_count": null,
      "metadata": {
        "id": "OVg8LUY966Yp"
      },
      "outputs": [],
      "source": [
        "math.cos(a)"
      ]
    },
    {
      "cell_type": "markdown",
      "metadata": {
        "id": "nnuVfbNn7Ddo"
      },
      "source": [
        "Alternatively, when we want to import only specific functions from the module, we can use the \"**from ... import ...**\" syntax."
      ]
    },
    {
      "cell_type": "code",
      "execution_count": null,
      "metadata": {
        "id": "FiEFFrJU7X2k"
      },
      "outputs": [],
      "source": [
        "from math import cos\n",
        "\n",
        "print(cos(a))"
      ]
    },
    {
      "cell_type": "markdown",
      "metadata": {
        "id": "kPVoKP1T7dMx"
      },
      "source": [
        "## Data Structures\n",
        "\n",
        "Python has some compound data types, such as lists and dictionaries, which are essentially used to group together different values. In this tutorial, we will go over lists, tuples and dictionaries. \n",
        "\n",
        "### Lists\n",
        "Lists is comma-separated data structure which may contain items of different types."
      ]
    },
    {
      "cell_type": "code",
      "execution_count": null,
      "metadata": {
        "id": "1_nc89pVTznA"
      },
      "outputs": [],
      "source": [
        "lst1 = [1,2,3]\n",
        "lst2 = ['a', 2, \"sdt\"]"
      ]
    },
    {
      "cell_type": "markdown",
      "metadata": {
        "id": "oCiTakt2T_ns"
      },
      "source": [
        "The items from list can be accessed by using indices starting with 0, such as:\n",
        "\n",
        "\n",
        "\n",
        "```\n",
        "                     | - | - | - |\n",
        " lst1                | 1 | 2 | 3 |\n",
        " indices             | 0 | 1 | 2 |\n",
        " reverse indices     |-3 |-2 |-1 |\n",
        "```"
      ]
    },
    {
      "cell_type": "code",
      "source": [
        "print(lst2[0])\n",
        "print(lst2[-3])"
      ],
      "metadata": {
        "id": "EhWWSrFiVKWJ"
      },
      "execution_count": null,
      "outputs": []
    },
    {
      "cell_type": "markdown",
      "source": [
        "In addition to indexing, python also supports slicing. It is generally denoted by start and end index, such that the start index is included and end index is excluded. Slicing can also include stepping size, which can be used for step size, or direction specification. The default stepping size is 1.\n",
        "```\n",
        "Lst[ Start : End : SteppingSize ]\n",
        "```"
      ],
      "metadata": {
        "id": "VPlBv6lcVKtu"
      }
    },
    {
      "cell_type": "code",
      "execution_count": null,
      "metadata": {
        "id": "ekhTGLgOT-jh"
      },
      "outputs": [],
      "source": [
        "print(lst1[:1])\n",
        "print(lst1[-2:])\n",
        "print(lst1[::-1]) # direction specification, reversal"
      ]
    },
    {
      "cell_type": "markdown",
      "source": [
        "How would you print a slice in reverse order?"
      ],
      "metadata": {
        "id": "tjw15z3KGxPb"
      }
    },
    {
      "cell_type": "code",
      "source": [
        "print(lst1[0:2:-1])"
      ],
      "metadata": {
        "id": "Qwon_lm4Ge4S"
      },
      "execution_count": null,
      "outputs": []
    },
    {
      "cell_type": "markdown",
      "metadata": {
        "id": "s7oJNx-nVa-q"
      },
      "source": [
        "It is interesting to note that this concept of slicing and indexing also applies to strings. You can think of each character in the string like an element in the list."
      ]
    },
    {
      "cell_type": "code",
      "execution_count": null,
      "metadata": {
        "id": "6pmVHry8Vp1x"
      },
      "outputs": [],
      "source": [
        "a = \"Python is an easy language\"\n",
        "print(a[:12])\n",
        "print(a[-3])"
      ]
    },
    {
      "cell_type": "markdown",
      "metadata": {
        "id": "osvkzvlsWIU-"
      },
      "source": [
        "Functions can be applied to lists directly - such as finding length of the list. The function ```len``` is used to find the number of elements inside a container (which may also be tuple or dictionary)."
      ]
    },
    {
      "cell_type": "code",
      "execution_count": null,
      "metadata": {
        "id": "6w9RwztaWPW9"
      },
      "outputs": [],
      "source": [
        "len(lst1)"
      ]
    },
    {
      "cell_type": "markdown",
      "metadata": {
        "id": "SOlcSWxYWXi3"
      },
      "source": [
        "You can add two lists to create a new list. Similarly, you can append or extend lists as well. "
      ]
    },
    {
      "cell_type": "code",
      "execution_count": null,
      "metadata": {
        "id": "y9Jln2dFWdF7"
      },
      "outputs": [],
      "source": [
        "lst3 = lst1 + lst2\n",
        "print(lst3)"
      ]
    },
    {
      "cell_type": "code",
      "source": [
        "lst2.append(lst1) \n",
        "print(lst2) # nested list, since list can hold objects of different types"
      ],
      "metadata": {
        "id": "wZMdVR1BfgDT"
      },
      "execution_count": null,
      "outputs": []
    },
    {
      "cell_type": "code",
      "execution_count": null,
      "metadata": {
        "id": "_KrfHP3uWsNo"
      },
      "outputs": [],
      "source": [
        "lst5 = list() #defining empty list\n",
        "lst5.extend(lst3)\n",
        "lst5.extend(lst1)\n",
        "print(lst5)"
      ]
    },
    {
      "cell_type": "markdown",
      "metadata": {
        "id": "jPcpFucTXDSt"
      },
      "source": [
        "Similarly there are many options like removing elements from list, counting the number of items, reversing list, etc. You can refer to the python tutorial link provided or the documentation to get acquainted to many such functions. "
      ]
    },
    {
      "cell_type": "markdown",
      "metadata": {
        "id": "6Z6mGsWlXh9K"
      },
      "source": [
        "At this point we can note that these methods, such as append, extend, insert, etc. are available for the list object. But, there are other functions such as ```len()``` (introduced earlier), which are not functions of the class list, but operate on the objects. Another such functionality is provided by ```del``` and ```sorted```. "
      ]
    },
    {
      "cell_type": "code",
      "execution_count": null,
      "metadata": {
        "id": "jSPMfHA9Yhb6"
      },
      "outputs": [],
      "source": [
        "del lst5[3]\n",
        "print(lst5)\n",
        "print(sorted([3,9,4,2])) #sorting is only possible when all items are of same type"
      ]
    },
    {
      "cell_type": "markdown",
      "metadata": {
        "id": "TZB3mtQsZLqt"
      },
      "source": [
        "### Dictionary\n",
        "\n",
        "Dictionary are used for creating mapping structures. While lists store sequences, dictionaries are used to find \"values\" by their set of \"keys\"."
      ]
    },
    {
      "cell_type": "code",
      "execution_count": null,
      "metadata": {
        "id": "iiWNWqpJaR2W"
      },
      "outputs": [],
      "source": [
        "dict1 = dict()\n",
        "dict1[4] = 'four'\n",
        "dict1[7] = 'seven'\n",
        "print(dict1)\n",
        "\n",
        "dict2 = {'apples':2, 'oranges':3}\n",
        "print(dict2)"
      ]
    },
    {
      "cell_type": "markdown",
      "source": [
        "Dictionaries are mutable"
      ],
      "metadata": {
        "id": "Yne69GVvdMvB"
      }
    },
    {
      "cell_type": "code",
      "source": [
        "dict2[\"apples\"] = 5\n",
        "print(dict2)"
      ],
      "metadata": {
        "id": "SNs7eN5TdLsr"
      },
      "execution_count": null,
      "outputs": []
    },
    {
      "cell_type": "markdown",
      "metadata": {
        "id": "fxeLMHjTaoDt"
      },
      "source": [
        "You can check if a particular item is present in the dictionary by using the statement \"**... in ...**\". Note that this is also applicable to lists."
      ]
    },
    {
      "cell_type": "code",
      "execution_count": null,
      "metadata": {
        "id": "NHxzC-qcanD-"
      },
      "outputs": [],
      "source": [
        "print(4 in dict1)\n",
        "print(4 in lst1)"
      ]
    },
    {
      "cell_type": "markdown",
      "metadata": {
        "id": "-ESFJl2Z0WB_"
      },
      "source": [
        "### Tuples\n",
        "List and dictionaries are called *mutable*, while Tuples are not mutable. This means that we cannot change the content of a tuple after it has been created."
      ]
    },
    {
      "cell_type": "code",
      "execution_count": null,
      "metadata": {
        "id": "_ppUIYPy0q5q"
      },
      "outputs": [],
      "source": [
        "tup1 = (1,2,3)\n",
        "tup2 = ('a','b')\n",
        "tup3 = tup1+tup2\n",
        "\n",
        "print(tup1[1]) # can index and print content of tuple\n",
        "print(tup3)"
      ]
    },
    {
      "cell_type": "markdown",
      "metadata": {
        "id": "vUn8XLIk07Xq"
      },
      "source": [
        "We can see that trying ```del tup1[1]``` throws an error. To catch such errors and not abruptly end a program, we can do exception handling."
      ]
    },
    {
      "cell_type": "code",
      "execution_count": null,
      "metadata": {
        "id": "veG68gZB02EK"
      },
      "outputs": [],
      "source": [
        "try:\n",
        "  del tup1[1] #indentation\n",
        "  print(\"Deleted tup1[1]\")\n",
        "except Exception as e: # catch all exceptions\n",
        "  print(\"Deletion not possible\")\n",
        "  print(e)"
      ]
    },
    {
      "cell_type": "markdown",
      "source": [
        "Although the content of a tuple cannot be changed, the tuple itself can be deleted. "
      ],
      "metadata": {
        "id": "1aqTaMKt-6-f"
      }
    },
    {
      "cell_type": "markdown",
      "metadata": {
        "id": "NabdYGADbBGf"
      },
      "source": [
        "# Writing Conditionals\n",
        "\n",
        "The previous statement of \"**... in ...**\" is a membership check, which can be used to check for presence or absence of condition using if-else."
      ]
    },
    {
      "cell_type": "code",
      "source": [
        "print(dict1)"
      ],
      "metadata": {
        "id": "9Y5NCQ-m8fGP"
      },
      "execution_count": null,
      "outputs": []
    },
    {
      "cell_type": "code",
      "execution_count": null,
      "metadata": {
        "id": "mI9gzu-0bVZ8"
      },
      "outputs": [],
      "source": [
        "if 5 in dict1:  #note the indentation \n",
        "  print(dict1[5]+\" is present in the dictionary\")\n",
        "else:\n",
        "  print(\":-(\")"
      ]
    },
    {
      "cell_type": "markdown",
      "source": [
        "Is there a way to rectify the above? For example, what if I want to check if 4 is in dict1?"
      ],
      "metadata": {
        "id": "9grPziPtNZAz"
      }
    },
    {
      "cell_type": "markdown",
      "metadata": {
        "id": "iHqFO9rCcGYt"
      },
      "source": [
        "The if statement can check for many conditions other than the **in** condition check. We have other conditional operators such as **is** which compares that two objects are the same. You can also use logical operators, such as **and**, **or**, etc. Another option is to check for equality condition in numeric operations using ```==``` operator."
      ]
    },
    {
      "cell_type": "code",
      "execution_count": null,
      "metadata": {
        "id": "OiSEmS4lcAKM"
      },
      "outputs": [],
      "source": [
        "s1 = '4'\n",
        "s2 = s1\n",
        "print(s1 is s2)\n",
        "print(s1 is s2 and 4 in dict1)\n",
        "print(b==0.5)"
      ]
    },
    {
      "cell_type": "markdown",
      "metadata": {
        "id": "Nijd7dhQd2Sv"
      },
      "source": [
        "# Writing functions\n",
        "\n",
        "Functions are blocks of organized and reusable code, which generally perform a specific functionality. Function can accept parameters and can return values back to the caller. No return statement in the function returns a ```None``` value. "
      ]
    },
    {
      "cell_type": "code",
      "execution_count": null,
      "metadata": {
        "id": "zxG6HcBiWBJ9"
      },
      "outputs": [],
      "source": [
        "def power_fx(x,n):\n",
        "  return x**n   #indentation necessary\n",
        "\n",
        "print(power_fx(3,4))"
      ]
    },
    {
      "cell_type": "code",
      "execution_count": null,
      "metadata": {
        "id": "FzI2xrAgXVhH"
      },
      "outputs": [],
      "source": [
        "def pretty_print(num=3):  #default argument value\n",
        "  print(\"{0} is the number to be printed\".format(num)) #no return statement in the function\n",
        "\n",
        "pretty_print()"
      ]
    },
    {
      "cell_type": "code",
      "source": [
        "p = pretty_print(power_fx(3,4))"
      ],
      "metadata": {
        "id": "oKH3vnaVgYg8"
      },
      "execution_count": null,
      "outputs": []
    },
    {
      "cell_type": "markdown",
      "source": [
        "What happens when I print p?"
      ],
      "metadata": {
        "id": "DrPKYJAX9n6m"
      }
    },
    {
      "cell_type": "code",
      "source": [
        "print(p)"
      ],
      "metadata": {
        "id": "8E9fCkIY9qTH"
      },
      "execution_count": null,
      "outputs": []
    },
    {
      "cell_type": "markdown",
      "metadata": {
        "id": "k113UjkoYCUx"
      },
      "source": [
        "# Flow Control - Iteration\n",
        "\n",
        "## For loops\n",
        "\n",
        "*For statements* in python iterate over a sequence of items in the order they appear. You can use the ```range``` function to iterate over sequence of numbers returned by the range function. "
      ]
    },
    {
      "cell_type": "code",
      "execution_count": null,
      "metadata": {
        "id": "ndXC2GFDZyar"
      },
      "outputs": [],
      "source": [
        "for l in lst1:\n",
        "  print(l)"
      ]
    },
    {
      "cell_type": "code",
      "execution_count": null,
      "metadata": {
        "id": "gUSc1VCTaP2M"
      },
      "outputs": [],
      "source": [
        "pow_dict = {}\n",
        "for i in range(1,10):\n",
        "  pow_dict[i] = power_fx(i,2)\n",
        "\n",
        "print(pow_dict)"
      ]
    },
    {
      "cell_type": "markdown",
      "metadata": {
        "id": "VSnjGyL5DLzx"
      },
      "source": [
        "You can shorten the process of the list or dictionary creation using list or dictionary comprehensions. "
      ]
    },
    {
      "cell_type": "code",
      "execution_count": null,
      "metadata": {
        "id": "YQe6f95DaTK_"
      },
      "outputs": [],
      "source": [
        "lst6 = [x for x in range(1,10)]\n",
        "print(lst6)"
      ]
    },
    {
      "cell_type": "markdown",
      "metadata": {
        "id": "cLZdKsxfaeb6"
      },
      "source": [
        "## While loops\n",
        "Another way of iteration is the *while statement*. It is used for repeated execution for as long as condition is true. The conditions can be specified in the manner similar to what is done for the if-else statements."
      ]
    },
    {
      "cell_type": "code",
      "execution_count": null,
      "metadata": {
        "id": "cF_t9GV7bNAt"
      },
      "outputs": [],
      "source": [
        "a, b = 0, 1\n",
        "\n",
        "while a<10:\n",
        "  print(a)\n",
        "  a, b = b, a+b   #fibonacci series"
      ]
    },
    {
      "cell_type": "markdown",
      "metadata": {
        "id": "f4L5Ybt2b4L1"
      },
      "source": [
        "# Class and Objects\n",
        "\n",
        "Python is an Object Oriented Language, which means that it supports classes and objects. \n",
        "\n",
        "A class is a bundling of data and functions together. An object is an instance of the class. We just briefly look at creating a new class and instance."
      ]
    },
    {
      "cell_type": "code",
      "execution_count": null,
      "metadata": {
        "id": "NuCGOqzYdlAg"
      },
      "outputs": [],
      "source": [
        "class Student:\n",
        "\n",
        "    def __init__(self, name, major): #constructor/ instantiation \n",
        "        self.name = name #attributes\n",
        "        self.major = major\n",
        "\n",
        "    def introduce(self): #method\n",
        "        return print(\"This is\", self.name, \"from\", self.major)"
      ]
    },
    {
      "cell_type": "code",
      "source": [
        "tom = Student(\"Tom\", \"computing\")\n",
        "print(tom.major)\n",
        "tom.introduce()"
      ],
      "metadata": {
        "id": "xOGo-sz7ivKq"
      },
      "execution_count": null,
      "outputs": []
    },
    {
      "cell_type": "markdown",
      "metadata": {
        "id": "6OKY5y_Feios"
      },
      "source": [
        "That brings us to the end of this tutorial. We have covered the basic fundamentals in Python which will be required to cover the material of this course. \n",
        "\n",
        "We would highly encourage you to go through other python resources for a good grasp on programming using Python."
      ]
    }
  ],
  "metadata": {
    "colab": {
      "collapsed_sections": [],
      "name": "Python_Intro.ipynb",
      "provenance": [],
      "toc_visible": true
    },
    "kernelspec": {
      "display_name": "Python 3",
      "language": "python",
      "name": "python3"
    },
    "language_info": {
      "codemirror_mode": {
        "name": "ipython",
        "version": 3
      },
      "file_extension": ".py",
      "mimetype": "text/x-python",
      "name": "python",
      "nbconvert_exporter": "python",
      "pygments_lexer": "ipython3",
      "version": "3.9.1"
    }
  },
  "nbformat": 4,
  "nbformat_minor": 0
}