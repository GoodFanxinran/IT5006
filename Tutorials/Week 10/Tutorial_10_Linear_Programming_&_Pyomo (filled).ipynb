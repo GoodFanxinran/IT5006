{
  "cells": [
    {
      "cell_type": "markdown",
      "metadata": {
        "id": "qD9Pqh5w7qr2"
      },
      "source": [
        "# Week 10 - Linear Programming in Pyomo\n",
        "\n",
        "## Learning Objectives\n",
        "+ Introduction to Pyomo\n",
        "    + Set \n",
        "    + Param\n",
        "    + Var\n",
        "    + Objective\n",
        "    + Constraint\n",
        "+ Modeling using Pyomo\n",
        "    + Concrete Model\n",
        "    + Abstract Model\n",
        "\n",
        "\n",
        "The contents of this tutorial are based on \"Pyomo — Optimization Modeling in Python\" by W.E. Hart et. al., pyomo [workshop slides](https://software.sandia.gov/downloads/pub/pyomo/Pyomo-Workshop-Summer-2018.pdf) and pyomo official [documentation](https://pyomo.readthedocs.io/en/stable/)."
      ]
    },
    {
      "cell_type": "markdown",
      "metadata": {
        "id": "4WUClm5P7qr7"
      },
      "source": [
        "# Introduction to Pyomo\n",
        "\n",
        "Pyomo is a Python-based, open-source optimization modeling language with a diverse set of optimization capabilities. It has equation-oriented models, implying that user must provide all model equations explicitly. It is basically a python-based *Algebraic Modeling Language* (AML).\n",
        "\n",
        "Pyomo can not only specify but solve different types of optimization problems (e.g. linear, quadratic, nonlinear, mixed-integer etc.) by using external solvers.\n",
        "\n",
        "Solvers are software libraries, mostly written in a lower-level language like c/c++ for faster implementation. Usually, one solver cannot solve all types optimization problem. Using Pyomo, one can access many different solvers depending on the type of problem being solved. Here are few examples of open-source and commercial solvers:\n",
        "\n",
        "+ Open-Source\n",
        "    + GLPK: GNU Linear Programming Kit\n",
        "    + IPOPT: A large scale nonlinear optimizer for continuous systems\n",
        "+ Proprietary\n",
        "    + CPLEX: Integer, linear and quadratic programming.\n",
        "    + Gurobi: Integer, linear and quadratic programming.\n",
        "    \n",
        "## Modeling Components in Pyomo\n",
        "The Pyomo package includes modeling components that are necessary to formulate an optimization problem: variables, objectives, and constraints, as well as other modeling components that are commonly supported by modern AMLs, including index sets and parameters.\n",
        "\n",
        "+ Var: optimization variables in a model\n",
        "+ Objective: expressions that are minimized or maximized in a model\n",
        "+ Constraint: constraint expressions in a model\n",
        "+ Set: set data that is used to define a model instance\n",
        "+ Param: parameter data that is used to define a model instance\n",
        "\n",
        "The basic steps for the modeling process of a problem and getting prescriptive solution can be summarized as below:\n",
        "1. Convert the task to a mathematical model - i.e. identify its objective and constraints\n",
        "2. Decide the type of model to use in Pyomo - Abstract or Concrete (usually a personal preference, though some tasks are easier using one than another)\n",
        "3. Create an instance of a model using Pyomo modeling components - i.e. define the problem using pyomo\n",
        "4. Pass the instance to solver - solve problem\n",
        "5. Report and analyze results from the solver"
      ]
    },
    {
      "cell_type": "code",
      "source": [
        "! pip freeze\n",
        "! pip install pyomo"
      ],
      "metadata": {
        "id": "BgWNeCHTDCj5",
        "colab": {
          "base_uri": "https://localhost:8080/"
        },
        "outputId": "f5ef792f-2efa-4889-81c3-d70ab2ca0fb6"
      },
      "execution_count": 31,
      "outputs": [
        {
          "output_type": "stream",
          "name": "stdout",
          "text": [
            "absl-py==1.0.0\n",
            "alabaster==0.7.12\n",
            "albumentations==0.1.12\n",
            "altair==4.2.0\n",
            "appdirs==1.4.4\n",
            "argon2-cffi==21.3.0\n",
            "argon2-cffi-bindings==21.2.0\n",
            "arviz==0.11.4\n",
            "astor==0.8.1\n",
            "astropy==4.3.1\n",
            "astunparse==1.6.3\n",
            "atari-py==0.2.9\n",
            "atomicwrites==1.4.0\n",
            "attrs==21.4.0\n",
            "audioread==2.1.9\n",
            "autograd==1.3\n",
            "Babel==2.9.1\n",
            "backcall==0.2.0\n",
            "beautifulsoup4==4.6.3\n",
            "bleach==4.1.0\n",
            "blis==0.4.1\n",
            "bokeh==2.3.3\n",
            "Bottleneck==1.3.4\n",
            "branca==0.4.2\n",
            "bs4==0.0.1\n",
            "CacheControl==0.12.10\n",
            "cached-property==1.5.2\n",
            "cachetools==4.2.4\n",
            "catalogue==1.0.0\n",
            "certifi==2021.10.8\n",
            "cffi==1.15.0\n",
            "cftime==1.6.0\n",
            "chardet==3.0.4\n",
            "charset-normalizer==2.0.12\n",
            "click==7.1.2\n",
            "cloudpickle==1.3.0\n",
            "cmake==3.12.0\n",
            "cmdstanpy==0.9.5\n",
            "colorcet==3.0.0\n",
            "colorlover==0.3.0\n",
            "community==1.0.0b1\n",
            "contextlib2==0.5.5\n",
            "convertdate==2.4.0\n",
            "coverage==3.7.1\n",
            "coveralls==0.5\n",
            "crcmod==1.7\n",
            "cufflinks==0.17.3\n",
            "cvxopt==1.2.7\n",
            "cvxpy==1.0.31\n",
            "cycler==0.11.0\n",
            "cymem==2.0.6\n",
            "Cython==0.29.28\n",
            "daft==0.0.4\n",
            "dask==2.12.0\n",
            "datascience==0.10.6\n",
            "debugpy==1.0.0\n",
            "decorator==4.4.2\n",
            "defusedxml==0.7.1\n",
            "descartes==1.1.0\n",
            "dill==0.3.4\n",
            "distributed==1.25.3\n",
            "dlib @ file:///dlib-19.18.0-cp37-cp37m-linux_x86_64.whl\n",
            "dm-tree==0.1.6\n",
            "docopt==0.6.2\n",
            "docutils==0.17.1\n",
            "dopamine-rl==1.0.5\n",
            "earthengine-api==0.1.303\n",
            "easydict==1.9\n",
            "ecos==2.0.10\n",
            "editdistance==0.5.3\n",
            "en-core-web-sm @ https://github.com/explosion/spacy-models/releases/download/en_core_web_sm-2.2.5/en_core_web_sm-2.2.5.tar.gz\n",
            "entrypoints==0.4\n",
            "ephem==4.1.3\n",
            "et-xmlfile==1.1.0\n",
            "fa2==0.3.5\n",
            "fastai==1.0.61\n",
            "fastdtw==0.3.4\n",
            "fastprogress==1.0.2\n",
            "fastrlock==0.8\n",
            "fbprophet==0.7.1\n",
            "feather-format==0.4.1\n",
            "filelock==3.6.0\n",
            "firebase-admin==4.4.0\n",
            "fix-yahoo-finance==0.0.22\n",
            "Flask==1.1.4\n",
            "flatbuffers==2.0\n",
            "folium==0.8.3\n",
            "future==0.16.0\n",
            "gast==0.5.3\n",
            "GDAL==2.2.2\n",
            "gdown==4.2.2\n",
            "gensim==3.6.0\n",
            "geographiclib==1.52\n",
            "geopy==1.17.0\n",
            "gin-config==0.5.0\n",
            "glob2==0.7\n",
            "google==2.0.3\n",
            "google-api-core==1.26.3\n",
            "google-api-python-client==1.12.11\n",
            "google-auth==1.35.0\n",
            "google-auth-httplib2==0.0.4\n",
            "google-auth-oauthlib==0.4.6\n",
            "google-cloud-bigquery==1.21.0\n",
            "google-cloud-bigquery-storage==1.1.0\n",
            "google-cloud-core==1.0.3\n",
            "google-cloud-datastore==1.8.0\n",
            "google-cloud-firestore==1.7.0\n",
            "google-cloud-language==1.2.0\n",
            "google-cloud-storage==1.18.1\n",
            "google-cloud-translate==1.5.0\n",
            "google-colab @ file:///colabtools/dist/google-colab-1.0.0.tar.gz\n",
            "google-pasta==0.2.0\n",
            "google-resumable-media==0.4.1\n",
            "googleapis-common-protos==1.56.0\n",
            "googledrivedownloader==0.4\n",
            "graphviz==0.10.1\n",
            "greenlet==1.1.2\n",
            "grpcio==1.44.0\n",
            "gspread==3.4.2\n",
            "gspread-dataframe==3.0.8\n",
            "gym==0.17.3\n",
            "h5py==3.1.0\n",
            "HeapDict==1.0.1\n",
            "hijri-converter==2.2.3\n",
            "holidays==0.10.5.2\n",
            "holoviews==1.14.8\n",
            "html5lib==1.0.1\n",
            "httpimport==0.5.18\n",
            "httplib2==0.17.4\n",
            "httplib2shim==0.0.3\n",
            "humanize==0.5.1\n",
            "hyperopt==0.1.2\n",
            "ideep4py==2.0.0.post3\n",
            "idna==2.10\n",
            "imageio==2.4.1\n",
            "imagesize==1.3.0\n",
            "imbalanced-learn==0.8.1\n",
            "imblearn==0.0\n",
            "imgaug==0.2.9\n",
            "importlib-metadata==4.11.3\n",
            "importlib-resources==5.4.0\n",
            "imutils==0.5.4\n",
            "inflect==2.1.0\n",
            "iniconfig==1.1.1\n",
            "intel-openmp==2022.0.2\n",
            "intervaltree==2.1.0\n",
            "ipykernel==4.10.1\n",
            "ipython==5.5.0\n",
            "ipython-genutils==0.2.0\n",
            "ipython-sql==0.3.9\n",
            "ipywidgets==7.7.0\n",
            "itsdangerous==1.1.0\n",
            "jax==0.3.4\n",
            "jaxlib @ https://storage.googleapis.com/jax-releases/cuda11/jaxlib-0.3.2+cuda11.cudnn805-cp37-none-manylinux2010_x86_64.whl\n",
            "jedi==0.18.1\n",
            "jieba==0.42.1\n",
            "Jinja2==2.11.3\n",
            "joblib==1.1.0\n",
            "jpeg4py==0.1.4\n",
            "jsonschema==4.3.3\n",
            "jupyter==1.0.0\n",
            "jupyter-client==5.3.5\n",
            "jupyter-console==5.2.0\n",
            "jupyter-core==4.9.2\n",
            "jupyterlab-pygments==0.1.2\n",
            "jupyterlab-widgets==1.1.0\n",
            "kaggle==1.5.12\n",
            "kapre==0.3.7\n",
            "keras==2.8.0\n",
            "Keras-Preprocessing==1.1.2\n",
            "keras-vis==0.4.1\n",
            "kiwisolver==1.4.0\n",
            "korean-lunar-calendar==0.2.1\n",
            "libclang==13.0.0\n",
            "librosa==0.8.1\n",
            "lightgbm==2.2.3\n",
            "llvmlite==0.34.0\n",
            "lmdb==0.99\n",
            "LunarCalendar==0.0.9\n",
            "lxml==4.2.6\n",
            "Markdown==3.3.6\n",
            "MarkupSafe==2.0.1\n",
            "matplotlib==3.2.2\n",
            "matplotlib-inline==0.1.3\n",
            "matplotlib-venn==0.11.6\n",
            "missingno==0.5.1\n",
            "mistune==0.8.4\n",
            "mizani==0.6.0\n",
            "mkl==2019.0\n",
            "mlxtend==0.14.0\n",
            "more-itertools==8.12.0\n",
            "moviepy==0.2.3.5\n",
            "mpmath==1.2.1\n",
            "msgpack==1.0.3\n",
            "multiprocess==0.70.12.2\n",
            "multitasking==0.0.10\n",
            "murmurhash==1.0.6\n",
            "music21==5.5.0\n",
            "natsort==5.5.0\n",
            "nbclient==0.5.13\n",
            "nbconvert==5.6.1\n",
            "nbformat==5.2.0\n",
            "nest-asyncio==1.5.4\n",
            "netCDF4==1.5.8\n",
            "networkx==2.6.3\n",
            "nibabel==3.0.2\n",
            "nltk==3.2.5\n",
            "notebook==5.3.1\n",
            "numba==0.51.2\n",
            "numexpr==2.8.1\n",
            "numpy==1.21.5\n",
            "nvidia-ml-py3==7.352.0\n",
            "oauth2client==4.1.3\n",
            "oauthlib==3.2.0\n",
            "okgrade==0.4.3\n",
            "opencv-contrib-python==4.1.2.30\n",
            "opencv-python==4.1.2.30\n",
            "openpyxl==3.0.9\n",
            "opt-einsum==3.3.0\n",
            "osqp==0.6.2.post0\n",
            "packaging==21.3\n",
            "palettable==3.3.0\n",
            "pandas==1.3.5\n",
            "pandas-datareader==0.9.0\n",
            "pandas-gbq==0.13.3\n",
            "pandas-profiling==1.4.1\n",
            "pandocfilters==1.5.0\n",
            "panel==0.12.1\n",
            "param==1.12.0\n",
            "parso==0.8.3\n",
            "pathlib==1.0.1\n",
            "patsy==0.5.2\n",
            "pep517==0.12.0\n",
            "pexpect==4.8.0\n",
            "pickleshare==0.7.5\n",
            "Pillow==7.1.2\n",
            "pip-tools==6.2.0\n",
            "plac==1.1.3\n",
            "plotly==5.5.0\n",
            "plotnine==0.6.0\n",
            "pluggy==0.7.1\n",
            "ply==3.11\n",
            "pooch==1.6.0\n",
            "portpicker==1.3.9\n",
            "prefetch-generator==1.0.1\n",
            "preshed==3.0.6\n",
            "prettytable==3.2.0\n",
            "progressbar2==3.38.0\n",
            "prometheus-client==0.13.1\n",
            "promise==2.3\n",
            "prompt-toolkit==1.0.18\n",
            "protobuf==3.17.3\n",
            "psutil==5.4.8\n",
            "psycopg2==2.7.6.1\n",
            "ptyprocess==0.7.0\n",
            "py==1.11.0\n",
            "pyarrow==6.0.1\n",
            "pyasn1==0.4.8\n",
            "pyasn1-modules==0.2.8\n",
            "pycocotools==2.0.4\n",
            "pycparser==2.21\n",
            "pyct==0.4.8\n",
            "pydata-google-auth==1.4.0\n",
            "pydot==1.3.0\n",
            "pydot-ng==2.0.0\n",
            "pydotplus==2.0.2\n",
            "PyDrive==1.3.1\n",
            "pyemd==0.5.1\n",
            "pyerfa==2.0.0.1\n",
            "pyglet==1.5.0\n",
            "Pygments==2.6.1\n",
            "pygobject==3.26.1\n",
            "pymc3==3.11.4\n",
            "PyMeeus==0.5.11\n",
            "pymongo==4.0.2\n",
            "pymystem3==0.2.0\n",
            "Pyomo==6.4.0\n",
            "PyOpenGL==3.1.6\n",
            "pyparsing==3.0.7\n",
            "pyrsistent==0.18.1\n",
            "pysndfile==1.3.8\n",
            "PySocks==1.7.1\n",
            "pystan==2.19.1.1\n",
            "pytest==3.6.4\n",
            "python-apt==0.0.0\n",
            "python-chess==0.23.11\n",
            "python-dateutil==2.8.2\n",
            "python-louvain==0.16\n",
            "python-slugify==6.1.1\n",
            "python-utils==3.1.0\n",
            "pytz==2018.9\n",
            "pyviz-comms==2.1.0\n",
            "PyWavelets==1.3.0\n",
            "PyYAML==3.13\n",
            "pyzmq==22.3.0\n",
            "qdldl==0.1.5.post0\n",
            "qtconsole==5.2.2\n",
            "QtPy==2.0.1\n",
            "regex==2019.12.20\n",
            "requests==2.23.0\n",
            "requests-oauthlib==1.3.1\n",
            "resampy==0.2.2\n",
            "rpy2==3.4.5\n",
            "rsa==4.8\n",
            "scikit-image==0.18.3\n",
            "scikit-learn==1.0.2\n",
            "scipy==1.4.1\n",
            "screen-resolution-extra==0.0.0\n",
            "scs==3.2.0\n",
            "seaborn==0.11.2\n",
            "semver==2.13.0\n",
            "Send2Trash==1.8.0\n",
            "setuptools-git==1.2\n",
            "Shapely==1.8.1.post1\n",
            "simplegeneric==0.8.1\n",
            "six==1.15.0\n",
            "sklearn==0.0\n",
            "sklearn-pandas==1.8.0\n",
            "smart-open==5.2.1\n",
            "snowballstemmer==2.2.0\n",
            "sortedcontainers==2.4.0\n",
            "SoundFile==0.10.3.post1\n",
            "soupsieve==2.3.1\n",
            "spacy==2.2.4\n",
            "Sphinx==1.8.6\n",
            "sphinxcontrib-serializinghtml==1.1.5\n",
            "sphinxcontrib-websupport==1.2.4\n",
            "SQLAlchemy==1.4.32\n",
            "sqlparse==0.4.2\n",
            "srsly==1.0.5\n",
            "statsmodels==0.10.2\n",
            "sympy==1.7.1\n",
            "tables==3.7.0\n",
            "tabulate==0.8.9\n",
            "tblib==1.7.0\n",
            "tenacity==8.0.1\n",
            "tensorboard==2.8.0\n",
            "tensorboard-data-server==0.6.1\n",
            "tensorboard-plugin-wit==1.8.1\n",
            "tensorflow @ file:///tensorflow-2.8.0-cp37-cp37m-linux_x86_64.whl\n",
            "tensorflow-datasets==4.0.1\n",
            "tensorflow-estimator==2.8.0\n",
            "tensorflow-gcs-config==2.8.0\n",
            "tensorflow-hub==0.12.0\n",
            "tensorflow-io-gcs-filesystem==0.24.0\n",
            "tensorflow-metadata==1.7.0\n",
            "tensorflow-probability==0.16.0\n",
            "termcolor==1.1.0\n",
            "terminado==0.13.3\n",
            "testpath==0.6.0\n",
            "text-unidecode==1.3\n",
            "textblob==0.15.3\n",
            "Theano-PyMC==1.1.2\n",
            "thinc==7.4.0\n",
            "threadpoolctl==3.1.0\n",
            "tifffile==2021.11.2\n",
            "tomli==2.0.1\n",
            "toolz==0.11.2\n",
            "torch @ https://download.pytorch.org/whl/cu111/torch-1.10.0%2Bcu111-cp37-cp37m-linux_x86_64.whl\n",
            "torchaudio @ https://download.pytorch.org/whl/cu111/torchaudio-0.10.0%2Bcu111-cp37-cp37m-linux_x86_64.whl\n",
            "torchsummary==1.5.1\n",
            "torchtext==0.11.0\n",
            "torchvision @ https://download.pytorch.org/whl/cu111/torchvision-0.11.1%2Bcu111-cp37-cp37m-linux_x86_64.whl\n",
            "tornado==5.1.1\n",
            "tqdm==4.63.0\n",
            "traitlets==5.1.1\n",
            "tweepy==3.10.0\n",
            "typeguard==2.7.1\n",
            "typing-extensions==3.10.0.2\n",
            "tzlocal==1.5.1\n",
            "uritemplate==3.0.1\n",
            "urllib3==1.24.3\n",
            "vega-datasets==0.9.0\n",
            "wasabi==0.9.0\n",
            "wcwidth==0.2.5\n",
            "webencodings==0.5.1\n",
            "Werkzeug==1.0.1\n",
            "widgetsnbextension==3.6.0\n",
            "wordcloud==1.5.0\n",
            "wrapt==1.14.0\n",
            "xarray==0.18.2\n",
            "xgboost==0.90\n",
            "xkit==0.0.0\n",
            "xlrd==1.1.0\n",
            "xlwt==1.3.0\n",
            "yellowbrick==1.4\n",
            "zict==2.1.0\n",
            "zipp==3.7.0\n"
          ]
        }
      ]
    },
    {
      "cell_type": "code",
      "execution_count": 1,
      "metadata": {
        "id": "x4JMMmNk7qr9"
      },
      "outputs": [],
      "source": [
        "import pyomo.environ as pe\n",
        "import pandas as pd\n",
        "import numpy as np\n",
        "import matplotlib.pyplot as plt"
      ]
    },
    {
      "cell_type": "markdown",
      "metadata": {
        "id": "6qOCmqbx7qr_"
      },
      "source": [
        "# The Warehouse Location Problem\n",
        "\n",
        "Consider that a company is starting in supply-chain business and wants to build warehouses. They have data about few locations they have visited and evaluated and deemed fit for consideration, but want to find the best warehouse locations, such that all their customers would be servicable. They want to determine feasibility in entire Singapore, without actually investing in going around and analyzing the actual location and it's suitability for the task. Another problem is that as they haven't yet launched, they do not know their exact customers. To reduce their transport and evaluation costs they have approached you as a consultant. How would you approach this problem? \n",
        "\n",
        "After thinking about the problem, we realize that the prescriptive part of the problem can be summarized as:\n",
        "\n",
        "Let $N$ be a set of candidate warehouse locations. We wish to determine the optimal warehouse locations that will minimize the total cost of product delivery to all the customers locations $M$. "
      ]
    },
    {
      "cell_type": "markdown",
      "metadata": {
        "id": "iPp2Neot7qr_"
      },
      "source": [
        "What would be our variables for the model?\n",
        "+ We would need a discrete variable $y_n$ which is used to indicate if $n$ is selected\n",
        "+ We would need a variable for the cost of serving customer - $d_{m,n}$, which indicates the cost of delivering product to customer m from warehouse n\n",
        "+ How do we see all our customers are served? - define a variable $x_{n,m}$ which indicates the fraction of demand for customer $m$ that is served by warehouse $n$.\n",
        "\n",
        "Let us do the first step - i.e. mathematical model of our problem is to minimise transport and evaluation costs\n",
        "\n",
        "$\\min \\limits_{x,y} \\sum \\limits_{n \\in N} \\sum \\limits_{m \\in M} d_{n,m}x_{n,m}$\n",
        "\n",
        "subject to constraints:\n",
        "\n",
        "+ All customers are served (by some warehouse): $\\sum \\limits_{n \\in N} x_{n,m} = 1,   \\forall m \\in M $\n",
        "\n",
        "+ Each warehouse has the capacity to serve all customers that use that warehouse: $x_{n,m} \\leq y_n,   \\forall n \\in N, m \\in M$\n",
        "\n",
        "+ The number of warehouses built is limited to less than $P$: $\\sum \\limits_{n \\in N} y_n \\leq P$\n",
        "\n",
        "+ The demand for each customer $m$ that is served by each warehouse $n$ is between $0$ and $1$: $ 0\\leq x \\leq 1$\n",
        "\n",
        "+ Each warehouse is either open or not open: $ y \\in \\{0,1\\}$\n",
        "\n",
        "\n"
      ]
    },
    {
      "cell_type": "markdown",
      "metadata": {
        "id": "afP3FG127qsA"
      },
      "source": [
        "Let us define the costs $d_{n,m}$ as follows ( the columns give the customer locations while rows give candidate warehouse locations)\n",
        "\n",
        "||Bukit Batok| Downtown| Changi| Clementi|\n",
        "|--|--|--|--|--|\n",
        "|Paya Lebar| 1956| 1606 | 1410 | 330|\n",
        "|Woodlands| 1096| 1792| 531| 567|\n",
        "|Pasir Ris| 485| 2322| 324| 1236|"
      ]
    },
    {
      "cell_type": "markdown",
      "metadata": {
        "id": "2RwwQLhU7qsB"
      },
      "source": [
        "# Loading Data\n",
        "\n",
        "This data is available in delivery_costs.csv. Let us load the data."
      ]
    },
    {
      "cell_type": "code",
      "source": [
        "from google.colab import drive\n",
        "drive.mount('/content/drive')"
      ],
      "metadata": {
        "colab": {
          "base_uri": "https://localhost:8080/"
        },
        "id": "tWk3nynIKEvJ",
        "outputId": "05e9333b-114d-4eb5-b009-a3cc50f369df"
      },
      "execution_count": 2,
      "outputs": [
        {
          "output_type": "stream",
          "name": "stdout",
          "text": [
            "Drive already mounted at /content/drive; to attempt to forcibly remount, call drive.mount(\"/content/drive\", force_remount=True).\n"
          ]
        }
      ]
    },
    {
      "cell_type": "code",
      "execution_count": 3,
      "metadata": {
        "id": "sYK7tn1i7qsC"
      },
      "outputs": [],
      "source": [
        "df = pd.read_csv('/content/drive/MyDrive/Colab Notebooks/IT5006/Week 10/delivery_costs.csv', index_col=0)"
      ]
    },
    {
      "cell_type": "code",
      "execution_count": 4,
      "metadata": {
        "scrolled": false,
        "colab": {
          "base_uri": "https://localhost:8080/",
          "height": 143
        },
        "id": "NlINaJY57qsC",
        "outputId": "98f00e82-4070-45b6-c8eb-75c6e47b890a"
      },
      "outputs": [
        {
          "output_type": "execute_result",
          "data": {
            "text/plain": [
              "            Bukit Batok  Downtown  Changi  Clementi\n",
              "Paya Lebar         1956      1606    1410       330\n",
              "Woodlands          1096      1792     531       567\n",
              "Pasir Ris           485      2322     324      1236"
            ],
            "text/html": [
              "\n",
              "  <div id=\"df-225e9463-4c83-44a8-a2ff-2f8a3fcc90b8\">\n",
              "    <div class=\"colab-df-container\">\n",
              "      <div>\n",
              "<style scoped>\n",
              "    .dataframe tbody tr th:only-of-type {\n",
              "        vertical-align: middle;\n",
              "    }\n",
              "\n",
              "    .dataframe tbody tr th {\n",
              "        vertical-align: top;\n",
              "    }\n",
              "\n",
              "    .dataframe thead th {\n",
              "        text-align: right;\n",
              "    }\n",
              "</style>\n",
              "<table border=\"1\" class=\"dataframe\">\n",
              "  <thead>\n",
              "    <tr style=\"text-align: right;\">\n",
              "      <th></th>\n",
              "      <th>Bukit Batok</th>\n",
              "      <th>Downtown</th>\n",
              "      <th>Changi</th>\n",
              "      <th>Clementi</th>\n",
              "    </tr>\n",
              "  </thead>\n",
              "  <tbody>\n",
              "    <tr>\n",
              "      <th>Paya Lebar</th>\n",
              "      <td>1956</td>\n",
              "      <td>1606</td>\n",
              "      <td>1410</td>\n",
              "      <td>330</td>\n",
              "    </tr>\n",
              "    <tr>\n",
              "      <th>Woodlands</th>\n",
              "      <td>1096</td>\n",
              "      <td>1792</td>\n",
              "      <td>531</td>\n",
              "      <td>567</td>\n",
              "    </tr>\n",
              "    <tr>\n",
              "      <th>Pasir Ris</th>\n",
              "      <td>485</td>\n",
              "      <td>2322</td>\n",
              "      <td>324</td>\n",
              "      <td>1236</td>\n",
              "    </tr>\n",
              "  </tbody>\n",
              "</table>\n",
              "</div>\n",
              "      <button class=\"colab-df-convert\" onclick=\"convertToInteractive('df-225e9463-4c83-44a8-a2ff-2f8a3fcc90b8')\"\n",
              "              title=\"Convert this dataframe to an interactive table.\"\n",
              "              style=\"display:none;\">\n",
              "        \n",
              "  <svg xmlns=\"http://www.w3.org/2000/svg\" height=\"24px\"viewBox=\"0 0 24 24\"\n",
              "       width=\"24px\">\n",
              "    <path d=\"M0 0h24v24H0V0z\" fill=\"none\"/>\n",
              "    <path d=\"M18.56 5.44l.94 2.06.94-2.06 2.06-.94-2.06-.94-.94-2.06-.94 2.06-2.06.94zm-11 1L8.5 8.5l.94-2.06 2.06-.94-2.06-.94L8.5 2.5l-.94 2.06-2.06.94zm10 10l.94 2.06.94-2.06 2.06-.94-2.06-.94-.94-2.06-.94 2.06-2.06.94z\"/><path d=\"M17.41 7.96l-1.37-1.37c-.4-.4-.92-.59-1.43-.59-.52 0-1.04.2-1.43.59L10.3 9.45l-7.72 7.72c-.78.78-.78 2.05 0 2.83L4 21.41c.39.39.9.59 1.41.59.51 0 1.02-.2 1.41-.59l7.78-7.78 2.81-2.81c.8-.78.8-2.07 0-2.86zM5.41 20L4 18.59l7.72-7.72 1.47 1.35L5.41 20z\"/>\n",
              "  </svg>\n",
              "      </button>\n",
              "      \n",
              "  <style>\n",
              "    .colab-df-container {\n",
              "      display:flex;\n",
              "      flex-wrap:wrap;\n",
              "      gap: 12px;\n",
              "    }\n",
              "\n",
              "    .colab-df-convert {\n",
              "      background-color: #E8F0FE;\n",
              "      border: none;\n",
              "      border-radius: 50%;\n",
              "      cursor: pointer;\n",
              "      display: none;\n",
              "      fill: #1967D2;\n",
              "      height: 32px;\n",
              "      padding: 0 0 0 0;\n",
              "      width: 32px;\n",
              "    }\n",
              "\n",
              "    .colab-df-convert:hover {\n",
              "      background-color: #E2EBFA;\n",
              "      box-shadow: 0px 1px 2px rgba(60, 64, 67, 0.3), 0px 1px 3px 1px rgba(60, 64, 67, 0.15);\n",
              "      fill: #174EA6;\n",
              "    }\n",
              "\n",
              "    [theme=dark] .colab-df-convert {\n",
              "      background-color: #3B4455;\n",
              "      fill: #D2E3FC;\n",
              "    }\n",
              "\n",
              "    [theme=dark] .colab-df-convert:hover {\n",
              "      background-color: #434B5C;\n",
              "      box-shadow: 0px 1px 3px 1px rgba(0, 0, 0, 0.15);\n",
              "      filter: drop-shadow(0px 1px 2px rgba(0, 0, 0, 0.3));\n",
              "      fill: #FFFFFF;\n",
              "    }\n",
              "  </style>\n",
              "\n",
              "      <script>\n",
              "        const buttonEl =\n",
              "          document.querySelector('#df-225e9463-4c83-44a8-a2ff-2f8a3fcc90b8 button.colab-df-convert');\n",
              "        buttonEl.style.display =\n",
              "          google.colab.kernel.accessAllowed ? 'block' : 'none';\n",
              "\n",
              "        async function convertToInteractive(key) {\n",
              "          const element = document.querySelector('#df-225e9463-4c83-44a8-a2ff-2f8a3fcc90b8');\n",
              "          const dataTable =\n",
              "            await google.colab.kernel.invokeFunction('convertToInteractive',\n",
              "                                                     [key], {});\n",
              "          if (!dataTable) return;\n",
              "\n",
              "          const docLinkHtml = 'Like what you see? Visit the ' +\n",
              "            '<a target=\"_blank\" href=https://colab.research.google.com/notebooks/data_table.ipynb>data table notebook</a>'\n",
              "            + ' to learn more about interactive tables.';\n",
              "          element.innerHTML = '';\n",
              "          dataTable['output_type'] = 'display_data';\n",
              "          await google.colab.output.renderOutput(dataTable, element);\n",
              "          const docLink = document.createElement('div');\n",
              "          docLink.innerHTML = docLinkHtml;\n",
              "          element.appendChild(docLink);\n",
              "        }\n",
              "      </script>\n",
              "    </div>\n",
              "  </div>\n",
              "  "
            ]
          },
          "metadata": {},
          "execution_count": 4
        }
      ],
      "source": [
        "df.head()"
      ]
    },
    {
      "cell_type": "markdown",
      "metadata": {
        "id": "qQ7I0AkU7qsE"
      },
      "source": [
        "The variables $x$ and $y$ are determined by the optimizer, and all other quantities are\n",
        "known inputs or parameters in the problem. This problem is a particular description of the [p-median problem](http://www.math.nsc.ru/AP/benchmarks/P-median/p-med_eng.html), and it has the interesting property that the $x$ variables will converge to $\\{0, 1\\}$ even though they are not specified as binary variables."
      ]
    },
    {
      "cell_type": "markdown",
      "metadata": {
        "id": "HRoJyvN67qsE"
      },
      "source": [
        "# Concrete Models vs Abstract Models in Pyomo\n",
        "\n",
        "Let us first mathematically understand the difference between Concrete and Abstract modeling in Pyomo.\n",
        "\n",
        "$ \\min \\sum_{j=1}^n c_j x_j $\n",
        "\n",
        "such that\n",
        "\n",
        "$ \\sum_{j=1}^n a_{ij} x_j \\geq b_i,    \\forall i = 1 \\ldots m $\n",
        "\n",
        "$x_j \\geq 0,      \\forall j = 1 \\ldots n$\n",
        "\n",
        "We call this an abstract or symbolic mathematical model since it relies on *unspecified parameter values*. Data values can be used to specify a model instance. The ```AbstractModel``` class provides a context for defining and initializing abstract optimization models in Pyomo when the data values will be supplied at the time a solution is to be obtained.\n",
        "\n",
        "In many contexts, a mathematical model can and should be *directly defined with the data values supplied at the time of the model definition*. We call these concrete mathematical models. For example, consider the following:\n",
        "\n",
        "$\\min    2 x_1 + 3 x_2$\n",
        "\n",
        "such that\n",
        "\n",
        "$ 3 x_1 + 4 x_2 \\geq 1$\n",
        "\n",
        "$ x_1, x_2 \\geq 0$\n",
        "\n",
        "The ```ConcreteModel``` class is used to define concrete optimization models in Pyomo.\n",
        "\n",
        "<div class=\"alert alert-block alert-info\"> \n",
        "    <b>NOTE</b> \n",
        "    Python programmers will probably prefer to write concrete models, while users of some other algebraic modeling languages may tend to prefer to write abstract models. The choice is largely a matter of taste; some applications may be a little more straightforward using one or the other.\n",
        "</div>"
      ]
    },
    {
      "cell_type": "markdown",
      "metadata": {
        "id": "eQpTlN2i7qsF"
      },
      "source": [
        "# Concrete Model\n",
        "\n",
        "We will first define the problem using ```ConcreteModel```, and then move to model using ```AbstractModel```. We can specify a name for the model."
      ]
    },
    {
      "cell_type": "code",
      "execution_count": 5,
      "metadata": {
        "id": "jWS5IA7t7qsF"
      },
      "outputs": [],
      "source": [
        "model = pe.ConcreteModel(name=\"(WL)\")"
      ]
    },
    {
      "cell_type": "markdown",
      "metadata": {
        "id": "ODbdCmOj7qsG"
      },
      "source": [
        "## Defining Pyomo Components: Variables\n",
        "\n",
        "Optimization problems require, at least, one variable and an objective function. Most problems also include constraints. For each optimization variable, we create an instance of the ```Var``` class and add that instance as an attribute to the ```model``` object. The code ```model.x=Var()``` creates an instance of the Pyomo class ```Var ``` and makes it accessible by ```model.x```.\n",
        "\n",
        "In ```Var```,  keyword arguments can be used to define properties of the variable. For example, ```bounds``` is used to set lower and upper bounds, ```initialize``` is used to set initial values, and ```within``` is used\n",
        "to set the domain.\n",
        "\n",
        "If the domain is not specified, the default is the ```Reals``` virtual set. Other virtual sets supported by Pyomo are: ```PositiveReals```, ```Integers```, ```Boolean```, etc. The complete list can be found [here](https://pyomo.readthedocs.io/en/stable/pyomo_modeling_components/Sets.html#predefined-virtual-sets).\n",
        "\n"
      ]
    },
    {
      "cell_type": "markdown",
      "metadata": {
        "id": "q4QonNN57qsG"
      },
      "source": [
        "Notice in our problem, the variable and constraints are indexed through the data provided. We can create separate $x$ variables for each pair of warehouse and customers. However, a more elegant option is to use construction rules. So, we first need to create the data in Python, which can be used to provide Pyomo with list of valid indices for ```x``` and ```y``` variables."
      ]
    },
    {
      "cell_type": "code",
      "execution_count": 6,
      "metadata": {
        "id": "CeYoKko_7qsG"
      },
      "outputs": [],
      "source": [
        "N = list(df.index.map(str)) # warehouse locations\n",
        "M = list(df.columns.map(str)) # customer locations\n",
        "d = {(r, c):df.at[r,c] for r in N for c in M} # the cost at each warehouse location and customer location"
      ]
    },
    {
      "cell_type": "markdown",
      "metadata": {
        "id": "bEp1gKIA7qsH"
      },
      "source": [
        "For our problem, let us say that the company wants to only build two warehouses in the beginning."
      ]
    },
    {
      "cell_type": "code",
      "execution_count": 7,
      "metadata": {
        "id": "cLjxhnlR7qsH"
      },
      "outputs": [],
      "source": [
        "P = 2"
      ]
    },
    {
      "cell_type": "code",
      "execution_count": 8,
      "metadata": {
        "id": "ZRnINCcS7qsH"
      },
      "outputs": [],
      "source": [
        "model.x = pe.Var(N, M, bounds=(0,1)) # the warehouse locations and customer locations are x variables\n",
        "model.y = pe.Var(N, within=pe.Binary) # the warehouse (built) is the y variable"
      ]
    },
    {
      "cell_type": "markdown",
      "metadata": {
        "id": "630cEiXQ7qsH"
      },
      "source": [
        "We refer to ```N``` and ```M``` as index sets for the indexed variables ```model.x``` and ```model.y```.\n",
        "Specifically, the variable y is indexed over N, and the variable x is a two-dimensional array that is indexed over both N and M. With this declaration, an element of x can be accessed by ```model.x[i,j]``` where i and j are elements of the sets N and M, respectively."
      ]
    },
    {
      "cell_type": "markdown",
      "metadata": {
        "id": "kb6iK2dF7qsI"
      },
      "source": [
        "## Defining Pyomo Components - Constraints and Objectives\n",
        "\n",
        "### Defining Constraint\n",
        "Nearly all of Pyomo’s modeling components can be indexed, and the construction of many indexed constraints is performed with construction rules. An alternative strategy usable only in ```ConcreteModel``` class is the use of ```expr```. The ```Objective``` or ```Constraint``` can be passed an expression rather than an indexed rule. Let us illustrate this for the simple exaple used earlier to explain a Concrete Model in Pyomo.\n",
        "\n",
        "```\n",
        "## for the simple example \n",
        "\n",
        "model = pe.ConcreteModel()\n",
        "\n",
        "model.x = pe.Var([1,2], domain=pe.NonNegativeReals)\n",
        "\n",
        "model.OBJ = pe.Objective(expr = 2*model.x[1] + 3*model.x[2])\n",
        "\n",
        "model.Constraint1 = pe.Constraint(expr = 3*model.x[1] + 4*model.x[2] >= 1)\n",
        "```\n",
        "\n",
        "You might want to use this same style for the problem at hand too, and you are free to do so, however, a ```rule```-based approach is more scalable for our task at hand.\n",
        "\n",
        "Consider our constraint, \n",
        "\n",
        "$\\sum \\limits_{n \\in N} x_{n,m} = 1,   \\forall m \\in M $\n",
        "\n",
        "This mathematical notation indicates that there is a single constraint for each $m$ in the set $M$. The ```Constraint``` component can be declared as an indexed constraint over the elements in this set. However, we need a mechanism to provide Pyomo with the explicit expressions for each element in $M$. Pyomo allows model components to be initialized with user-defined functions, which we call ```rules```.\n"
      ]
    },
    {
      "cell_type": "code",
      "execution_count": 9,
      "metadata": {
        "id": "neJcYlNU7qsI"
      },
      "outputs": [],
      "source": [
        "def one_per_cust_rule(model, m):\n",
        "    return sum(model.x[n,m] for n in N) == 1\n",
        "model.one_per_cust = pe.Constraint(M, rule=one_per_cust_rule)"
      ]
    },
    {
      "cell_type": "markdown",
      "metadata": {
        "id": "qsnowYMc7qsI"
      },
      "source": [
        "The last line in this example declares the constraint by creating a ```Constraint``` component that is indexed over the set ```M```. The ```rule``` keyword argument indicates that the function ```one_per_cust_rule``` is used to construct each constraint. "
      ]
    },
    {
      "cell_type": "markdown",
      "source": [
        "We can create another constraint for the warehouse capacity, and call it ```warehouse_active_rule```. \n",
        "\n",
        "Each warehouse has the capacity to serve all customers that use that warehouse: $x_{n,m} \\leq y_n,   \\forall n \\in N, m \\in M$\n",
        "\n"
      ],
      "metadata": {
        "id": "9mzbBva6WSJf"
      }
    },
    {
      "cell_type": "code",
      "execution_count": 10,
      "metadata": {
        "id": "k2U4mrd07qsJ"
      },
      "outputs": [],
      "source": [
        "def warehouse_active_rule(model, n, m):\n",
        "   return model.x[n,m] <=model.y[n]\n",
        "model.warehouse_active = pe.Constraint(N, M, rule=warehouse_active_rule)"
      ]
    },
    {
      "cell_type": "markdown",
      "source": [
        "Lastly we create a rule for the total number of warehouses. \n",
        "\n",
        "The number of warehouses built is limited to less than $P$: $\\sum \\limits_{n \\in N} y_n \\leq P$\n",
        "\n",
        "\n"
      ],
      "metadata": {
        "id": "OrRQQ_UeWWH3"
      }
    },
    {
      "cell_type": "code",
      "execution_count": 11,
      "metadata": {
        "id": "SlcgCX7Z7qsJ"
      },
      "outputs": [],
      "source": [
        "def num_warehouses_rule(model):\n",
        "    return sum(model.y[n] for n in N) <= P\n",
        "model.num_warehouses = pe.Constraint(rule=num_warehouses_rule)"
      ]
    },
    {
      "cell_type": "markdown",
      "metadata": {
        "id": "tOXJGh5X7qsJ"
      },
      "source": [
        "Pyomo expects a construction rule to return an expression for every index value. If no constraint is needed for a particular combination of indices, then the value ```Constraint.Skip``` can be returned instead."
      ]
    },
    {
      "cell_type": "markdown",
      "metadata": {
        "id": "ZO9TapZy7qsJ"
      },
      "source": [
        "## Defining Objective"
      ]
    },
    {
      "cell_type": "code",
      "execution_count": 12,
      "metadata": {
        "id": "HsDoVWkP7qsJ"
      },
      "outputs": [],
      "source": [
        "def obj_rule(model):\n",
        "    return sum(d[n,m]*model.x[n,m] for n in N for m in M)\n",
        "model.obj = pe.Objective(rule=obj_rule)"
      ]
    },
    {
      "cell_type": "markdown",
      "metadata": {
        "id": "Bf4kKubc7qsK"
      },
      "source": [
        "## Solving the Model\n",
        "\n",
        "It is good to note that ```pyomo``` command can be also directly used in command line to solve a model defined in python script by:\n",
        "```\n",
        "pyomo solve --solver-glpk script.py data.csv\n",
        "```\n",
        "Note here, that the script would need to take the system-argument to use the data file.\n",
        "\n",
        "However, let us continue to use the python API so that the entire pipeline of our analysis can be kept in python for convenience. We use ```SolverFactory``` to mention the solver to be used for pyomo.\n",
        "\n",
        "Pyomo supports a wide variety of solvers. Pyomo has specialized interfaces to some solvers (for example, BARON, CBC, CPLEX, and Gurobi). It also has generic interfaces that support calling any solver that can read AMPL “.nl” and write “.sol” files and the ability to generate GAMS-format models and retrieve the results. We use the GLPK (GNU Linear Programming Kit) solver."
      ]
    },
    {
      "cell_type": "code",
      "execution_count": 13,
      "metadata": {
        "colab": {
          "base_uri": "https://localhost:8080/"
        },
        "id": "-vNrGKrB7qsK",
        "outputId": "541202ff-3ecc-4269-ad91-fbadf99deac2"
      },
      "outputs": [
        {
          "output_type": "stream",
          "name": "stdout",
          "text": [
            "8 Set Declarations\n",
            "    one_per_cust_index : Size=1, Index=None, Ordered=Insertion\n",
            "        Key  : Dimen : Domain : Size : Members\n",
            "        None :     1 :    Any :    4 : {'Bukit Batok', 'Downtown', 'Changi', 'Clementi'}\n",
            "    warehouse_active_index : Size=1, Index=None, Ordered=True\n",
            "        Key  : Dimen : Domain                                            : Size : Members\n",
            "        None :     2 : warehouse_active_index_0*warehouse_active_index_1 :   12 : {('Paya Lebar', 'Bukit Batok'), ('Paya Lebar', 'Downtown'), ('Paya Lebar', 'Changi'), ('Paya Lebar', 'Clementi'), ('Woodlands', 'Bukit Batok'), ('Woodlands', 'Downtown'), ('Woodlands', 'Changi'), ('Woodlands', 'Clementi'), ('Pasir Ris', 'Bukit Batok'), ('Pasir Ris', 'Downtown'), ('Pasir Ris', 'Changi'), ('Pasir Ris', 'Clementi')}\n",
            "    warehouse_active_index_0 : Size=1, Index=None, Ordered=Insertion\n",
            "        Key  : Dimen : Domain : Size : Members\n",
            "        None :     1 :    Any :    3 : {'Paya Lebar', 'Woodlands', 'Pasir Ris'}\n",
            "    warehouse_active_index_1 : Size=1, Index=None, Ordered=Insertion\n",
            "        Key  : Dimen : Domain : Size : Members\n",
            "        None :     1 :    Any :    4 : {'Bukit Batok', 'Downtown', 'Changi', 'Clementi'}\n",
            "    x_index : Size=1, Index=None, Ordered=True\n",
            "        Key  : Dimen : Domain              : Size : Members\n",
            "        None :     2 : x_index_0*x_index_1 :   12 : {('Paya Lebar', 'Bukit Batok'), ('Paya Lebar', 'Downtown'), ('Paya Lebar', 'Changi'), ('Paya Lebar', 'Clementi'), ('Woodlands', 'Bukit Batok'), ('Woodlands', 'Downtown'), ('Woodlands', 'Changi'), ('Woodlands', 'Clementi'), ('Pasir Ris', 'Bukit Batok'), ('Pasir Ris', 'Downtown'), ('Pasir Ris', 'Changi'), ('Pasir Ris', 'Clementi')}\n",
            "    x_index_0 : Size=1, Index=None, Ordered=Insertion\n",
            "        Key  : Dimen : Domain : Size : Members\n",
            "        None :     1 :    Any :    3 : {'Paya Lebar', 'Woodlands', 'Pasir Ris'}\n",
            "    x_index_1 : Size=1, Index=None, Ordered=Insertion\n",
            "        Key  : Dimen : Domain : Size : Members\n",
            "        None :     1 :    Any :    4 : {'Bukit Batok', 'Downtown', 'Changi', 'Clementi'}\n",
            "    y_index : Size=1, Index=None, Ordered=Insertion\n",
            "        Key  : Dimen : Domain : Size : Members\n",
            "        None :     1 :    Any :    3 : {'Paya Lebar', 'Woodlands', 'Pasir Ris'}\n",
            "\n",
            "2 Var Declarations\n",
            "    x : Size=12, Index=x_index\n",
            "        Key                           : Lower : Value : Upper : Fixed : Stale : Domain\n",
            "         ('Pasir Ris', 'Bukit Batok') :     0 :  None :     1 : False :  True :  Reals\n",
            "              ('Pasir Ris', 'Changi') :     0 :  None :     1 : False :  True :  Reals\n",
            "            ('Pasir Ris', 'Clementi') :     0 :  None :     1 : False :  True :  Reals\n",
            "            ('Pasir Ris', 'Downtown') :     0 :  None :     1 : False :  True :  Reals\n",
            "        ('Paya Lebar', 'Bukit Batok') :     0 :  None :     1 : False :  True :  Reals\n",
            "             ('Paya Lebar', 'Changi') :     0 :  None :     1 : False :  True :  Reals\n",
            "           ('Paya Lebar', 'Clementi') :     0 :  None :     1 : False :  True :  Reals\n",
            "           ('Paya Lebar', 'Downtown') :     0 :  None :     1 : False :  True :  Reals\n",
            "         ('Woodlands', 'Bukit Batok') :     0 :  None :     1 : False :  True :  Reals\n",
            "              ('Woodlands', 'Changi') :     0 :  None :     1 : False :  True :  Reals\n",
            "            ('Woodlands', 'Clementi') :     0 :  None :     1 : False :  True :  Reals\n",
            "            ('Woodlands', 'Downtown') :     0 :  None :     1 : False :  True :  Reals\n",
            "    y : Size=3, Index=y_index\n",
            "        Key        : Lower : Value : Upper : Fixed : Stale : Domain\n",
            "         Pasir Ris :     0 :  None :     1 : False :  True : Binary\n",
            "        Paya Lebar :     0 :  None :     1 : False :  True : Binary\n",
            "         Woodlands :     0 :  None :     1 : False :  True : Binary\n",
            "\n",
            "1 Objective Declarations\n",
            "    obj : Size=1, Index=None, Active=True\n",
            "        Key  : Active : Sense    : Expression\n",
            "        None :   True : minimize : 1956*x[Paya Lebar,Bukit Batok] + 1606*x[Paya Lebar,Downtown] + 1410*x[Paya Lebar,Changi] + 330*x[Paya Lebar,Clementi] + 1096*x[Woodlands,Bukit Batok] + 1792*x[Woodlands,Downtown] + 531*x[Woodlands,Changi] + 567*x[Woodlands,Clementi] + 485*x[Pasir Ris,Bukit Batok] + 2322*x[Pasir Ris,Downtown] + 324*x[Pasir Ris,Changi] + 1236*x[Pasir Ris,Clementi]\n",
            "\n",
            "3 Constraint Declarations\n",
            "    num_warehouses : Size=1, Index=None, Active=True\n",
            "        Key  : Lower : Body                                        : Upper : Active\n",
            "        None :  -Inf : y[Paya Lebar] + y[Woodlands] + y[Pasir Ris] :   2.0 :   True\n",
            "    one_per_cust : Size=4, Index=one_per_cust_index, Active=True\n",
            "        Key         : Lower : Body                                                                            : Upper : Active\n",
            "        Bukit Batok :   1.0 : x[Paya Lebar,Bukit Batok] + x[Woodlands,Bukit Batok] + x[Pasir Ris,Bukit Batok] :   1.0 :   True\n",
            "             Changi :   1.0 :                x[Paya Lebar,Changi] + x[Woodlands,Changi] + x[Pasir Ris,Changi] :   1.0 :   True\n",
            "           Clementi :   1.0 :          x[Paya Lebar,Clementi] + x[Woodlands,Clementi] + x[Pasir Ris,Clementi] :   1.0 :   True\n",
            "           Downtown :   1.0 :          x[Paya Lebar,Downtown] + x[Woodlands,Downtown] + x[Pasir Ris,Downtown] :   1.0 :   True\n",
            "    warehouse_active : Size=12, Index=warehouse_active_index, Active=True\n",
            "        Key                           : Lower : Body                                      : Upper : Active\n",
            "         ('Pasir Ris', 'Bukit Batok') :  -Inf :   x[Pasir Ris,Bukit Batok] - y[Pasir Ris] :   0.0 :   True\n",
            "              ('Pasir Ris', 'Changi') :  -Inf :        x[Pasir Ris,Changi] - y[Pasir Ris] :   0.0 :   True\n",
            "            ('Pasir Ris', 'Clementi') :  -Inf :      x[Pasir Ris,Clementi] - y[Pasir Ris] :   0.0 :   True\n",
            "            ('Pasir Ris', 'Downtown') :  -Inf :      x[Pasir Ris,Downtown] - y[Pasir Ris] :   0.0 :   True\n",
            "        ('Paya Lebar', 'Bukit Batok') :  -Inf : x[Paya Lebar,Bukit Batok] - y[Paya Lebar] :   0.0 :   True\n",
            "             ('Paya Lebar', 'Changi') :  -Inf :      x[Paya Lebar,Changi] - y[Paya Lebar] :   0.0 :   True\n",
            "           ('Paya Lebar', 'Clementi') :  -Inf :    x[Paya Lebar,Clementi] - y[Paya Lebar] :   0.0 :   True\n",
            "           ('Paya Lebar', 'Downtown') :  -Inf :    x[Paya Lebar,Downtown] - y[Paya Lebar] :   0.0 :   True\n",
            "         ('Woodlands', 'Bukit Batok') :  -Inf :   x[Woodlands,Bukit Batok] - y[Woodlands] :   0.0 :   True\n",
            "              ('Woodlands', 'Changi') :  -Inf :        x[Woodlands,Changi] - y[Woodlands] :   0.0 :   True\n",
            "            ('Woodlands', 'Clementi') :  -Inf :      x[Woodlands,Clementi] - y[Woodlands] :   0.0 :   True\n",
            "            ('Woodlands', 'Downtown') :  -Inf :      x[Woodlands,Downtown] - y[Woodlands] :   0.0 :   True\n",
            "\n",
            "14 Declarations: x_index_0 x_index_1 x_index x y_index y one_per_cust_index one_per_cust warehouse_active_index_0 warehouse_active_index_1 warehouse_active_index warehouse_active num_warehouses obj\n"
          ]
        }
      ],
      "source": [
        "model.pprint()"
      ]
    },
    {
      "cell_type": "code",
      "source": [
        "!apt-get install -y -qq glpk-utils"
      ],
      "metadata": {
        "id": "bOHEjOHRZNfo"
      },
      "execution_count": 14,
      "outputs": []
    },
    {
      "cell_type": "code",
      "execution_count": 15,
      "metadata": {
        "scrolled": false,
        "colab": {
          "base_uri": "https://localhost:8080/"
        },
        "id": "KlE51Epi7qsK",
        "outputId": "ac1c4eec-d2d3-4105-ce0f-6939f62635e6"
      },
      "outputs": [
        {
          "output_type": "stream",
          "name": "stdout",
          "text": [
            "Model '(WL)'\n",
            "\n",
            "  Variables:\n",
            "    x : Size=12, Index=x_index\n",
            "        Key                           : Lower : Value : Upper : Fixed : Stale : Domain\n",
            "         ('Pasir Ris', 'Bukit Batok') :     0 :   1.0 :     1 : False : False :  Reals\n",
            "              ('Pasir Ris', 'Changi') :     0 :   1.0 :     1 : False : False :  Reals\n",
            "            ('Pasir Ris', 'Clementi') :     0 :   0.0 :     1 : False : False :  Reals\n",
            "            ('Pasir Ris', 'Downtown') :     0 :   0.0 :     1 : False : False :  Reals\n",
            "        ('Paya Lebar', 'Bukit Batok') :     0 :   0.0 :     1 : False : False :  Reals\n",
            "             ('Paya Lebar', 'Changi') :     0 :   0.0 :     1 : False : False :  Reals\n",
            "           ('Paya Lebar', 'Clementi') :     0 :   1.0 :     1 : False : False :  Reals\n",
            "           ('Paya Lebar', 'Downtown') :     0 :   1.0 :     1 : False : False :  Reals\n",
            "         ('Woodlands', 'Bukit Batok') :     0 :   0.0 :     1 : False : False :  Reals\n",
            "              ('Woodlands', 'Changi') :     0 :   0.0 :     1 : False : False :  Reals\n",
            "            ('Woodlands', 'Clementi') :     0 :   0.0 :     1 : False : False :  Reals\n",
            "            ('Woodlands', 'Downtown') :     0 :   0.0 :     1 : False : False :  Reals\n",
            "    y : Size=3, Index=y_index\n",
            "        Key        : Lower : Value : Upper : Fixed : Stale : Domain\n",
            "         Pasir Ris :     0 :   1.0 :     1 : False : False : Binary\n",
            "        Paya Lebar :     0 :   1.0 :     1 : False : False : Binary\n",
            "         Woodlands :     0 :   0.0 :     1 : False : False : Binary\n",
            "\n",
            "  Objectives:\n",
            "    obj : Size=1, Index=None, Active=True\n",
            "        Key  : Active : Value\n",
            "        None :   True : 2745.0\n",
            "\n",
            "  Constraints:\n",
            "    one_per_cust : Size=4\n",
            "        Key         : Lower : Body : Upper\n",
            "        Bukit Batok :   1.0 :  1.0 :   1.0\n",
            "             Changi :   1.0 :  1.0 :   1.0\n",
            "           Clementi :   1.0 :  1.0 :   1.0\n",
            "           Downtown :   1.0 :  1.0 :   1.0\n",
            "    warehouse_active : Size=12\n",
            "        Key                           : Lower : Body : Upper\n",
            "         ('Pasir Ris', 'Bukit Batok') :  None :  0.0 :   0.0\n",
            "              ('Pasir Ris', 'Changi') :  None :  0.0 :   0.0\n",
            "            ('Pasir Ris', 'Clementi') :  None : -1.0 :   0.0\n",
            "            ('Pasir Ris', 'Downtown') :  None : -1.0 :   0.0\n",
            "        ('Paya Lebar', 'Bukit Batok') :  None : -1.0 :   0.0\n",
            "             ('Paya Lebar', 'Changi') :  None : -1.0 :   0.0\n",
            "           ('Paya Lebar', 'Clementi') :  None :  0.0 :   0.0\n",
            "           ('Paya Lebar', 'Downtown') :  None :  0.0 :   0.0\n",
            "         ('Woodlands', 'Bukit Batok') :  None :  0.0 :   0.0\n",
            "              ('Woodlands', 'Changi') :  None :  0.0 :   0.0\n",
            "            ('Woodlands', 'Clementi') :  None :  0.0 :   0.0\n",
            "            ('Woodlands', 'Downtown') :  None :  0.0 :   0.0\n",
            "    num_warehouses : Size=1\n",
            "        Key  : Lower : Body : Upper\n",
            "        None :  None :  2.0 :   2.0\n"
          ]
        }
      ],
      "source": [
        "solver = pe.SolverFactory('glpk', executable='/usr/bin/glpsol')\n",
        "solver.solve(model)\n",
        "model.display()"
      ]
    },
    {
      "cell_type": "markdown",
      "metadata": {
        "id": "3wkbBcQR7qsK"
      },
      "source": [
        "## Getting Results in Human Readable Form\n",
        "\n",
        "Let us convert the solved model, to text-based prescriptions. After all, this is what is requested from us as consultants!"
      ]
    },
    {
      "cell_type": "code",
      "execution_count": 16,
      "metadata": {
        "colab": {
          "base_uri": "https://localhost:8080/"
        },
        "id": "BCHmNl7h7qsK",
        "outputId": "53ce177a-2c31-4c3e-b418-acdfa3aff1af"
      },
      "outputs": [
        {
          "output_type": "stream",
          "name": "stdout",
          "text": [
            "Paya Lebar serves customers: ['Downtown', 'Clementi']\n",
            "Woodlands: do not build\n",
            "Pasir Ris serves customers: ['Bukit Batok', 'Changi']\n"
          ]
        }
      ],
      "source": [
        "for wl in N:\n",
        "    if pe.value(model.y[str(wl)]) > 0.5:\n",
        "        customers = [str(cl) for cl in M if pe.value(model.x[wl, cl] > 0.5)]\n",
        "        print(str(wl)+' serves customers: '+str(customers))\n",
        "    else:\n",
        "        print(str(wl)+\": do not build\")"
      ]
    },
    {
      "cell_type": "markdown",
      "metadata": {
        "id": "FKSwqrpn7qsL"
      },
      "source": [
        "# Abstract Model\n",
        "\n",
        "Now, let us solve this same problem using ```AbstractModel``` class in pyomo. Similar to before, we can define name for the model. Abstract models require declarations for sets and parameters that are used in the\n",
        "model."
      ]
    },
    {
      "cell_type": "code",
      "execution_count": 17,
      "metadata": {
        "id": "-w5WDUCG7qsL"
      },
      "outputs": [],
      "source": [
        "model = pe.AbstractModel(name=\"(WL)\")"
      ]
    },
    {
      "cell_type": "markdown",
      "metadata": {
        "id": "eAwZTiPE7qsL"
      },
      "source": [
        "## Defining Pyomo Components: Set and Param\n",
        "\n",
        "## Defining Set\n",
        "\n",
        "A Pyomo ```Set``` component is used to declare valid indices for any component that is indexed. For example, in the context of our warehouse location problem, we have two sets: N stores the valid warehouse locations and M stores the customer locations. These ```Set``` objects can then be used to define indexed variables or constraints."
      ]
    },
    {
      "cell_type": "code",
      "execution_count": 18,
      "metadata": {
        "id": "ilz_jhTF7qsL"
      },
      "outputs": [],
      "source": [
        "model.N = pe.Set()\n",
        "model.M = pe.Set()"
      ]
    },
    {
      "cell_type": "markdown",
      "metadata": {
        "id": "HePIQP4W7qsL"
      },
      "source": [
        "We pass ```Set``` objects into the ```Var``` constructor, rather than the Python lists used for the concrete model in the previously. A ```Set``` component can be initialized with the ```initialize``` keyword argument, using a Python set, list, or tuple. The ```Set``` component can also be initialized with external data sources. Pyomo Set objects can also be indexed by other sets. You can read other details in the [documentation](https://pyomo.readthedocs.io/en/stable/pyomo_modeling_components/Sets.html)."
      ]
    },
    {
      "cell_type": "code",
      "execution_count": 19,
      "metadata": {
        "id": "rmN9curx7qsM"
      },
      "outputs": [],
      "source": [
        "model.x = pe.Var(model.N, model.M, bounds=(0,1))\n",
        "model.y = pe.Var(model.N, within=pe.Binary)"
      ]
    },
    {
      "cell_type": "markdown",
      "metadata": {
        "id": "670Z9fin7qsM"
      },
      "source": [
        "## Defining Param\n",
        "\n",
        "A Pyomo ```Param``` component is used to define data values for our problem. In the context of the warehouse location problem, two pieces of data need to be specified: $P$ and $d_{n,m}$. These parameters can be scalar or indexed.\n",
        "\n",
        "\n",
        "By default, parameters are immutable, meaning that once their values are set, the values cannot be changed. This default behavior allows for increased efficiency within Pyomo when handling expressions. However, you can define a parameter whose values are mutable with the ```mutable=true``` keyword argument. This can be useful if you have a model that you want to solve multiple times with different values of some of the parameters.\n"
      ]
    },
    {
      "cell_type": "code",
      "execution_count": 20,
      "metadata": {
        "id": "qig-HXVh7qsM"
      },
      "outputs": [],
      "source": [
        "model.d = pe.Param(model.N,model.M) # can be indexed\n",
        "model.P = pe.Param() # scalar"
      ]
    },
    {
      "cell_type": "markdown",
      "metadata": {
        "id": "a9tiehn57qsM"
      },
      "source": [
        "## Defining Objective and Constraints\n",
        "\n",
        "The coding for the objective and constraints would remain same for our case, as we had used ```rule``` for defining both in case of ```ConcreteModel``` too. However, as this is an abstract model, the objective rule ```obj_rule``` would not be called just yet. On defining those, Pyomo will know what rule to call to construct the objective component, but it has not called the constructor because this is an abstract model. Constraint rules and constraint components are also declared in a similar manner.\n"
      ]
    },
    {
      "cell_type": "code",
      "execution_count": 21,
      "metadata": {
        "id": "wZjYLb2f7qsM"
      },
      "outputs": [],
      "source": [
        "def obj_rule(model):\n",
        "    return sum(d[n,m]*model.x[n,m] for n in N for m in M)\n",
        "model.obj = pe.Objective(rule=obj_rule)\n",
        "\n",
        "def one_per_cust_rule(model, m):\n",
        "    return sum(model.x[n,m] for n in N) == 1\n",
        "model.one_per_cust = pe.Constraint(M, rule=one_per_cust_rule)\n",
        "\n",
        "def warehouse_active_rule(model, n, m):\n",
        "    return model.x[n,m] <= model.y[n]\n",
        "model.warehouse_active = pe.Constraint(N, M, rule=warehouse_active_rule)\n",
        "\n",
        "def num_warehouses_rule(model):\n",
        "    return sum(model.y[n] for n in N) <= P\n",
        "model.num_warehouses = pe.Constraint(rule=num_warehouses_rule)"
      ]
    },
    {
      "cell_type": "markdown",
      "metadata": {
        "id": "3svrphNF7qsN"
      },
      "source": [
        "## Managing Data in Abstract Models\n",
        "\n",
        "Uptill now, our implementation has declared the model, but it does *do* anything. This is because it does not define the model data or solver instance. The action of applying a data file to this abstract model can be scripted explicitly in Python code, or it can be done using the ```pyomo``` command.\n",
        "\n",
        "Let us first define the model data using standard Python object: ```dict```. There are other methods of loading data too, and you can read about those in the [documentation for data loading](https://pyomo.readthedocs.io/en/stable/working_abstractmodels/data/index.html)."
      ]
    },
    {
      "cell_type": "markdown",
      "metadata": {
        "id": "z0BiV8UJ7qsN"
      },
      "source": [
        "Data can be passed to the model ```create_instance()``` method through a series of nested native Python dictionaries. The structure begins with a dictionary of namespaces, with the only required entry being the ```None``` namespace. Each namespace contains a dictionary that maps component names to dictionaries of component values. For scalar components, the required data dictionary maps the implicit index ```None``` to the desired value"
      ]
    },
    {
      "cell_type": "code",
      "execution_count": 22,
      "metadata": {
        "id": "lC3uLDnM7qsN"
      },
      "outputs": [],
      "source": [
        "data = {None: \n",
        "    {'N': {None: list(df.index.map(str))},\n",
        "    'M': {None: list(df.columns.map(str))},\n",
        "    'd': {(r, c):df.at[r,c] for r in N for c in M},\n",
        "    'P': {None: 2}}\n",
        "}"
      ]
    },
    {
      "cell_type": "code",
      "execution_count": 23,
      "metadata": {
        "colab": {
          "base_uri": "https://localhost:8080/"
        },
        "id": "MmgMOOFN7qsN",
        "outputId": "563f6779-0bde-4c4a-a473-3f0f590bac60"
      },
      "outputs": [
        {
          "output_type": "stream",
          "name": "stdout",
          "text": [
            "8 Set Declarations\n",
            "    M : Size=0, Index=None, Ordered=Insertion\n",
            "        Not constructed\n",
            "    N : Size=0, Index=None, Ordered=Insertion\n",
            "        Not constructed\n",
            "    d_index : Size=0, Index=None, Ordered=True\n",
            "        Not constructed\n",
            "    one_per_cust_index : Size=1, Index=None, Ordered=Insertion\n",
            "        Key  : Dimen : Domain : Size : Members\n",
            "        None :     1 :    Any :    4 : {'Bukit Batok', 'Downtown', 'Changi', 'Clementi'}\n",
            "    warehouse_active_index : Size=1, Index=None, Ordered=True\n",
            "        Key  : Dimen : Domain                                            : Size : Members\n",
            "        None :     2 : warehouse_active_index_0*warehouse_active_index_1 :   12 : {('Paya Lebar', 'Bukit Batok'), ('Paya Lebar', 'Downtown'), ('Paya Lebar', 'Changi'), ('Paya Lebar', 'Clementi'), ('Woodlands', 'Bukit Batok'), ('Woodlands', 'Downtown'), ('Woodlands', 'Changi'), ('Woodlands', 'Clementi'), ('Pasir Ris', 'Bukit Batok'), ('Pasir Ris', 'Downtown'), ('Pasir Ris', 'Changi'), ('Pasir Ris', 'Clementi')}\n",
            "    warehouse_active_index_0 : Size=1, Index=None, Ordered=Insertion\n",
            "        Key  : Dimen : Domain : Size : Members\n",
            "        None :     1 :    Any :    3 : {'Paya Lebar', 'Woodlands', 'Pasir Ris'}\n",
            "    warehouse_active_index_1 : Size=1, Index=None, Ordered=Insertion\n",
            "        Key  : Dimen : Domain : Size : Members\n",
            "        None :     1 :    Any :    4 : {'Bukit Batok', 'Downtown', 'Changi', 'Clementi'}\n",
            "    x_index : Size=0, Index=None, Ordered=True\n",
            "        Not constructed\n",
            "\n",
            "2 Param Declarations\n",
            "    P : Size=0, Index=None, Domain=Any, Default=None, Mutable=False\n",
            "        Not constructed\n",
            "    d : Size=0, Index=d_index, Domain=Any, Default=None, Mutable=False\n",
            "        Not constructed\n",
            "\n",
            "2 Var Declarations\n",
            "    x : Size=0, Index=x_index\n",
            "        Not constructed\n",
            "    y : Size=0, Index=N\n",
            "        Not constructed\n",
            "\n",
            "1 Objective Declarations\n",
            "    obj : Size=0, Index=None, Active=True\n",
            "        Not constructed\n",
            "\n",
            "3 Constraint Declarations\n",
            "    num_warehouses : Size=0, Index=None, Active=True\n",
            "        Not constructed\n",
            "    one_per_cust : Size=0, Index=one_per_cust_index, Active=True\n",
            "        Not constructed\n",
            "    warehouse_active : Size=0, Index=warehouse_active_index, Active=True\n",
            "        Not constructed\n",
            "\n",
            "16 Declarations: N M x_index x y d_index d P obj one_per_cust_index one_per_cust warehouse_active_index_0 warehouse_active_index_1 warehouse_active_index warehouse_active num_warehouses\n"
          ]
        }
      ],
      "source": [
        "model.pprint()"
      ]
    },
    {
      "cell_type": "code",
      "execution_count": 24,
      "metadata": {
        "id": "W-tCvwpI7qsN"
      },
      "outputs": [],
      "source": [
        "instance = model.create_instance(data=data)"
      ]
    },
    {
      "cell_type": "markdown",
      "metadata": {
        "id": "37SWKSkW7qsN"
      },
      "source": [
        "We can see the parameters and the values assigned to them."
      ]
    },
    {
      "cell_type": "code",
      "execution_count": 25,
      "metadata": {
        "scrolled": true,
        "colab": {
          "base_uri": "https://localhost:8080/"
        },
        "id": "aigQi2Ih7qsN",
        "outputId": "cf9f053d-6d57-4c22-f31a-b283fc488efe"
      },
      "outputs": [
        {
          "output_type": "stream",
          "name": "stdout",
          "text": [
            "Parameter  d\n",
            "WARNING: DEPRECATED: The iteritems method is deprecated. Use dict.items().\n",
            "    (deprecated in 6.0) (called from /usr/local/lib/python3.7/dist-\n",
            "    packages/IPython/core/interactiveshell.py:2882)\n",
            "    ('Paya Lebar', 'Bukit Batok') 1956\n",
            "    ('Paya Lebar', 'Downtown') 1606\n",
            "    ('Paya Lebar', 'Changi') 1410\n",
            "    ('Paya Lebar', 'Clementi') 330\n",
            "    ('Woodlands', 'Bukit Batok') 1096\n",
            "    ('Woodlands', 'Downtown') 1792\n",
            "    ('Woodlands', 'Changi') 531\n",
            "    ('Woodlands', 'Clementi') 567\n",
            "    ('Pasir Ris', 'Bukit Batok') 485\n",
            "    ('Pasir Ris', 'Downtown') 2322\n",
            "    ('Pasir Ris', 'Changi') 324\n",
            "    ('Pasir Ris', 'Clementi') 1236\n",
            "Parameter  P\n",
            "    None 2\n"
          ]
        }
      ],
      "source": [
        "for parmobject in instance.component_objects(pe.Param, active=True):\n",
        "    print (\"Parameter \", parmobject.name)\n",
        "    for index, value in parmobject.iteritems(): # like a dictioanry\n",
        "        print (\"   \",index, pe.value(value))"
      ]
    },
    {
      "cell_type": "markdown",
      "metadata": {
        "id": "dtxntfan7qsO"
      },
      "source": [
        "## Solving the Pyomo Model\n",
        "\n",
        "Just as in the case of the ```ConcreteModel```, we use ```SolverFactory``` and GLPK to solve our problem. We expect both our outputs to be the same."
      ]
    },
    {
      "cell_type": "code",
      "execution_count": 26,
      "metadata": {
        "scrolled": false,
        "colab": {
          "base_uri": "https://localhost:8080/"
        },
        "id": "BkzOQhkF7qsO",
        "outputId": "1cf0a2e9-7471-42c0-c7f9-ef3bb3b06fac"
      },
      "outputs": [
        {
          "output_type": "stream",
          "name": "stdout",
          "text": [
            "Model '(WL)'\n",
            "\n",
            "  Variables:\n",
            "    x : Size=12, Index=x_index\n",
            "        Key                           : Lower : Value : Upper : Fixed : Stale : Domain\n",
            "         ('Pasir Ris', 'Bukit Batok') :     0 :   1.0 :     1 : False : False :  Reals\n",
            "              ('Pasir Ris', 'Changi') :     0 :   1.0 :     1 : False : False :  Reals\n",
            "            ('Pasir Ris', 'Clementi') :     0 :   0.0 :     1 : False : False :  Reals\n",
            "            ('Pasir Ris', 'Downtown') :     0 :   0.0 :     1 : False : False :  Reals\n",
            "        ('Paya Lebar', 'Bukit Batok') :     0 :   0.0 :     1 : False : False :  Reals\n",
            "             ('Paya Lebar', 'Changi') :     0 :   0.0 :     1 : False : False :  Reals\n",
            "           ('Paya Lebar', 'Clementi') :     0 :   1.0 :     1 : False : False :  Reals\n",
            "           ('Paya Lebar', 'Downtown') :     0 :   1.0 :     1 : False : False :  Reals\n",
            "         ('Woodlands', 'Bukit Batok') :     0 :   0.0 :     1 : False : False :  Reals\n",
            "              ('Woodlands', 'Changi') :     0 :   0.0 :     1 : False : False :  Reals\n",
            "            ('Woodlands', 'Clementi') :     0 :   0.0 :     1 : False : False :  Reals\n",
            "            ('Woodlands', 'Downtown') :     0 :   0.0 :     1 : False : False :  Reals\n",
            "    y : Size=3, Index=N\n",
            "        Key        : Lower : Value : Upper : Fixed : Stale : Domain\n",
            "         Pasir Ris :     0 :   1.0 :     1 : False : False : Binary\n",
            "        Paya Lebar :     0 :   1.0 :     1 : False : False : Binary\n",
            "         Woodlands :     0 :   0.0 :     1 : False : False : Binary\n",
            "\n",
            "  Objectives:\n",
            "    obj : Size=1, Index=None, Active=True\n",
            "        Key  : Active : Value\n",
            "        None :   True : 2745.0\n",
            "\n",
            "  Constraints:\n",
            "    one_per_cust : Size=4\n",
            "        Key         : Lower : Body : Upper\n",
            "        Bukit Batok :   1.0 :  1.0 :   1.0\n",
            "             Changi :   1.0 :  1.0 :   1.0\n",
            "           Clementi :   1.0 :  1.0 :   1.0\n",
            "           Downtown :   1.0 :  1.0 :   1.0\n",
            "    warehouse_active : Size=12\n",
            "        Key                           : Lower : Body : Upper\n",
            "         ('Pasir Ris', 'Bukit Batok') :  None :  0.0 :   0.0\n",
            "              ('Pasir Ris', 'Changi') :  None :  0.0 :   0.0\n",
            "            ('Pasir Ris', 'Clementi') :  None : -1.0 :   0.0\n",
            "            ('Pasir Ris', 'Downtown') :  None : -1.0 :   0.0\n",
            "        ('Paya Lebar', 'Bukit Batok') :  None : -1.0 :   0.0\n",
            "             ('Paya Lebar', 'Changi') :  None : -1.0 :   0.0\n",
            "           ('Paya Lebar', 'Clementi') :  None :  0.0 :   0.0\n",
            "           ('Paya Lebar', 'Downtown') :  None :  0.0 :   0.0\n",
            "         ('Woodlands', 'Bukit Batok') :  None :  0.0 :   0.0\n",
            "              ('Woodlands', 'Changi') :  None :  0.0 :   0.0\n",
            "            ('Woodlands', 'Clementi') :  None :  0.0 :   0.0\n",
            "            ('Woodlands', 'Downtown') :  None :  0.0 :   0.0\n",
            "    num_warehouses : Size=1\n",
            "        Key  : Lower : Body : Upper\n",
            "        None :  None :  2.0 :   2.0\n"
          ]
        }
      ],
      "source": [
        "solver = pe.SolverFactory('glpk', executable='/usr/bin/glpsol')\n",
        "solver.solve(instance)\n",
        "instance.display()"
      ]
    },
    {
      "cell_type": "code",
      "execution_count": 27,
      "metadata": {
        "colab": {
          "base_uri": "https://localhost:8080/"
        },
        "id": "wDjUzigV7qsO",
        "outputId": "e0e63358-b9ee-4339-daf1-4074223bd6d5"
      },
      "outputs": [
        {
          "output_type": "stream",
          "name": "stdout",
          "text": [
            "8 Set Declarations\n",
            "    M : Size=1, Index=None, Ordered=Insertion\n",
            "        Key  : Dimen : Domain : Size : Members\n",
            "        None :     1 :    Any :    4 : {'Bukit Batok', 'Downtown', 'Changi', 'Clementi'}\n",
            "    N : Size=1, Index=None, Ordered=Insertion\n",
            "        Key  : Dimen : Domain : Size : Members\n",
            "        None :     1 :    Any :    3 : {'Paya Lebar', 'Woodlands', 'Pasir Ris'}\n",
            "    d_index : Size=1, Index=None, Ordered=True\n",
            "        Key  : Dimen : Domain : Size : Members\n",
            "        None :     2 :    N*M :   12 : {('Paya Lebar', 'Bukit Batok'), ('Paya Lebar', 'Downtown'), ('Paya Lebar', 'Changi'), ('Paya Lebar', 'Clementi'), ('Woodlands', 'Bukit Batok'), ('Woodlands', 'Downtown'), ('Woodlands', 'Changi'), ('Woodlands', 'Clementi'), ('Pasir Ris', 'Bukit Batok'), ('Pasir Ris', 'Downtown'), ('Pasir Ris', 'Changi'), ('Pasir Ris', 'Clementi')}\n",
            "    one_per_cust_index : Size=1, Index=None, Ordered=Insertion\n",
            "        Key  : Dimen : Domain : Size : Members\n",
            "        None :     1 :    Any :    4 : {'Bukit Batok', 'Downtown', 'Changi', 'Clementi'}\n",
            "    warehouse_active_index : Size=1, Index=None, Ordered=True\n",
            "        Key  : Dimen : Domain                                            : Size : Members\n",
            "        None :     2 : warehouse_active_index_0*warehouse_active_index_1 :   12 : {('Paya Lebar', 'Bukit Batok'), ('Paya Lebar', 'Downtown'), ('Paya Lebar', 'Changi'), ('Paya Lebar', 'Clementi'), ('Woodlands', 'Bukit Batok'), ('Woodlands', 'Downtown'), ('Woodlands', 'Changi'), ('Woodlands', 'Clementi'), ('Pasir Ris', 'Bukit Batok'), ('Pasir Ris', 'Downtown'), ('Pasir Ris', 'Changi'), ('Pasir Ris', 'Clementi')}\n",
            "    warehouse_active_index_0 : Size=1, Index=None, Ordered=Insertion\n",
            "        Key  : Dimen : Domain : Size : Members\n",
            "        None :     1 :    Any :    3 : {'Paya Lebar', 'Woodlands', 'Pasir Ris'}\n",
            "    warehouse_active_index_1 : Size=1, Index=None, Ordered=Insertion\n",
            "        Key  : Dimen : Domain : Size : Members\n",
            "        None :     1 :    Any :    4 : {'Bukit Batok', 'Downtown', 'Changi', 'Clementi'}\n",
            "    x_index : Size=1, Index=None, Ordered=True\n",
            "        Key  : Dimen : Domain : Size : Members\n",
            "        None :     2 :    N*M :   12 : {('Paya Lebar', 'Bukit Batok'), ('Paya Lebar', 'Downtown'), ('Paya Lebar', 'Changi'), ('Paya Lebar', 'Clementi'), ('Woodlands', 'Bukit Batok'), ('Woodlands', 'Downtown'), ('Woodlands', 'Changi'), ('Woodlands', 'Clementi'), ('Pasir Ris', 'Bukit Batok'), ('Pasir Ris', 'Downtown'), ('Pasir Ris', 'Changi'), ('Pasir Ris', 'Clementi')}\n",
            "\n",
            "2 Param Declarations\n",
            "    P : Size=1, Index=None, Domain=Any, Default=None, Mutable=False\n",
            "        Key  : Value\n",
            "        None :     2\n",
            "    d : Size=12, Index=d_index, Domain=Any, Default=None, Mutable=False\n",
            "        Key                           : Value\n",
            "         ('Pasir Ris', 'Bukit Batok') :   485\n",
            "              ('Pasir Ris', 'Changi') :   324\n",
            "            ('Pasir Ris', 'Clementi') :  1236\n",
            "            ('Pasir Ris', 'Downtown') :  2322\n",
            "        ('Paya Lebar', 'Bukit Batok') :  1956\n",
            "             ('Paya Lebar', 'Changi') :  1410\n",
            "           ('Paya Lebar', 'Clementi') :   330\n",
            "           ('Paya Lebar', 'Downtown') :  1606\n",
            "         ('Woodlands', 'Bukit Batok') :  1096\n",
            "              ('Woodlands', 'Changi') :   531\n",
            "            ('Woodlands', 'Clementi') :   567\n",
            "            ('Woodlands', 'Downtown') :  1792\n",
            "\n",
            "2 Var Declarations\n",
            "    x : Size=12, Index=x_index\n",
            "        Key                           : Lower : Value : Upper : Fixed : Stale : Domain\n",
            "         ('Pasir Ris', 'Bukit Batok') :     0 :   1.0 :     1 : False : False :  Reals\n",
            "              ('Pasir Ris', 'Changi') :     0 :   1.0 :     1 : False : False :  Reals\n",
            "            ('Pasir Ris', 'Clementi') :     0 :   0.0 :     1 : False : False :  Reals\n",
            "            ('Pasir Ris', 'Downtown') :     0 :   0.0 :     1 : False : False :  Reals\n",
            "        ('Paya Lebar', 'Bukit Batok') :     0 :   0.0 :     1 : False : False :  Reals\n",
            "             ('Paya Lebar', 'Changi') :     0 :   0.0 :     1 : False : False :  Reals\n",
            "           ('Paya Lebar', 'Clementi') :     0 :   1.0 :     1 : False : False :  Reals\n",
            "           ('Paya Lebar', 'Downtown') :     0 :   1.0 :     1 : False : False :  Reals\n",
            "         ('Woodlands', 'Bukit Batok') :     0 :   0.0 :     1 : False : False :  Reals\n",
            "              ('Woodlands', 'Changi') :     0 :   0.0 :     1 : False : False :  Reals\n",
            "            ('Woodlands', 'Clementi') :     0 :   0.0 :     1 : False : False :  Reals\n",
            "            ('Woodlands', 'Downtown') :     0 :   0.0 :     1 : False : False :  Reals\n",
            "    y : Size=3, Index=N\n",
            "        Key        : Lower : Value : Upper : Fixed : Stale : Domain\n",
            "         Pasir Ris :     0 :   1.0 :     1 : False : False : Binary\n",
            "        Paya Lebar :     0 :   1.0 :     1 : False : False : Binary\n",
            "         Woodlands :     0 :   0.0 :     1 : False : False : Binary\n",
            "\n",
            "1 Objective Declarations\n",
            "    obj : Size=1, Index=None, Active=True\n",
            "        Key  : Active : Sense    : Expression\n",
            "        None :   True : minimize : 1956*x[Paya Lebar,Bukit Batok] + 1606*x[Paya Lebar,Downtown] + 1410*x[Paya Lebar,Changi] + 330*x[Paya Lebar,Clementi] + 1096*x[Woodlands,Bukit Batok] + 1792*x[Woodlands,Downtown] + 531*x[Woodlands,Changi] + 567*x[Woodlands,Clementi] + 485*x[Pasir Ris,Bukit Batok] + 2322*x[Pasir Ris,Downtown] + 324*x[Pasir Ris,Changi] + 1236*x[Pasir Ris,Clementi]\n",
            "\n",
            "3 Constraint Declarations\n",
            "    num_warehouses : Size=1, Index=None, Active=True\n",
            "        Key  : Lower : Body                                        : Upper : Active\n",
            "        None :  -Inf : y[Paya Lebar] + y[Woodlands] + y[Pasir Ris] :   2.0 :   True\n",
            "    one_per_cust : Size=4, Index=one_per_cust_index, Active=True\n",
            "        Key         : Lower : Body                                                                            : Upper : Active\n",
            "        Bukit Batok :   1.0 : x[Paya Lebar,Bukit Batok] + x[Woodlands,Bukit Batok] + x[Pasir Ris,Bukit Batok] :   1.0 :   True\n",
            "             Changi :   1.0 :                x[Paya Lebar,Changi] + x[Woodlands,Changi] + x[Pasir Ris,Changi] :   1.0 :   True\n",
            "           Clementi :   1.0 :          x[Paya Lebar,Clementi] + x[Woodlands,Clementi] + x[Pasir Ris,Clementi] :   1.0 :   True\n",
            "           Downtown :   1.0 :          x[Paya Lebar,Downtown] + x[Woodlands,Downtown] + x[Pasir Ris,Downtown] :   1.0 :   True\n",
            "    warehouse_active : Size=12, Index=warehouse_active_index, Active=True\n",
            "        Key                           : Lower : Body                                      : Upper : Active\n",
            "         ('Pasir Ris', 'Bukit Batok') :  -Inf :   x[Pasir Ris,Bukit Batok] - y[Pasir Ris] :   0.0 :   True\n",
            "              ('Pasir Ris', 'Changi') :  -Inf :        x[Pasir Ris,Changi] - y[Pasir Ris] :   0.0 :   True\n",
            "            ('Pasir Ris', 'Clementi') :  -Inf :      x[Pasir Ris,Clementi] - y[Pasir Ris] :   0.0 :   True\n",
            "            ('Pasir Ris', 'Downtown') :  -Inf :      x[Pasir Ris,Downtown] - y[Pasir Ris] :   0.0 :   True\n",
            "        ('Paya Lebar', 'Bukit Batok') :  -Inf : x[Paya Lebar,Bukit Batok] - y[Paya Lebar] :   0.0 :   True\n",
            "             ('Paya Lebar', 'Changi') :  -Inf :      x[Paya Lebar,Changi] - y[Paya Lebar] :   0.0 :   True\n",
            "           ('Paya Lebar', 'Clementi') :  -Inf :    x[Paya Lebar,Clementi] - y[Paya Lebar] :   0.0 :   True\n",
            "           ('Paya Lebar', 'Downtown') :  -Inf :    x[Paya Lebar,Downtown] - y[Paya Lebar] :   0.0 :   True\n",
            "         ('Woodlands', 'Bukit Batok') :  -Inf :   x[Woodlands,Bukit Batok] - y[Woodlands] :   0.0 :   True\n",
            "              ('Woodlands', 'Changi') :  -Inf :        x[Woodlands,Changi] - y[Woodlands] :   0.0 :   True\n",
            "            ('Woodlands', 'Clementi') :  -Inf :      x[Woodlands,Clementi] - y[Woodlands] :   0.0 :   True\n",
            "            ('Woodlands', 'Downtown') :  -Inf :      x[Woodlands,Downtown] - y[Woodlands] :   0.0 :   True\n",
            "\n",
            "16 Declarations: N M x_index x y d_index d P obj one_per_cust_index one_per_cust warehouse_active_index_0 warehouse_active_index_1 warehouse_active_index warehouse_active num_warehouses\n"
          ]
        }
      ],
      "source": [
        "instance.pprint()"
      ]
    },
    {
      "cell_type": "code",
      "execution_count": 28,
      "metadata": {
        "scrolled": true,
        "colab": {
          "base_uri": "https://localhost:8080/"
        },
        "id": "v0798S6C7qsO",
        "outputId": "7f4c6891-7531-461a-8f42-f949ed323e6a"
      },
      "outputs": [
        {
          "output_type": "stream",
          "name": "stdout",
          "text": [
            "Paya Lebar serves customers: ['Downtown', 'Clementi']\n",
            "Woodlands: do not build\n",
            "Pasir Ris serves customers: ['Bukit Batok', 'Changi']\n"
          ]
        }
      ],
      "source": [
        "for wl in N:\n",
        "    if pe.value(instance.y[str(wl)]) > 0.5:\n",
        "        customers = [str(cl) for cl in M if pe.value(instance.x[wl, cl] > 0.5)]\n",
        "        print(str(wl)+' serves customers: '+str(customers))\n",
        "    else:\n",
        "        print(str(wl)+\": do not build\")"
      ]
    },
    {
      "cell_type": "markdown",
      "metadata": {
        "id": "aUCpC8iY7qsP"
      },
      "source": [
        "The ```display``` function displays values in the block, while the ```pprint``` is used for printing component information. So, the ```display``` function will not work until the component has been constructed and so, ```pprint``` is useful for debugging."
      ]
    },
    {
      "cell_type": "code",
      "source": [
        ""
      ],
      "metadata": {
        "id": "XD3XVC7-NIQd"
      },
      "execution_count": null,
      "outputs": []
    },
    {
      "cell_type": "code",
      "source": [
        "ValueError Failed to set executable for solver glpk.\n"
      ],
      "metadata": {
        "id": "GqM3e0VwNIUV"
      },
      "execution_count": null,
      "outputs": []
    }
  ],
  "metadata": {
    "kernelspec": {
      "display_name": "Python 3",
      "language": "python",
      "name": "python3"
    },
    "language_info": {
      "codemirror_mode": {
        "name": "ipython",
        "version": 3
      },
      "file_extension": ".py",
      "mimetype": "text/x-python",
      "name": "python",
      "nbconvert_exporter": "python",
      "pygments_lexer": "ipython3",
      "version": "3.9.1"
    },
    "colab": {
      "name": "Tutorial 10 Linear Programming & Pyomo.ipynb",
      "provenance": [],
      "collapsed_sections": []
    }
  },
  "nbformat": 4,
  "nbformat_minor": 0
}