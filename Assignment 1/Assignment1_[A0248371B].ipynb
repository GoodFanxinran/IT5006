{
 "cells": [
  {
   "cell_type": "markdown",
   "metadata": {
    "id": "0i6c6ZczDcOZ"
   },
   "source": [
    "# Assignment 1: Bloated real-estate market!"
   ]
  },
  {
   "cell_type": "markdown",
   "metadata": {
    "id": "h1bW464F05WX"
   },
   "source": [
    "## Instructions to submit the assignment\n",
    "\n",
    "- Rename your jupyter notebook as `Assignment1_[StudentID].ipynb`.\n",
    "- Your solution notebook must contain the python code that we can run to verify the answers.\n",
    "- Upload your jupyter notebook on LumiNUS in the *Assignment 1 Submissions* folder. **The folder will close at 23:59 on 18/02/2021**. \n",
    "- Late submissions will receive a penalty on the grade as follows:\n",
    "  - late within 1 hour: 10% reduction in grade\n",
    "  - late within 6 hours: 30% reduction in grade\n",
    "  - late within 12 hours: 50% reduction in grade\n",
    "  - late within 1 day: 70% reduction in grade\n",
    "  - after 1 day: zero mark\n",
    "\n",
    "**This is an INDIVIDUAL ASSESSMENT. You must refrain from working in groups!**"
   ]
  },
  {
   "cell_type": "markdown",
   "metadata": {
    "id": "Xs-zZCsKDcOg"
   },
   "source": [
    "## Question 1: Loading the data"
   ]
  },
  {
   "cell_type": "markdown",
   "metadata": {
    "id": "vnVBhWPuDcOf"
   },
   "source": [
    "With more than 1 million flats spread across 24 towns and 3 estates, the Singapore brand of public housing is uniquely different. The flats spell home for over 80% of Singapore's resident population, of which, about 90% own their home. \n",
    "\n",
    "Data.gov is a repository of many datasets that are made available by different public service bodies in Singapore. In this assignment we will work on [HDB Resale Price](https://data.gov.sg/dataset/resale-flat-prices) available through the same datastore. It houses the resale price data from January 1990 to December 2020 on a monthly basis. We will be working on the resale records from 2000 to 2020.\n",
    "\n",
    "Let's start exploring this dataset."
   ]
  },
  {
   "cell_type": "markdown",
   "metadata": {
    "id": "fhFn-Ek2DcOh"
   },
   "source": [
    "We have downloaded the dataset for you. It is available in *Assignment_1* under files in the LumiNUS. Uncompress the file in your working directory. You will see that it comprises of multiple CSV files. Please perform following tasks:\n",
    "\n",
    "- Create a single dataframe in `pandas` by reading and appending all CSV files that have names `resale*`. \n",
    "- Print the total number of HDB resales records.\n",
    "\n",
    "<div align=\"right\"> (1 point) </div>"
   ]
  },
  {
   "cell_type": "code",
   "execution_count": null,
   "metadata": {
    "id": "SicA00xJDcOg"
   },
   "outputs": [],
   "source": [
    "import pandas as pd\n",
    "import numpy as np\n",
    "import scipy.stats as st\n",
    "import matplotlib.pyplot as plt\n",
    "import seaborn as sns\n",
    "\n",
    "%matplotlib inline"
   ]
  },
  {
   "cell_type": "code",
   "execution_count": null,
   "metadata": {
    "id": "mVdmTMjnDcOh"
   },
   "outputs": [],
   "source": []
  },
  {
   "cell_type": "markdown",
   "metadata": {
    "id": "3bCsvJ95DcOh"
   },
   "source": [
    "## Question 2: Data Imputation"
   ]
  },
  {
   "cell_type": "markdown",
   "metadata": {
    "id": "3NDCQgMNDcOi"
   },
   "source": [
    "Print the count of missing values in every column of the dataframe.\n",
    "<div align=\"right\"> (1 point) </div>"
   ]
  },
  {
   "cell_type": "code",
   "execution_count": null,
   "metadata": {
    "id": "AM4IwC9UDcOi"
   },
   "outputs": [],
   "source": []
  },
  {
   "cell_type": "markdown",
   "metadata": {
    "id": "9zxM15K5DcOi"
   },
   "source": [
    "We observe that the `remaining_lease` feature has multiple missing values. Impute the missing values and ensure that the dataframe does not contain any missing value.\n",
    "\n",
    "*Hint: What is the lease period of every HDB flat in Singapore? [ Find out here.](https://www.gov.sg/article/do-i-really-own-my-hdb-flat)*\n",
    "<div align=\"right\"> (1 point) </div>"
   ]
  },
  {
   "cell_type": "code",
   "execution_count": null,
   "metadata": {
    "id": "PaIBf5j8DcOi"
   },
   "outputs": [],
   "source": []
  },
  {
   "cell_type": "markdown",
   "metadata": {
    "id": "Ff1u07VyDcOj"
   },
   "source": [
    "## Question 3: Data Visualisation"
   ]
  },
  {
   "cell_type": "markdown",
   "metadata": {
    "id": "Hmz_lv9kDcOk"
   },
   "source": [
    "Create four different data panels from the original dataframe.\n",
    "- First panel contains the records from January 2001 to December 2005\n",
    "- Second panel contains the records from January 2006 to December 2010\n",
    "- Third panel contains the records from January 2011 to December 2015\n",
    "- Fourth panel contains the records from January 2016 to December 2020\n",
    "\n",
    "In order to do so, create a column `panel` that contains the panel number for every datapoint\n",
    "<div align=\"right\"> (1 point) </div>"
   ]
  },
  {
   "cell_type": "code",
   "execution_count": null,
   "metadata": {
    "id": "z6VKdN9pDcOk"
   },
   "outputs": [],
   "source": []
  },
  {
   "cell_type": "markdown",
   "metadata": {
    "id": "XOf-iAWTDcOk"
   },
   "source": [
    "For every panel, show a lineplot of resale prices versus the time, colour-coded by `flat_model`. Only include *improved, new generation, simplified, premium apartment, mansionette* types in the lineplot.  Please ensure following things: \n",
    "- Four plots must be in one row with the leftmost plot displaying the first panel and the rightmost displaying the fourth panel.\n",
    "- All plots must share the same range of resale prices on their `y` axes.\n",
    "- Colour coding for the `flat_model` must be consistent across the panels.\n",
    "- The entire plot should have the title: \"Resale Prices of Different Flat Types through Time\"\n",
    "\n",
    "<div align=\"right\"> (4 points) </div>"
   ]
  },
  {
   "cell_type": "code",
   "execution_count": null,
   "metadata": {
    "id": "i14vKwRmDcOk"
   },
   "outputs": [],
   "source": []
  },
  {
   "cell_type": "markdown",
   "metadata": {
    "id": "a-LHCp1KDcOk"
   },
   "source": [
    "We have compiled a file of geolocations of different towns in Singapore using publicly available [MRT stations dataset](https://www.kaggle.com/yxlee245/singapore-train-station-coordinates?select=mrt_lrt_data.csv). \n",
    "\n",
    "Create a heatmap of *the number of units sold* in different towns in 2021 using the latituide-longitude information from `locations.csv` file.\n",
    "\n",
    "<div align=\"right\"> (2 points) </div>"
   ]
  },
  {
   "cell_type": "code",
   "execution_count": null,
   "metadata": {
    "id": "cud3XpYHDcOl"
   },
   "outputs": [],
   "source": []
  },
  {
   "cell_type": "markdown",
   "metadata": {
    "id": "bR3YjkAKDcOj"
   },
   "source": [
    "## Question 4: Growing Resale Prices!"
   ]
  },
  {
   "cell_type": "markdown",
   "metadata": {
    "id": "vrxdXsSwDcOj"
   },
   "source": [
    "In 2019, the rental cost of a 3BR HDB in Clementi used to be around 2500 dollars, and now it has reached as high as 4100. dollars. Some analysis shows that it is caused due to COVID. Well, we are not sure about that yet!\n",
    "\n",
    "Is it true about the resale prices as well? Is there some correlation? Let's analyse the growth of various areas in Singapore.\n",
    "\n",
    "- Create a new feature `price_per_sqm` that lists the price per square meter of the resale record.\n",
    "- Compute the *average* `price_per_sqm` of houses in various areas in 2015 and 2019.\n",
    "- We define *growth* as the normalised difference between the average housing `price_per_sqm` in 2015 and 2019, i.e. *(price_per_sqm_2019 - price_per_sqm_2015) / price_per_sqm_2019*. Compute `growth` of various areas in Singapore.\n",
    "- Create a dataframe that contains four columns: `town`, `2015_average`, `2019_average` and `growth`. Print the dataframe sorted in descending order of the growth.\n",
    "\n",
    "\n",
    "\n",
    "<div align=\"right\"> (5 points) </div>"
   ]
  },
  {
   "cell_type": "code",
   "execution_count": null,
   "metadata": {},
   "outputs": [],
   "source": []
  },
  {
   "cell_type": "markdown",
   "metadata": {
    "id": "wGnlvBPXDcOl"
   },
   "source": [
    "We observe that most of the areas have seen a decline in the average resale price, except a few areas. Bukit Timah is considered to be one of the rich neighbourhoods with a large number of landed properties in Singapore. It seems that there has not been any growth in that area. Is this a chance observation or real?\n"
   ]
  },
  {
   "cell_type": "markdown",
   "metadata": {},
   "source": [
    "Which statistical test would you use to validate such a hypothesis?\n",
    "<div align=\"right\"> (1 point) </div>"
   ]
  },
  {
   "cell_type": "markdown",
   "metadata": {},
   "source": []
  },
  {
   "cell_type": "markdown",
   "metadata": {},
   "source": [
    "Conduct the test and print the p-value. What is the inference? Has the average resale price in Bukit Timah really not changed from 2015 to 2019?\n",
    "<div align=\"right\"> (2 points) </div>"
   ]
  },
  {
   "cell_type": "code",
   "execution_count": null,
   "metadata": {
    "id": "BIG6XjKdDcOl"
   },
   "outputs": [],
   "source": []
  },
  {
   "cell_type": "markdown",
   "metadata": {
    "id": "ONuURjkNDcOp"
   },
   "source": [
    "Our growth analysis from 2015 to 2019 is counter-intuitive to the skyrocketted rental prices in the last few months. Is COVID a reason for this bloated market? \n",
    "\n",
    "Redo the analysis for year 2020 to 2021. Print the sorted list ares according to the growth from 2020 to 2021."
   ]
  },
  {
   "cell_type": "code",
   "execution_count": null,
   "metadata": {
    "id": "6aLgu-MPF1rR"
   },
   "outputs": [],
   "source": []
  },
  {
   "cell_type": "markdown",
   "metadata": {},
   "source": [
    "Name the top-3 areas that have seen the maximum growth in the resale prices per square meters from 2020 to 2021.\n",
    "<div align=\"right\"> (1 point) </div>"
   ]
  },
  {
   "cell_type": "markdown",
   "metadata": {},
   "source": []
  },
  {
   "cell_type": "markdown",
   "metadata": {},
   "source": [
    "Do you think COVID is a valid justification for the hike in the resale prices in this area? Please provide your qualitative judgment in 2-3 lines.\n",
    "\n",
    "<div align=\"right\"> (1 point) </div>"
   ]
  },
  {
   "cell_type": "markdown",
   "metadata": {},
   "source": []
  }
 ],
 "metadata": {
  "colab": {
   "collapsed_sections": [],
   "name": "Assignment_1.ipynb",
   "provenance": []
  },
  "kernelspec": {
   "display_name": "Python 3",
   "language": "python",
   "name": "python3"
  },
  "language_info": {
   "codemirror_mode": {
    "name": "ipython",
    "version": 3
   },
   "file_extension": ".py",
   "mimetype": "text/x-python",
   "name": "python",
   "nbconvert_exporter": "python",
   "pygments_lexer": "ipython3",
   "version": "3.8.3"
  }
 },
 "nbformat": 4,
 "nbformat_minor": 1
}
